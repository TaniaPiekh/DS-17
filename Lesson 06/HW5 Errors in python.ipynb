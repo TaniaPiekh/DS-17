{
 "cells":[
  {
   "cell_type":"markdown",
   "source":[
    "Завдання 5\n",
    "Напишіть інструкції, що викликають наступні помилки:\n",
    "- SyntaxError\n",
    "- IndentationError\n",
    "- NameError\n",
    "- IndexError\n",
    "- KeyError\n",
    "- ImportError\n",
    "- AttirbuteError\n",
    "- ZeroDivisionError\n",
    "- RuntimeError"
   ],
   "attachments":{
    
   },
   "metadata":{
    "datalore":{
     "node_id":"hyBd15jhMrgXCYO7lLLaYn",
     "type":"MD",
     "hide_input_from_viewers":false,
     "hide_output_from_viewers":false,
     "report_properties":{
      "y":0
     }
    }
   }
  },
  {
   "cell_type":"code",
   "source":[
    "a = int(input.("
   ],
   "execution_count":3,
   "outputs":[
    {
     "ename":"SyntaxError",
     "evalue":"SyntaxError: invalid syntax",
     "traceback":[
      "\u001b[0;31m---------------------------------------------------------------------------",
      "Traceback (most recent call last)",
      "SyntaxError: invalid syntax"
     ],
     "output_type":"error"
    }
   ],
   "metadata":{
    "datalore":{
     "node_id":"xT88uupLSMw7oYux40obnb",
     "type":"CODE",
     "hide_input_from_viewers":false,
     "hide_output_from_viewers":false,
     "report_properties":{
      "y":9
     }
    }
   }
  },
  {
   "cell_type":"code",
   "source":[
    "if x > 0:\n",
    "print(\"x is positive\")"
   ],
   "execution_count":39,
   "outputs":[
    {
     "ename":"IndentationError",
     "evalue":"IndentationError: expected an indented block",
     "traceback":[
      "\u001b[0;31m---------------------------------------------------------------------------",
      "Traceback (most recent call last)",
      "IndentationError: expected an indented block"
     ],
     "output_type":"error"
    }
   ],
   "metadata":{
    "datalore":{
     "node_id":"ksbfgSO7SQQFEIu5IYnE8I",
     "type":"CODE",
     "hide_input_from_viewers":false,
     "hide_output_from_viewers":false,
     "report_properties":{
      "y":13
     }
    }
   }
  },
  {
   "cell_type":"code",
   "source":[
    "print(round(g))"
   ],
   "execution_count":9,
   "outputs":[
    {
     "ename":"NameError",
     "evalue":"NameError: name 'g' is not defined",
     "traceback":[
      "\u001b[0;31m---------------------------------------------------------------------------",
      "Traceback (most recent call last)",
      "    at line 1 in <module>",
      "NameError: name 'g' is not defined"
     ],
     "output_type":"error"
    }
   ],
   "metadata":{
    "datalore":{
     "node_id":"qqVMYEpB0k9ojQCHRAjS8w",
     "type":"CODE",
     "hide_input_from_viewers":false,
     "hide_output_from_viewers":false,
     "report_properties":{
      "y":17
     }
    }
   }
  },
  {
   "cell_type":"code",
   "source":[
    "list = [1, 5, 8]\n",
    "print(list[3])"
   ],
   "execution_count":41,
   "outputs":[
    {
     "ename":"IndexError",
     "evalue":"IndexError: list index out of range",
     "traceback":[
      "\u001b[0;31m---------------------------------------------------------------------------",
      "Traceback (most recent call last)",
      "    at line 2 in <module>",
      "IndexError: list index out of range"
     ],
     "output_type":"error"
    }
   ],
   "metadata":{
    "datalore":{
     "node_id":"27cnPrHMLIUtBUzsmR0CtE",
     "type":"CODE",
     "hide_input_from_viewers":false,
     "hide_output_from_viewers":false,
     "report_properties":{
      "y":21
     }
    }
   }
  },
  {
   "cell_type":"code",
   "source":[
    "dict = {'a': 1, 'b': 2, 'c': 3}\n",
    "print(dict['d'])"
   ],
   "execution_count":47,
   "outputs":[
    {
     "ename":"KeyError",
     "evalue":"KeyError: 'd'",
     "traceback":[
      "\u001b[0;31m---------------------------------------------------------------------------",
      "Traceback (most recent call last)",
      "    at line 2 in <module>",
      "KeyError: 'd'"
     ],
     "output_type":"error"
    }
   ],
   "metadata":{
    "datalore":{
     "node_id":"TZ6enYPaIflos6ijUYkB2A",
     "type":"CODE",
     "hide_input_from_viewers":false,
     "hide_output_from_viewers":false,
     "report_properties":{
      "y":25
     }
    }
   }
  },
  {
   "cell_type":"code",
   "source":[
    "from math import n"
   ],
   "execution_count":58,
   "outputs":[
    {
     "ename":"ImportError",
     "evalue":"ImportError: cannot import name 'n' from 'math' (\/opt\/python\/lib\/python3.8\/lib-dynload\/math.cpython-38-x86_64-linux-gnu.so)",
     "traceback":[
      "\u001b[0;31m---------------------------------------------------------------------------",
      "Traceback (most recent call last)",
      "    at line 1 in <module>",
      "ImportError: cannot import name 'n' from 'math' (\/opt\/python\/lib\/python3.8\/lib-dynload\/math.cpython-38-x86_64-linux-gnu.so)"
     ],
     "output_type":"error"
    }
   ],
   "metadata":{
    "datalore":{
     "node_id":"7JxNVTAJRMKeHjQBJ5sgfF",
     "type":"CODE",
     "hide_input_from_viewers":false,
     "hide_output_from_viewers":false,
     "report_properties":{
      "y":29
     }
    }
   }
  },
  {
   "cell_type":"code",
   "source":[
    "x  = 6\n",
    "x.reverse()"
   ],
   "execution_count":56,
   "outputs":[
    {
     "ename":"AttributeError",
     "evalue":"AttributeError: 'int' object has no attribute 'reverse'",
     "traceback":[
      "\u001b[0;31m---------------------------------------------------------------------------",
      "Traceback (most recent call last)",
      "    at line 2 in <module>",
      "AttributeError: 'int' object has no attribute 'reverse'"
     ],
     "output_type":"error"
    }
   ],
   "metadata":{
    "datalore":{
     "node_id":"NqclzNcFduFl6r8nQeqqJd",
     "type":"CODE",
     "hide_input_from_viewers":false,
     "hide_output_from_viewers":false,
     "report_properties":{
      "y":34
     }
    }
   }
  },
  {
   "cell_type":"code",
   "source":[
    "b = 100 \/ 0"
   ],
   "execution_count":65,
   "outputs":[
    {
     "ename":"ZeroDivisionError",
     "evalue":"ZeroDivisionError: division by zero",
     "traceback":[
      "\u001b[0;31m---------------------------------------------------------------------------",
      "Traceback (most recent call last)",
      "    at line 1 in <module>",
      "ZeroDivisionError: division by zero"
     ],
     "output_type":"error"
    }
   ],
   "metadata":{
    "datalore":{
     "node_id":"RcG25qhaO6a1J6GM84lUjt",
     "type":"CODE",
     "hide_input_from_viewers":false,
     "hide_output_from_viewers":false,
     "report_properties":{
      "y":38
     }
    }
   }
  }
 ],
 "metadata":{
  "kernelspec":{
   "display_name":"Python",
   "language":"python",
   "name":"python"
  },
  "datalore":{
   "version":1,
   "computation_mode":"JUPYTER",
   "package_manager":"pip",
   "base_environment":"default",
   "packages":[
    
   ]
  }
 },
 "nbformat":4,
 "nbformat_minor":4
}