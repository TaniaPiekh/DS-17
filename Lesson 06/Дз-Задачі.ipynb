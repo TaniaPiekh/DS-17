{
 "cells":[
  {
   "cell_type":"markdown",
   "source":[
    "#### Завдання` 1\n",
    "Написати функцію, яка приймає на вхід список чисел та знаходить найбільше число, яке можна отримати шляхом конкатенації елементів списку. Наприклад, для списку [23, 45, 67], найбільшим числом буде 674523.\n",
    "\n",
    "\n",
    "\n"
   ],
   "attachments":{
    
   },
   "metadata":{
    "datalore":{
     "node_id":"U9RRqVWPHGczDSmTI7aDaD",
     "type":"MD",
     "hide_input_from_viewers":false,
     "hide_output_from_viewers":false
    }
   }
  },
  {
   "cell_type":"code",
   "source":[
    "#Cпосіб 1\n",
    "\n",
    "l = [23, 45, 67]\n",
    "\n",
    "def create_max_number():\n",
    "    l.sort(reverse=True)\n",
    "    for i in range(len(l)):\n",
    "        l[i] = str(l[i])\n",
    "    \n",
    "    number = ''\n",
    "\n",
    "    for i in l:\n",
    "        number = number + i\n",
    "\n",
    "    print(number)\n",
    "\n",
    "create_max_number()"
   ],
   "execution_count":14,
   "outputs":[
    {
     "name":"stdout",
     "text":[
      "674523\n"
     ],
     "output_type":"stream"
    }
   ],
   "metadata":{
    "datalore":{
     "node_id":"JjR4L1LsaxkmKn4y1tPl8x",
     "type":"CODE",
     "hide_input_from_viewers":false,
     "hide_output_from_viewers":false
    }
   }
  },
  {
   "cell_type":"code",
   "source":[
    "#Cпосіб 2\n",
    "\n",
    "def create_max_number1():\n",
    "    number = ''.join(str(i) for i in sorted(l, reverse=True))\n",
    "    print(number)\n",
    "\n",
    "create_max_number1()"
   ],
   "execution_count":16,
   "outputs":[
    {
     "name":"stdout",
     "text":[
      "674523\n"
     ],
     "output_type":"stream"
    }
   ],
   "metadata":{
    "datalore":{
     "node_id":"ZoNuSPTFpexmPBEpjmIaXZ",
     "type":"CODE",
     "hide_input_from_viewers":false,
     "hide_output_from_viewers":false
    }
   }
  },
  {
   "cell_type":"markdown",
   "source":[
    "#### Завдання 2\n",
    "Написати функцію, яка визначає, чи можна побудувати трикутник з трьох сторін, довжини яких задаються параметрами функції. Функція повинна повертати True, якщо такий трикутник можливий, та False - у протилежному випадку."
   ],
   "attachments":{
    
   },
   "metadata":{
    "datalore":{
     "node_id":"mJsBTlTgmxdVwEN8pzfPEt",
     "type":"MD",
     "hide_input_from_viewers":false,
     "hide_output_from_viewers":false
    }
   }
  },
  {
   "cell_type":"code",
   "source":[
    "#Трикутник зі сторонами a, b, c\n",
    "\n",
    "def triangle(a, b, c):\n",
    "\n",
    "    if a + b > c and b + c > a and a + c > b and a * b * c > 0:\n",
    "        print(True)\n",
    "    else:\n",
    "        print(False)\n",
    "\n",
    "# Вносимо значення сторін трикутника\n",
    "a = int(input())\n",
    "b = int(input())\n",
    "c = int(input())\n",
    "\n",
    "# Перевіряємо чи такий трикутник можливий\n",
    "triangle(a, b, c)"
   ],
   "execution_count":24,
   "outputs":[
    {
     "name":"stdout",
     "text":[
      " 5\n",
      " 4\n",
      " 3\n",
      "True\n"
     ],
     "output_type":"stream"
    }
   ],
   "metadata":{
    "datalore":{
     "node_id":"zPdcneBCu92HyHDlP249Ng",
     "type":"CODE",
     "hide_input_from_viewers":false,
     "hide_output_from_viewers":false
    }
   }
  },
  {
   "cell_type":"markdown",
   "source":[
    "#### Завдання 3\n",
    "Написати функцію, яка перетворює рядок у форматі \"camelCase\" на рядок у форматі \"snake_case\". Функція повинна приймати рядок у форматі \"camelCase\" як параметр та повертати рядок у форматі \"snake_case\". Наприклад, для рядка \"myCamelCaseString\" повертається рядок \"my_camel_case_string\"."
   ],
   "attachments":{
    
   },
   "metadata":{
    "datalore":{
     "node_id":"RUefAFIKlTLKRC49i9DSdO",
     "type":"MD",
     "hide_input_from_viewers":false,
     "hide_output_from_viewers":false
    }
   }
  },
  {
   "cell_type":"code",
   "source":[
    "import re\n",
    "\n",
    "\n",
    "def convert_to_snake(sentence):\n",
    "    \n",
    "    words = re.split(r'(?=[A-Z])', sentence)\n",
    "    snake = '_'.join(i.lower() for i in words)\n",
    "\n",
    "    print(snake)\n",
    "\n",
    "    \n",
    "sentence = 'myCamelCaseString'\n",
    "convert_to_snake(sentence)"
   ],
   "execution_count":61,
   "outputs":[
    {
     "name":"stdout",
     "text":[
      "my_camel_case_string\n"
     ],
     "output_type":"stream"
    }
   ],
   "metadata":{
    "datalore":{
     "node_id":"WWGkUeU7THNKmNaqrcWdFO",
     "type":"CODE",
     "hide_input_from_viewers":false,
     "hide_output_from_viewers":false
    }
   }
  }
 ],
 "metadata":{
  "kernelspec":{
   "display_name":"Python",
   "language":"python",
   "name":"python"
  },
  "datalore":{
   "version":1,
   "computation_mode":"JUPYTER",
   "package_manager":"pip",
   "base_environment":"default",
   "packages":[
    
   ]
  }
 },
 "nbformat":4,
 "nbformat_minor":4
}