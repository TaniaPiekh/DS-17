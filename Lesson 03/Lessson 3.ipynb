{
 "cells":[
  {
   "cell_type":"code",
   "source":[
    "#1. Змінити значення змінних\n",
    "x1 = int(input())\n",
    "x2 = int(input())\n",
    "\n",
    "#1.2 Спосіб 2\n",
    "x1, x2 = x2, x1\n",
    "print(x1, x2)\n",
    "\n",
    "#1.3 Спосіб 3\n",
    "z = [x1, x2]\n",
    "print (z[::-1])\n",
    "print"
   ],
   "execution_count":5,
   "outputs":[
    
   ],
   "metadata":{
    "datalore":{
     "node_id":"avgDVZjWpxDtWGIfuyBOtj",
     "type":"CODE",
     "hide_input_from_viewers":false,
     "hide_output_from_viewers":false
    }
   }
  },
  {
   "cell_type":"code",
   "source":[
    "#2. Знайти сумму і добуток сумму і добуток трьохзначного числа\n",
    "\n",
    "a = int(input())\n",
    "first_digit = a \/\/100\n",
    "second_digit = a % 10\n",
    "last_digit = a % 100 \/\/ 10\n",
    "first_digit + second_digit + last_digit\n",
    "first_digit * second_digit * last_digit"
   ],
   "execution_count":10,
   "outputs":[
    
   ],
   "metadata":{
    "datalore":{
     "node_id":"45fyIJh2CFXihBtWO5ArSG",
     "type":"CODE",
     "hide_input_from_viewers":false,
     "hide_output_from_viewers":false
    }
   }
  },
  {
   "cell_type":"code",
   "source":[
    "#3. Обчислити довжину гіпотенузи\n",
    "import math\n",
    "\n",
    "b1 = int(input())\n",
    "b2 = int(input())\n",
    "c = math.sqrt(b1 ** 2 + b2 ** 2)\n",
    "print(c)"
   ],
   "execution_count":1,
   "outputs":[
    
   ],
   "metadata":{
    "datalore":{
     "node_id":"Tjs7lN8vSw5XEcbzrAsFAY",
     "type":"CODE",
     "hide_input_from_viewers":false,
     "hide_output_from_viewers":false
    }
   }
  },
  {
   "cell_type":"code",
   "source":[
    "#5 Користувач вводить дві букви ..\n",
    "\n",
    "letter =int(input())\n",
    "number = ord(letter) - 96\n",
    "print(number)"
   ],
   "execution_count":6,
   "outputs":[
    
   ],
   "metadata":{
    "datalore":{
     "node_id":"3Bts59GNDQk0a0hK55L6F7",
     "type":"CODE",
     "hide_input_from_viewers":false,
     "hide_output_from_viewers":false
    }
   }
  }
 ],
 "metadata":{
  "kernelspec":{
   "display_name":"Python",
   "language":"python",
   "name":"python"
  },
  "datalore":{
   "version":1,
   "computation_mode":"JUPYTER",
   "package_manager":"pip",
   "base_environment":"default",
   "packages":[
    {
     "name":"math3",
     "version":"1.0",
     "source":"PIP"
    },
    {
     "name":"math1",
     "version":"1.0",
     "source":"PIP"
    }
   ]
  }
 },
 "nbformat":4,
 "nbformat_minor":4
}