{
 "cells":[
  {
   "cell_type":"markdown",
   "source":[
    "## 1. Markdown cells\n",
    "* HI! Its Main Academy?\n",
    "* All HTML tabs are supported!\n",
    "* Моя сторінка на лінкедін [Лінкедін](https:\/\/www.linkedin.com\/in\/tatiana-piekh-952347162\/)"
   ],
   "attachments":{
    
   },
   "metadata":{
    "datalore":{
     "node_id":"Knbd3NrMmoUR8Y1Mzv6xw1",
     "type":"MD",
     "hide_input_from_viewers":false,
     "hide_output_from_viewers":false
    }
   }
  },
  {
   "cell_type":"markdown",
   "source":[
    "# This is Heading1\n",
    "## This is Heading2\n",
    "some grey colored text:\n",
    "> This is where we can bring quotes and present them nicely\n",
    "\n",
    "And this is the paragraph about something very important. Even math: $ y_{sub}=\\sqrt(x_{sub})$"
   ],
   "attachments":{
    
   },
   "metadata":{
    "datalore":{
     "node_id":"gnN3t6QHgHnmwUej7TeOn5",
     "type":"MD",
     "hide_input_from_viewers":false,
     "hide_output_from_viewers":false
    }
   }
  },
  {
   "cell_type":"markdown",
   "source":[
    "Or python code, example:"
   ],
   "attachments":{
    
   },
   "metadata":{
    "datalore":{
     "node_id":"QesTjtQkqs5k9mdm2ryryI",
     "type":"MD",
     "hide_input_from_viewers":false,
     "hide_output_from_viewers":false
    }
   }
  },
  {
   "cell_type":"code",
   "source":[
    "import math\n",
    "def foo():\n",
    "    return \"foo\""
   ],
   "execution_count":1,
   "outputs":[
    
   ],
   "metadata":{
    "datalore":{
     "node_id":"1UId6CzBSTXC6xIyRFTG8n",
     "type":"CODE",
     "hide_input_from_viewers":false,
     "hide_output_from_viewers":false
    }
   }
  },
  {
   "cell_type":"markdown",
   "source":[
    "Here is the sample mean:\n",
    "\n",
    "## $\\bar{y} =\\frac{1}{n}\\displaystyle\\sum_{i=1}^{n}y_i$\n",
    "\n",
    "Here is the sample variance:\n",
    "## $\\sigma^2 =\\frac{\\sum\\limits_{i=1}^n(y_i -\\bar{y})^2}{n-1}$\n",
    "\n",
    "Here is the sample standard deviation:\n",
    "## $\\sigma = \\sqrt{\\frac{\\sum\\limits^n_{i=1} (y_i -\\bar{y})^2}{n-1}}$"
   ],
   "attachments":{
    
   },
   "metadata":{
    "datalore":{
     "node_id":"oDiqqSmbYHn9VMql7Z2qC4",
     "type":"MD",
     "hide_input_from_viewers":false,
     "hide_output_from_viewers":false
    }
   }
  },
  {
   "cell_type":"code",
   "source":[
    
   ],
   "execution_count":null,
   "outputs":[
    
   ],
   "metadata":{
    "datalore":{
     "node_id":"GkE2ySg9sjG9yU4rlqyVJ4",
     "type":"CODE",
     "hide_input_from_viewers":false,
     "hide_output_from_viewers":false
    }
   }
  }
 ],
 "metadata":{
  "kernelspec":{
   "display_name":"Python",
   "language":"python",
   "name":"python"
  },
  "datalore":{
   "version":1,
   "computation_mode":"JUPYTER",
   "package_manager":"pip",
   "base_environment":"default",
   "packages":[
    
   ]
  }
 },
 "nbformat":4,
 "nbformat_minor":4
}