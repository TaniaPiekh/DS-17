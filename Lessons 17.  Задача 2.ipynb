{
 "cells":[
  {
   "cell_type":"markdown",
   "source":[
    "### Задача 2\n",
    "Скільки потрібно працівників на роботу в ресторан, якщо один працівник працює 5 днів в тижень. Враховуючи наплив клієнтів, в кожен день тижня потрібна певна к-сть працівників:\n",
    "\n",
    "Д1 = 14\n",
    "\n",
    "Д2 = 13\n",
    "\n",
    "Д3 = 15\n",
    "\n",
    "Д4 = 16\n",
    "\n",
    "Д5 = 19\n",
    "\n",
    "Д6 = 18\n",
    "\n",
    "Д7 = 11\n",
    "\n",
    "Дану задачу можна представити такою системою:\n",
    "\n",
    "![](attachment:.\/Записати.PNG)"
   ],
   "attachments":{
    ".\/Записати.PNG":{
     "image\/png":"[encoded data removed]"
    }
   },
   "metadata":{
    "datalore":{
     "node_id":"9vUMwNFtfRw3YRt6IRClPD",
     "type":"MD",
     "hide_input_from_viewers":true,
     "hide_output_from_viewers":true
    }
   }
  },
  {
   "cell_type":"code",
   "source":[
    "from scipy.optimize import linprog"
   ],
   "execution_count":1,
   "outputs":[
    
   ],
   "metadata":{
    "datalore":{
     "node_id":"EXZ2KArh8JMGaYkEdl9avg",
     "type":"CODE",
     "hide_input_from_viewers":true,
     "hide_output_from_viewers":true
    }
   }
  },
  {
   "cell_type":"code",
   "source":[
    "c = [1, 1, 1, 1, 1, 1, 1]       #Цільова функція зз умовою мінімізації\n",
    "\n",
    "# A_ub - матриця коефіцієнтів обмежень\n",
    "A_ub = [      \n",
    "[-1, 0, 0, -1, -1, -1, -1],\n",
    "[-1, -1, 0, 0, -1, -1, -1],\n",
    "[-1, -1, -1, 0, 0, -1, -1],\n",
    "[-1, -1, -1, -1, 0, 0, -1],\n",
    "[-1, -1, -1, -1, -1, 0, 0],\n",
    "[0, -1, -1, -1, -1, -1, 0],\n",
    "[0, 0, -1, -1, -1, -1, -1]\n",
    "] \n",
    "\n",
    "#b_ub - права частина обмежень-нерівностей, він містить значення обмежень праворуч від знаку нерівності (<=).\n",
    "b_ub = [-14, -13, -15, -16, -19, -18, -11] #оскільки у нас нерівність >= коефіціенти домножуємо на -1"
   ],
   "execution_count":19,
   "outputs":[
    
   ],
   "metadata":{
    "datalore":{
     "node_id":"Nyg6MfQYTi6cxe9uTYZ4HI",
     "type":"CODE",
     "hide_input_from_viewers":true,
     "hide_output_from_viewers":true
    }
   }
  },
  {
   "cell_type":"code",
   "source":[
    "result = linprog(c, A_ub=A_ub, b_ub=b_ub, bounds=(0, None))\n",
    "\n",
    "print(result)"
   ],
   "execution_count":20,
   "outputs":[
    {
     "name":"stdout",
     "text":[
      "        message: Optimization terminated successfully. (HiGHS Status 7: Optimal)\n",
      "        success: True\n",
      "         status: 0\n",
      "            fun: 22.0\n",
      "              x: [ 4.000e+00  3.000e+00  5.000e+00  4.000e+00  3.000e+00\n",
      "                   3.000e+00  0.000e+00]\n",
      "            nit: 6\n",
      "          lower:  residual: [ 4.000e+00  3.000e+00  5.000e+00  4.000e+00\n",
      "                              3.000e+00  3.000e+00  0.000e+00]\n",
      "                 marginals: [ 0.000e+00  0.000e+00  0.000e+00  0.000e+00\n",
      "                              0.000e+00  0.000e+00  3.333e-01]\n",
      "          upper:  residual: [       inf        inf        inf        inf\n",
      "                                    inf        inf        inf]\n",
      "                 marginals: [ 0.000e+00  0.000e+00  0.000e+00  0.000e+00\n",
      "                              0.000e+00  0.000e+00  0.000e+00]\n",
      "          eqlin:  residual: []\n",
      "                 marginals: []\n",
      "        ineqlin:  residual: [ 0.000e+00  0.000e+00  0.000e+00  0.000e+00\n",
      "                              0.000e+00  0.000e+00  4.000e+00]\n",
      "                 marginals: [-3.333e-01 -0.000e+00 -3.333e-01 -0.000e+00\n",
      "                             -3.333e-01 -3.333e-01 -0.000e+00]\n",
      " mip_node_count: 0\n",
      " mip_dual_bound: 0.0\n",
      "        mip_gap: 0.0\n"
     ],
     "output_type":"stream"
    }
   ],
   "metadata":{
    "datalore":{
     "node_id":"ptyFNsGMR8MReCeDvW3RcZ",
     "type":"CODE",
     "hide_input_from_viewers":true,
     "hide_output_from_viewers":true
    }
   }
  },
  {
   "cell_type":"code",
   "source":[
    "print(result.fun)"
   ],
   "execution_count":22,
   "outputs":[
    {
     "name":"stdout",
     "text":[
      "22.0\n"
     ],
     "output_type":"stream"
    }
   ],
   "metadata":{
    "datalore":{
     "node_id":"5H4lO6Kd1IfqR8J7KKRId3",
     "type":"CODE",
     "hide_input_from_viewers":true,
     "hide_output_from_viewers":true
    }
   }
  }
 ],
 "metadata":{
  "kernelspec":{
   "display_name":"Python",
   "language":"python",
   "name":"python"
  },
  "datalore":{
   "computation_mode":"JUPYTER",
   "package_manager":"pip",
   "base_environment":"default",
   "packages":[
    
   ],
   "report_row_ids":[
    
   ],
   "version":3
  }
 },
 "nbformat":4,
 "nbformat_minor":4
}