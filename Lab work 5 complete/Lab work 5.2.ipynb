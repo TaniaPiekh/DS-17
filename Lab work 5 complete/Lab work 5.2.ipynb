{
 "cells":[
  {
   "cell_type":"markdown",
   "source":[
    "___\n",
    "\n",
    "<a href='https:\/\/mainacademy.ua\/'> <img src='https:\/\/mainacademy.ua\/wp-content\/uploads\/2019\/03\/logo-main.png' alt = 'Хмм, щось з інтернетом'\/><\/a>\n",
    "___\n",
    "\n",
    "# Module 5: Data analysis with NumPy and Pandas"
   ],
   "attachments":{
    
   },
   "metadata":{
    "datalore":{
     "node_id":"YqPujjFNgn08uHAyzbS84m",
     "type":"MD",
     "hide_input_from_viewers":false,
     "hide_output_from_viewers":false,
     "report_properties":{
      "rowId":"WNYRYF3imX509rYkU89Ftl"
     }
    }
   }
  },
  {
   "cell_type":"markdown",
   "source":[
    "## Lab work 5.2\n"
   ],
   "attachments":{
    
   },
   "metadata":{
    "datalore":{
     "node_id":"DDWi30b6p62iBf3wNOle1k",
     "type":"MD",
     "hide_input_from_viewers":false,
     "hide_output_from_viewers":false,
     "report_properties":{
      "rowId":"hcdfJ6msC8Ceq9wdpVRakK"
     }
    }
   }
  },
  {
   "cell_type":"markdown",
   "source":[
    "#### Мета: \n",
    "\n",
    "* навчитися працювати із бібліотекою Pandas в Python."
   ],
   "attachments":{
    
   },
   "metadata":{
    "datalore":{
     "node_id":"VNBhFNMEdZdCKPFBeNdX5B",
     "type":"MD",
     "hide_input_from_viewers":false,
     "hide_output_from_viewers":false,
     "report_properties":{
      "rowId":"D3BbGMRQDvj3hfzoW1kUaF"
     }
    }
   }
  },
  {
   "cell_type":"markdown",
   "source":[
    "### Завдання:"
   ],
   "attachments":{
    
   },
   "metadata":{
    "datalore":{
     "node_id":"9tWRiU471CTlDektQXgV9n",
     "type":"MD",
     "hide_input_from_viewers":false,
     "hide_output_from_viewers":false,
     "report_properties":{
      "rowId":"a7KjesV3Nw3QWumb40uGin"
     }
    }
   }
  },
  {
   "cell_type":"code",
   "source":[
    "import pandas as pd"
   ],
   "execution_count":68,
   "outputs":[
    
   ],
   "metadata":{
    "datalore":{
     "node_id":"sLVZDWhQfhh90P4FleBG8O",
     "type":"CODE",
     "hide_input_from_viewers":false,
     "hide_output_from_viewers":false,
     "report_properties":{
      "rowId":"OyX196GUxyhYe8eR7T45jN"
     }
    }
   }
  },
  {
   "cell_type":"markdown",
   "source":[
    "Вивести версію та конфігурацію бібліотеки:"
   ],
   "attachments":{
    
   },
   "metadata":{
    "datalore":{
     "node_id":"izUkCAsJsXdgGdQGMNBEtn",
     "type":"MD",
     "hide_input_from_viewers":false,
     "hide_output_from_viewers":false,
     "report_properties":{
      "rowId":"D3qyLg0QUiqgTWKzz4swtL"
     }
    }
   }
  },
  {
   "cell_type":"code",
   "source":[
    "# Виводимо версію бібліотеки\n",
    "pd.__version__"
   ],
   "execution_count":69,
   "outputs":[
    {
     "data":{
      "text\/plain":[
       "'1.3.5'"
      ]
     },
     "metadata":{
      
     },
     "output_type":"display_data"
    }
   ],
   "metadata":{
    "datalore":{
     "node_id":"VpeXhVR5AnB01kCmZHACIH",
     "type":"CODE",
     "hide_input_from_viewers":false,
     "hide_output_from_viewers":false,
     "report_properties":{
      "rowId":"NxiPVwCJ4rVd2wXPEjZxQ8"
     }
    }
   }
  },
  {
   "cell_type":"code",
   "source":[
    "# Виводимо конфігурацію бібліотеки\n",
    "pd.options.__dict__"
   ],
   "execution_count":70,
   "outputs":[
    {
     "data":{
      "text\/plain":[
       "{'d': {'display': {'date_dayfirst': False,\n",
       "   'date_yearfirst': False,\n",
       "   'encoding': 'UTF-8',\n",
       "   'precision': 6,\n",
       "   'float_format': None,\n",
       "   'column_space': 12,\n",
       "   'max_info_rows': 1690785,\n",
       "   'max_rows': 60,\n",
       "   'min_rows': 10,\n",
       "   'max_categories': 8,\n",
       "   'max_colwidth': 50,\n",
       "   'max_columns': 20,\n",
       "   'large_repr': 'truncate',\n",
       "   'max_info_columns': 100,\n",
       "   'colheader_justify': 'right',\n",
       "   'notebook_repr_html': True,\n",
       "   'pprint_nest_depth': 3,\n",
       "   'multi_sparse': True,\n",
       "   'expand_frame_repr': True,\n",
       "   'show_dimensions': 'truncate',\n",
       "   'chop_threshold': None,\n",
       "   'max_seq_items': 100,\n",
       "   'width': 80,\n",
       "   'memory_usage': True,\n",
       "   'unicode': {'east_asian_width': False, 'ambiguous_as_wide': False},\n",
       "   'latex': {'repr': False,\n",
       "    'escape': True,\n",
       "    'longtable': False,\n",
       "    'multicolumn': True,\n",
       "    'multicolumn_format': 'l',\n",
       "    'multirow': False},\n",
       "   'html': {'table_schema': False, 'border': 1, 'use_mathjax': True}},\n",
       "  'compute': {'use_bottleneck': True, 'use_numexpr': True, 'use_numba': False},\n",
       "  'mode': {'sim_interactive': False,\n",
       "   'use_inf_as_na': False,\n",
       "   'use_inf_as_null': False,\n",
       "   'data_manager': 'block',\n",
       "   'chained_assignment': 'warn',\n",
       "   'string_storage': 'python'},\n",
       "  'io': {'excel': {'xls': {'reader': 'auto', 'writer': 'auto'},\n",
       "    'xlsm': {'reader': 'auto', 'writer': 'auto'},\n",
       "    'xlsx': {'reader': 'auto', 'writer': 'auto'},\n",
       "    'ods': {'reader': 'auto', 'writer': 'auto'},\n",
       "    'xlsb': {'reader': 'auto'}},\n",
       "   'parquet': {'engine': 'auto'},\n",
       "   'sql': {'engine': 'auto'},\n",
       "   'hdf': {'dropna_table': False, 'default_format': None}},\n",
       "  'plotting': {'backend': 'matplotlib',\n",
       "   'matplotlib': {'register_converters': 'auto'}},\n",
       "  'styler': {'sparse': {'index': True, 'columns': True},\n",
       "   'render': {'max_elements': 262144}}},\n",
       " 'prefix': ''}"
      ]
     },
     "metadata":{
      
     },
     "output_type":"display_data"
    }
   ],
   "metadata":{
    "datalore":{
     "node_id":"GJKbzku4G2x1OMAInKUcOV",
     "type":"CODE",
     "hide_input_from_viewers":true,
     "hide_output_from_viewers":true
    }
   }
  },
  {
   "cell_type":"code",
   "source":[
    "#Створюємо датафрейм із файлу\n",
    "df = pd.read_csv('Ecommerce Purchases.csv')"
   ],
   "execution_count":71,
   "outputs":[
    
   ],
   "metadata":{
    "datalore":{
     "node_id":"J56IcnJrlE0LiG8qUpWnbG",
     "type":"CODE",
     "hide_input_from_viewers":false,
     "hide_output_from_viewers":false,
     "report_properties":{
      "rowId":"L6VDpjlo1NlBniBpVd8DCP"
     }
    }
   }
  },
  {
   "cell_type":"markdown",
   "source":[
    "Скільки рядків і стовпців в наборі даних:"
   ],
   "attachments":{
    
   },
   "metadata":{
    "datalore":{
     "node_id":"xnPDrPz1zXJ5daAMdHfzLD",
     "type":"MD",
     "hide_input_from_viewers":false,
     "hide_output_from_viewers":false,
     "report_properties":{
      "rowId":"uUcMp7hbij6HMHXHtUQp91"
     }
    }
   }
  },
  {
   "cell_type":"code",
   "source":[
    "df.shape # показує скільки рядків і стовпців в датафреймі"
   ],
   "execution_count":72,
   "outputs":[
    {
     "data":{
      "text\/plain":[
       "(10000, 14)"
      ]
     },
     "metadata":{
      
     },
     "output_type":"display_data"
    }
   ],
   "metadata":{
    "datalore":{
     "node_id":"IKddOhnxKarUMy9AqbhINv",
     "type":"CODE",
     "hide_input_from_viewers":false,
     "hide_output_from_viewers":false,
     "report_properties":{
      "rowId":"oTQ3K9xIc31BL6Bqm1bmEW"
     }
    }
   }
  },
  {
   "cell_type":"markdown",
   "source":[
    "Перевірити, чи в наборі даних містяться порожні значення:"
   ],
   "attachments":{
    
   },
   "metadata":{
    "datalore":{
     "node_id":"q0Mk2vUlMkS9yWqCaMm43c",
     "type":"MD",
     "hide_input_from_viewers":false,
     "hide_output_from_viewers":false,
     "report_properties":{
      "rowId":"MKDM7y7T67VmVFN4IXeGYz"
     }
    }
   }
  },
  {
   "cell_type":"code",
   "source":[
    "df.isnull().sum() # Отримуємо масив зі суммою порожніх значень по кожному стовпці \n",
    "\n",
    "#Якщо сумма дорівню 0, то порожні значення відсутні"
   ],
   "execution_count":73,
   "outputs":[
    {
     "data":{
      "text\/html":[
       "<pre>Address             0\n",
       "Lot                 0\n",
       "AM or PM            0\n",
       "Browser Info        0\n",
       "Company             0\n",
       "Credit Card         0\n",
       "CC Exp Date         0\n",
       "CC Security Code    0\n",
       "CC Provider         0\n",
       "Email               0\n",
       "Job                 0\n",
       "IP Address          0\n",
       "Language            0\n",
       "Purchase Price      0\n",
       "dtype: int64<\/pre>"
      ]
     },
     "metadata":{
      
     },
     "output_type":"display_data"
    }
   ],
   "metadata":{
    "datalore":{
     "node_id":"uAEmQMGzyESh6SLndUXvAn",
     "type":"CODE",
     "hide_input_from_viewers":false,
     "hide_output_from_viewers":false,
     "report_properties":{
      "rowId":"50IrsRipDgaiykAYvHV0X0"
     }
    }
   }
  },
  {
   "cell_type":"markdown",
   "source":[
    "Яка середня ціна закупки (Purchase Price):"
   ],
   "attachments":{
    
   },
   "metadata":{
    "datalore":{
     "node_id":"opZp0fnZTmxe4eZdfd53st",
     "type":"MD",
     "hide_input_from_viewers":false,
     "hide_output_from_viewers":false,
     "report_properties":{
      "rowId":"tEi2AIKiBcMBzGNirRFvW6"
     }
    }
   }
  },
  {
   "cell_type":"code",
   "source":[
    "df['Purchase Price'].mean() # середнє значення у стовпці (Purchase Price)"
   ],
   "execution_count":74,
   "outputs":[
    {
     "data":{
      "text\/plain":[
       "50.347302"
      ]
     },
     "metadata":{
      
     },
     "output_type":"display_data"
    }
   ],
   "metadata":{
    "datalore":{
     "node_id":"Ngr4Y94oc0beXj9V7lCJp5",
     "type":"CODE",
     "hide_input_from_viewers":false,
     "hide_output_from_viewers":false,
     "report_properties":{
      "rowId":"jeOkrcadD0JA8rtiPb3npl"
     }
    }
   }
  },
  {
   "cell_type":"markdown",
   "source":[
    "Скільки людей користуються англійською мовою \"en\" на веб-сайті:"
   ],
   "attachments":{
    
   },
   "metadata":{
    "datalore":{
     "node_id":"SEgNImS5ZereJbxrFug5fJ",
     "type":"MD",
     "hide_input_from_viewers":false,
     "hide_output_from_viewers":false,
     "report_properties":{
      "rowId":"tX84Lwgjl3zROkS47ccxLn"
     }
    }
   }
  },
  {
   "cell_type":"code",
   "source":[
    "# Вибираємо користувачі що користуються англійською мовою \"en\": df[df['Language'] == 'en']\n",
    "\n",
    "# Кількість рядків буде дорівнювати кількості користувачів які відповідають заданій умові\n",
    "\n",
    "df[df['Language'] == 'en'].shape[0]"
   ],
   "execution_count":75,
   "outputs":[
    {
     "data":{
      "text\/plain":[
       "1098"
      ]
     },
     "metadata":{
      
     },
     "output_type":"display_data"
    }
   ],
   "metadata":{
    "datalore":{
     "node_id":"6YVGAiCI8HdtNkZiNTQwdY",
     "type":"CODE",
     "hide_input_from_viewers":true,
     "hide_output_from_viewers":true
    }
   }
  },
  {
   "cell_type":"code",
   "source":[
    "# 2й спосіб.Порахуємо кількість через функцію value_counts() з індексом індекса 'en'\n",
    "\n",
    "df['Language'].value_counts()['en']"
   ],
   "execution_count":76,
   "outputs":[
    {
     "data":{
      "text\/plain":[
       "1098"
      ]
     },
     "metadata":{
      
     },
     "output_type":"display_data"
    }
   ],
   "metadata":{
    "datalore":{
     "node_id":"S6Wsmu0Mv4K0C4BILTjeZu",
     "type":"CODE",
     "hide_input_from_viewers":true,
     "hide_output_from_viewers":true
    }
   }
  },
  {
   "cell_type":"markdown",
   "source":[
    "Скільки людей має посаду «Lawyer»?"
   ],
   "attachments":{
    
   },
   "metadata":{
    "datalore":{
     "node_id":"OLOkrOX15aaRaVhlgp9szP",
     "type":"MD",
     "hide_input_from_viewers":false,
     "hide_output_from_viewers":false,
     "report_properties":{
      "rowId":"y8b01xqkCs6ao8w5QI4ZTP"
     }
    }
   }
  },
  {
   "cell_type":"code",
   "source":[
    "# Порахуємо кількість через метод value_counts() з індексом індекса 'Lawyer'\n",
    "\n",
    "df['Job'].value_counts()['Lawyer']"
   ],
   "execution_count":77,
   "outputs":[
    {
     "data":{
      "text\/plain":[
       "30"
      ]
     },
     "metadata":{
      
     },
     "output_type":"display_data"
    }
   ],
   "metadata":{
    "datalore":{
     "node_id":"6ls2SrA28SEKSoSJko7r3U",
     "type":"CODE",
     "hide_input_from_viewers":false,
     "hide_output_from_viewers":false,
     "report_properties":{
      "rowId":"kR8ISsEsAc4Z93yLC1dKcd"
     }
    }
   }
  },
  {
   "cell_type":"markdown",
   "source":[
    "Скільки людей зробило покупку вранці та скільки людей зробило покупку після обіду?"
   ],
   "attachments":{
    
   },
   "metadata":{
    "datalore":{
     "node_id":"NjeRW4NhXk1W345d1tb16G",
     "type":"MD",
     "hide_input_from_viewers":false,
     "hide_output_from_viewers":false,
     "report_properties":{
      "rowId":"CFzFEQz5iwZibDTuKrL7PS"
     }
    }
   }
  },
  {
   "cell_type":"code",
   "source":[
    "# Дані про час купівлі у стовпці 'AM or PM'. До обіду -AM, після обіду PM\n",
    "\n",
    "time_of_buy = df['AM or PM'].value_counts() # Метод value_counts повертає серії зі значеннями та їх кількість входження\n",
    "time_of_buy"
   ],
   "execution_count":78,
   "outputs":[
    {
     "data":{
      "text\/html":[
       "<pre>PM    5068\n",
       "AM    4932\n",
       "Name: AM or PM, dtype: int64<\/pre>"
      ]
     },
     "metadata":{
      
     },
     "output_type":"display_data"
    }
   ],
   "metadata":{
    "datalore":{
     "node_id":"uAsHhxykLGhEtUATTcJoAl",
     "type":"CODE",
     "hide_input_from_viewers":false,
     "hide_output_from_viewers":false,
     "report_properties":{
      "rowId":"JWtnO6622BO7Um2FSdYKuM"
     }
    }
   }
  },
  {
   "cell_type":"code",
   "source":[
    "print(f'Кількість людей, що зробило покупку до обіду: {time_of_buy[\"AM\"]}')\n",
    "print(f'Кількість людей, що зробило покупку після обіду: {time_of_buy[\"PM\"]}')"
   ],
   "execution_count":79,
   "outputs":[
    {
     "name":"stdout",
     "text":[
      "Кількість людей, що зробило покупку до обіду: 4932\n",
      "Кількість людей, що зробило покупку після обіду: 5068\n"
     ],
     "output_type":"stream"
    }
   ],
   "metadata":{
    "datalore":{
     "node_id":"8XUWttCZaFVlja8xjMehHx",
     "type":"CODE",
     "hide_input_from_viewers":true,
     "hide_output_from_viewers":true
    }
   }
  },
  {
   "cell_type":"markdown",
   "source":[
    "Які 5 найпоширеніших назв вакансій?"
   ],
   "attachments":{
    
   },
   "metadata":{
    "datalore":{
     "node_id":"PxVBwr4ySns5M9g9VAjglQ",
     "type":"MD",
     "hide_input_from_viewers":false,
     "hide_output_from_viewers":false,
     "report_properties":{
      "rowId":"2EnW7Q2GLrYdAHZi8uAZAi"
     }
    }
   }
  },
  {
   "cell_type":"code",
   "source":[
    "# 1. Застосовуємо метод value_counts(), повертає серію з відсортованими значеннями та їх кількістю від більшого до меншого\n",
    "# 2. Виводимо перші 5 елеметів\n",
    "\n",
    "top5_jobs = df['Job'].value_counts()[:5]\n",
    "top5_jobs"
   ],
   "execution_count":90,
   "outputs":[
    {
     "data":{
      "text\/html":[
       "<pre>Interior and spatial designer    31\n",
       "Lawyer                           30\n",
       "Social researcher                28\n",
       "Purchasing manager               27\n",
       "Designer, jewellery              27\n",
       "Name: Job, dtype: int64<\/pre>"
      ]
     },
     "metadata":{
      
     },
     "output_type":"display_data"
    }
   ],
   "metadata":{
    "datalore":{
     "node_id":"wU5MLaNGITOI0Iwyp3hOZe",
     "type":"CODE",
     "hide_input_from_viewers":false,
     "hide_output_from_viewers":false,
     "report_properties":{
      "rowId":"RKKcCZiiOCSAMyeIJPCThH"
     }
    }
   }
  },
  {
   "cell_type":"code",
   "source":[
    "print(f'Найпоширеніші вакансії: {\"; \".join(top5_jobs.index.tolist())}.')"
   ],
   "execution_count":93,
   "outputs":[
    {
     "name":"stdout",
     "text":[
      "Найпоширеніші вакансії: Interior and spatial designer; Lawyer; Social researcher; Purchasing manager; Designer, jewellery.\n"
     ],
     "output_type":"stream"
    }
   ],
   "metadata":{
    "datalore":{
     "node_id":"3kLBDkNtupKWxsFNRbM02u",
     "type":"CODE",
     "hide_input_from_viewers":true,
     "hide_output_from_viewers":true
    }
   }
  },
  {
   "cell_type":"markdown",
   "source":[
    "Хтось здійснив покупку, яка надійшла від Lot: \"90 Wt\", та якою була ціна придбання для цієї транзакції?"
   ],
   "attachments":{
    
   },
   "metadata":{
    "datalore":{
     "node_id":"dQ2ki7d2lR1WEoGyYYnEhG",
     "type":"MD",
     "hide_input_from_viewers":false,
     "hide_output_from_viewers":false,
     "report_properties":{
      "rowId":"ungRihGpLkdnz2wE4f7sw3"
     }
    }
   }
  },
  {
   "cell_type":"code",
   "source":[
    "# Для вирішенн завдання нам потрбні данні з 2х стовпців: 'Lot','Purchase Price'\n",
    "\n",
    "df.loc[df['Lot'] == '90 WT', ['Purchase Price']]\n",
    "# метод .loc[умова, список стовпців] витягує підмножини даних на основі умов"
   ],
   "execution_count":81,
   "outputs":[
    {
     "data":{
      "text\/html":[
       "<div>\n",
       "<style scoped>\n",
       "    .dataframe tbody tr th:only-of-type {\n",
       "        vertical-align: middle;\n",
       "    }\n",
       "\n",
       "    .dataframe tbody tr th {\n",
       "        vertical-align: top;\n",
       "    }\n",
       "\n",
       "    .dataframe thead th {\n",
       "        text-align: right;\n",
       "    }\n",
       "<\/style>\n",
       "<table border=\"1\" class=\"dataframe\">\n",
       "  <thead>\n",
       "    <tr style=\"text-align: right;\">\n",
       "      <th><\/th>\n",
       "      <th>Purchase Price<\/th>\n",
       "    <\/tr>\n",
       "  <\/thead>\n",
       "  <tbody>\n",
       "    <tr>\n",
       "      <th>513<\/th>\n",
       "      <td>75.1<\/td>\n",
       "    <\/tr>\n",
       "  <\/tbody>\n",
       "<\/table>\n",
       "<\/div>"
      ]
     },
     "metadata":{
      
     },
     "output_type":"display_data"
    }
   ],
   "metadata":{
    "datalore":{
     "node_id":"s1MuAHM6hG3PeZOy3DckKu",
     "type":"CODE",
     "hide_input_from_viewers":false,
     "hide_output_from_viewers":false,
     "report_properties":{
      "rowId":"UjYJgRspIFuWdeOWNgsvpk"
     }
    }
   }
  },
  {
   "cell_type":"markdown",
   "source":[
    "Яка електронна адреса особи з таким номером кредитної картки: 4926535242672853 ?"
   ],
   "attachments":{
    
   },
   "metadata":{
    "datalore":{
     "node_id":"JrGHNCLsTk761kAOPzLTsb",
     "type":"MD",
     "hide_input_from_viewers":false,
     "hide_output_from_viewers":false,
     "report_properties":{
      "rowId":"9yc7CljY6Snau3qYc37LR9"
     }
    }
   }
  },
  {
   "cell_type":"code",
   "source":[
    "df.loc[df['Credit Card'] == 4926535242672853, ['Email']] #значення в стовпці Credit Card - числові"
   ],
   "execution_count":82,
   "outputs":[
    {
     "data":{
      "text\/html":[
       "<div>\n",
       "<style scoped>\n",
       "    .dataframe tbody tr th:only-of-type {\n",
       "        vertical-align: middle;\n",
       "    }\n",
       "\n",
       "    .dataframe tbody tr th {\n",
       "        vertical-align: top;\n",
       "    }\n",
       "\n",
       "    .dataframe thead th {\n",
       "        text-align: right;\n",
       "    }\n",
       "<\/style>\n",
       "<table border=\"1\" class=\"dataframe\">\n",
       "  <thead>\n",
       "    <tr style=\"text-align: right;\">\n",
       "      <th><\/th>\n",
       "      <th>Email<\/th>\n",
       "    <\/tr>\n",
       "  <\/thead>\n",
       "  <tbody>\n",
       "    <tr>\n",
       "      <th>1234<\/th>\n",
       "      <td>bondellen@williams-garza.com<\/td>\n",
       "    <\/tr>\n",
       "  <\/tbody>\n",
       "<\/table>\n",
       "<\/div>"
      ]
     },
     "metadata":{
      
     },
     "output_type":"display_data"
    }
   ],
   "metadata":{
    "datalore":{
     "node_id":"u8ipVwUBVNcbngK3AQEtaN",
     "type":"CODE",
     "hide_input_from_viewers":true,
     "hide_output_from_viewers":true
    }
   }
  },
  {
   "cell_type":"markdown",
   "source":[
    "Скільки людей використовує American Express  і здійснили покупку на суму понад 100 доларів?"
   ],
   "attachments":{
    
   },
   "metadata":{
    "datalore":{
     "node_id":"SEvJwy4O2Ud7qBSJlJral7",
     "type":"MD",
     "hide_input_from_viewers":false,
     "hide_output_from_viewers":false,
     "report_properties":{
      "rowId":"OcjLBxv4n91RV4RkDCOrID"
     }
    }
   }
  },
  {
   "cell_type":"code",
   "source":[
    "# Умову 1: 'Purchase Price' > 100 та Умова 2: ['CC Provider'] == American Express\n",
    "\n",
    "df.loc[(df['Purchase Price'] > 100) & (df['CC Provider'] == 'American Express')]"
   ],
   "execution_count":83,
   "outputs":[
    {
     "data":{
      "text\/html":[
       "<div>\n",
       "<style scoped>\n",
       "    .dataframe tbody tr th:only-of-type {\n",
       "        vertical-align: middle;\n",
       "    }\n",
       "\n",
       "    .dataframe tbody tr th {\n",
       "        vertical-align: top;\n",
       "    }\n",
       "\n",
       "    .dataframe thead th {\n",
       "        text-align: right;\n",
       "    }\n",
       "<\/style>\n",
       "<table border=\"1\" class=\"dataframe\">\n",
       "  <thead>\n",
       "    <tr style=\"text-align: right;\">\n",
       "      <th><\/th>\n",
       "      <th>Address<\/th>\n",
       "      <th>Lot<\/th>\n",
       "      <th>AM or PM<\/th>\n",
       "      <th>Browser Info<\/th>\n",
       "      <th>Company<\/th>\n",
       "      <th>Credit Card<\/th>\n",
       "      <th>CC Exp Date<\/th>\n",
       "      <th>CC Security Code<\/th>\n",
       "      <th>CC Provider<\/th>\n",
       "      <th>Email<\/th>\n",
       "      <th>Job<\/th>\n",
       "      <th>IP Address<\/th>\n",
       "      <th>Language<\/th>\n",
       "      <th>Purchase Price<\/th>\n",
       "    <\/tr>\n",
       "  <\/thead>\n",
       "  <tbody>\n",
       "  <\/tbody>\n",
       "<\/table>\n",
       "<\/div>"
      ]
     },
     "metadata":{
      
     },
     "output_type":"display_data"
    }
   ],
   "metadata":{
    "datalore":{
     "node_id":"d5ZKboTEfuGQLywhO3PrhE",
     "type":"CODE",
     "hide_input_from_viewers":false,
     "hide_output_from_viewers":false,
     "report_properties":{
      "rowId":"AU7l7Fdha0DXA5BD67Wnzj"
     }
    }
   }
  },
  {
   "cell_type":"code",
   "source":[
    "# Порахувати кількість людей які відповідають умовам 1 і 2 одночасно\n",
    "\n",
    "((df['Purchase Price'] > 100) & (df['CC Provider'] == 'American Express')).sum() \n",
    "   \n",
    "   # метод .sum() для підрахунку кількості рядків, які відповідають умовам"
   ],
   "execution_count":84,
   "outputs":[
    {
     "data":{
      "text\/plain":[
       "0"
      ]
     },
     "metadata":{
      
     },
     "output_type":"display_data"
    }
   ],
   "metadata":{
    "datalore":{
     "node_id":"eov0adNkWjJkFVfzwg9eXq",
     "type":"CODE",
     "hide_input_from_viewers":true,
     "hide_output_from_viewers":true
    }
   }
  },
  {
   "cell_type":"code",
   "source":[
    "# Максимальна сумма покупки 99.99, тому кількість людей, що відповідають умові дорівнює 0\n",
    "df['Purchase Price'].max()"
   ],
   "execution_count":85,
   "outputs":[
    {
     "data":{
      "text\/plain":[
       "99.99"
      ]
     },
     "metadata":{
      
     },
     "output_type":"display_data"
    }
   ],
   "metadata":{
    "datalore":{
     "node_id":"UtSAn6GZetgBd4JaTDElPW",
     "type":"CODE",
     "hide_input_from_viewers":true,
     "hide_output_from_viewers":true
    }
   }
  },
  {
   "cell_type":"markdown",
   "source":[
    "Скільки людей мають кредитну картку, термін дії якої закінчується в 2025 році?"
   ],
   "attachments":{
    
   },
   "metadata":{
    "datalore":{
     "node_id":"Ko7L6oAZad91XbNBNW2sby",
     "type":"MD",
     "hide_input_from_viewers":false,
     "hide_output_from_viewers":false,
     "report_properties":{
      "rowId":"kVm1nD0yn7DpSLHMFnFL7D"
     }
    }
   }
  },
  {
   "cell_type":"code",
   "source":[
    "# Перетворення стовпця 'CC Exp Date' у тип datetime за допомогою методу pd.to_datetime():\n",
    "\n",
    "df['CC Exp Date'] = pd.to_datetime(df['CC Exp Date'], format='%m\/%y')\n",
    "\n",
    "# Вибиремо ті значення для яких термін дії CC Exp Date закінчується в 2025 році\n",
    "cards_2025 = df[df['CC Exp Date'].dt.year == 2025]\n",
    "\n",
    "# Визначаємо кількість людей за стовпцем 'Email' \n",
    "\n",
    "unique_customers = cards_2025['Email'].nunique()\n",
    "\n",
    "print(unique_customers)"
   ],
   "execution_count":86,
   "outputs":[
    {
     "name":"stdout",
     "text":[
      "1032\n"
     ],
     "output_type":"stream"
    }
   ],
   "metadata":{
    "datalore":{
     "node_id":"vjsNddwIZxu93r39FiD7v6",
     "type":"CODE",
     "hide_input_from_viewers":true,
     "hide_output_from_viewers":true
    }
   }
  },
  {
   "cell_type":"markdown",
   "source":[
    "Які найкращі 5 найпопулярніших постачальників \/ хостів електронної пошти (наприклад, gmail.com, yahoo.com тощо ...)."
   ],
   "attachments":{
    
   },
   "metadata":{
    "datalore":{
     "node_id":"uGFO8pLkNFDPQfjFUtOmvT",
     "type":"MD",
     "hide_input_from_viewers":false,
     "hide_output_from_viewers":false,
     "report_properties":{
      "rowId":"uUkJHIHpZcaeMZcjKpWnX4"
     }
    }
   }
  },
  {
   "cell_type":"code",
   "source":[
    "# Створити новий стовпець для назв хостів df['Domains']\n",
    "\n",
    "  #1. Розділяємо рядки зі стовпця ['Email'] за символом \"@\"\n",
    "\n",
    "df['Domains'] = df['Email'].str.split('@')\n",
    "\n",
    "  #2. Залишаємо в стовпці лише рядок після '@'\n",
    "\n",
    "df['Domains'] = df['Domains'].apply(lambda x: x[-1])\n",
    "\n",
    "# Визначити найпопулярніших завдяки .value_counts()\n",
    "\n",
    "top5_domains = df['Domains'].value_counts()[:5]\n",
    "top5_domains"
   ],
   "execution_count":87,
   "outputs":[
    {
     "data":{
      "text\/html":[
       "<pre>hotmail.com     1638\n",
       "yahoo.com       1616\n",
       "gmail.com       1605\n",
       "smith.com         42\n",
       "williams.com      37\n",
       "Name: Domains, dtype: int64<\/pre>"
      ]
     },
     "metadata":{
      
     },
     "output_type":"display_data"
    }
   ],
   "metadata":{
    "datalore":{
     "node_id":"dNnaB3R2cBXt9uEuKxfvtH",
     "type":"CODE",
     "hide_input_from_viewers":false,
     "hide_output_from_viewers":false,
     "report_properties":{
      "rowId":"Az34Zy4lUtw4XdusGqQEWL"
     }
    }
   }
  },
  {
   "cell_type":"code",
   "source":[
    "print(f'Найпопулярніші хости електроної пошти: {\", \".join(top5_domains.index.tolist())}.')"
   ],
   "execution_count":94,
   "outputs":[
    {
     "name":"stdout",
     "text":[
      "Найпопулярніші хости електроної пошти: hotmail.com, yahoo.com, gmail.com, smith.com, williams.com.\n"
     ],
     "output_type":"stream"
    }
   ],
   "metadata":{
    "datalore":{
     "node_id":"hLcdxA00Fo6Y1rWIhM0kSj",
     "type":"CODE",
     "hide_input_from_viewers":true,
     "hide_output_from_viewers":true
    }
   }
  },
  {
   "cell_type":"markdown",
   "source":[
    "Виведіть зведену таблицю по браузерах(Browser Info), посаді(Job), та кількості транзакцій :"
   ],
   "attachments":{
    
   },
   "metadata":{
    "datalore":{
     "node_id":"TJqsKWIprzeeJg1HjWi4ek",
     "type":"MD",
     "hide_input_from_viewers":false,
     "hide_output_from_viewers":false,
     "report_properties":{
      "rowId":"qb6tCRz5wbPRZJF13rjEYo"
     }
    }
   }
  },
  {
   "cell_type":"code",
   "source":[
    "#Групуємо рядки зі стовпців Browser Info та Job\n",
    "df.groupby(['Browser Info','Job']).count()"
   ],
   "execution_count":57,
   "outputs":[
    {
     "data":{
      "text\/html":[
       "<div>\n",
       "<style scoped>\n",
       "    .dataframe tbody tr th:only-of-type {\n",
       "        vertical-align: middle;\n",
       "    }\n",
       "\n",
       "    .dataframe tbody tr th {\n",
       "        vertical-align: top;\n",
       "    }\n",
       "\n",
       "    .dataframe thead th {\n",
       "        text-align: right;\n",
       "    }\n",
       "<\/style>\n",
       "<table border=\"1\" class=\"dataframe\">\n",
       "  <thead>\n",
       "    <tr style=\"text-align: right;\">\n",
       "      <th><\/th>\n",
       "      <th><\/th>\n",
       "      <th>Address<\/th>\n",
       "      <th>Lot<\/th>\n",
       "      <th>AM or PM<\/th>\n",
       "      <th>Company<\/th>\n",
       "      <th>Credit Card<\/th>\n",
       "      <th>CC Exp Date<\/th>\n",
       "      <th>CC Security Code<\/th>\n",
       "      <th>CC Provider<\/th>\n",
       "      <th>Email<\/th>\n",
       "      <th>IP Address<\/th>\n",
       "      <th>Language<\/th>\n",
       "      <th>Purchase Price<\/th>\n",
       "      <th>Domains<\/th>\n",
       "    <\/tr>\n",
       "    <tr>\n",
       "      <th>Browser Info<\/th>\n",
       "      <th>Job<\/th>\n",
       "      <th><\/th>\n",
       "      <th><\/th>\n",
       "      <th><\/th>\n",
       "      <th><\/th>\n",
       "      <th><\/th>\n",
       "      <th><\/th>\n",
       "      <th><\/th>\n",
       "      <th><\/th>\n",
       "      <th><\/th>\n",
       "      <th><\/th>\n",
       "      <th><\/th>\n",
       "      <th><\/th>\n",
       "      <th><\/th>\n",
       "    <\/tr>\n",
       "  <\/thead>\n",
       "  <tbody>\n",
       "    <tr>\n",
       "      <th>Mozilla\/5.0 (Macintosh; Intel Mac OS X 10_5_0 rv:2.0; sl-SI) AppleWebKit\/533.25.6 (KHTML, like Gecko) Version\/4.0 Safari\/533.25.6<\/th>\n",
       "      <th>Psychotherapist, dance movement<\/th>\n",
       "      <td>1<\/td>\n",
       "      <td>1<\/td>\n",
       "      <td>1<\/td>\n",
       "      <td>1<\/td>\n",
       "      <td>1<\/td>\n",
       "      <td>1<\/td>\n",
       "      <td>1<\/td>\n",
       "      <td>1<\/td>\n",
       "      <td>1<\/td>\n",
       "      <td>1<\/td>\n",
       "      <td>1<\/td>\n",
       "      <td>1<\/td>\n",
       "      <td>1<\/td>\n",
       "    <\/tr>\n",
       "    <tr>\n",
       "      <th>Mozilla\/5.0 (Macintosh; Intel Mac OS X 10_5_0 rv:4.0; en-US) AppleWebKit\/535.34.7 (KHTML, like Gecko) Version\/5.0 Safari\/535.34.7<\/th>\n",
       "      <th>Retail merchandiser<\/th>\n",
       "      <td>1<\/td>\n",
       "      <td>1<\/td>\n",
       "      <td>1<\/td>\n",
       "      <td>1<\/td>\n",
       "      <td>1<\/td>\n",
       "      <td>1<\/td>\n",
       "      <td>1<\/td>\n",
       "      <td>1<\/td>\n",
       "      <td>1<\/td>\n",
       "      <td>1<\/td>\n",
       "      <td>1<\/td>\n",
       "      <td>1<\/td>\n",
       "      <td>1<\/td>\n",
       "    <\/tr>\n",
       "    <tr>\n",
       "      <th>Mozilla\/5.0 (Macintosh; Intel Mac OS X 10_5_0 rv:5.0; sl-SI) AppleWebKit\/532.10.4 (KHTML, like Gecko) Version\/5.0.2 Safari\/532.10.4<\/th>\n",
       "      <th>Firefighter<\/th>\n",
       "      <td>1<\/td>\n",
       "      <td>1<\/td>\n",
       "      <td>1<\/td>\n",
       "      <td>1<\/td>\n",
       "      <td>1<\/td>\n",
       "      <td>1<\/td>\n",
       "      <td>1<\/td>\n",
       "      <td>1<\/td>\n",
       "      <td>1<\/td>\n",
       "      <td>1<\/td>\n",
       "      <td>1<\/td>\n",
       "      <td>1<\/td>\n",
       "      <td>1<\/td>\n",
       "    <\/tr>\n",
       "    <tr>\n",
       "      <th>Mozilla\/5.0 (Macintosh; Intel Mac OS X 10_5_0 rv:6.0; en-US) AppleWebKit\/533.45.4 (KHTML, like Gecko) Version\/4.1 Safari\/533.45.4<\/th>\n",
       "      <th>Broadcast presenter<\/th>\n",
       "      <td>1<\/td>\n",
       "      <td>1<\/td>\n",
       "      <td>1<\/td>\n",
       "      <td>1<\/td>\n",
       "      <td>1<\/td>\n",
       "      <td>1<\/td>\n",
       "      <td>1<\/td>\n",
       "      <td>1<\/td>\n",
       "      <td>1<\/td>\n",
       "      <td>1<\/td>\n",
       "      <td>1<\/td>\n",
       "      <td>1<\/td>\n",
       "      <td>1<\/td>\n",
       "    <\/tr>\n",
       "    <tr>\n",
       "      <th>Mozilla\/5.0 (Macintosh; Intel Mac OS X 10_5_0) AppleWebKit\/5321 (KHTML, like Gecko) Chrome\/14.0.824.0 Safari\/5321<\/th>\n",
       "      <th>Development worker, international aid<\/th>\n",
       "      <td>1<\/td>\n",
       "      <td>1<\/td>\n",
       "      <td>1<\/td>\n",
       "      <td>1<\/td>\n",
       "      <td>1<\/td>\n",
       "      <td>1<\/td>\n",
       "      <td>1<\/td>\n",
       "      <td>1<\/td>\n",
       "      <td>1<\/td>\n",
       "      <td>1<\/td>\n",
       "      <td>1<\/td>\n",
       "      <td>1<\/td>\n",
       "      <td>1<\/td>\n",
       "    <\/tr>\n",
       "    <tr>\n",
       "      <th>...<\/th>\n",
       "      <th>...<\/th>\n",
       "      <td>...<\/td>\n",
       "      <td>...<\/td>\n",
       "      <td>...<\/td>\n",
       "      <td>...<\/td>\n",
       "      <td>...<\/td>\n",
       "      <td>...<\/td>\n",
       "      <td>...<\/td>\n",
       "      <td>...<\/td>\n",
       "      <td>...<\/td>\n",
       "      <td>...<\/td>\n",
       "      <td>...<\/td>\n",
       "      <td>...<\/td>\n",
       "      <td>...<\/td>\n",
       "    <\/tr>\n",
       "    <tr>\n",
       "      <th>Opera\/9.99.(X11; Linux i686; sl-SI) Presto\/2.9.186 Version\/12.00<\/th>\n",
       "      <th>Company secretary<\/th>\n",
       "      <td>1<\/td>\n",
       "      <td>1<\/td>\n",
       "      <td>1<\/td>\n",
       "      <td>1<\/td>\n",
       "      <td>1<\/td>\n",
       "      <td>1<\/td>\n",
       "      <td>1<\/td>\n",
       "      <td>1<\/td>\n",
       "      <td>1<\/td>\n",
       "      <td>1<\/td>\n",
       "      <td>1<\/td>\n",
       "      <td>1<\/td>\n",
       "      <td>1<\/td>\n",
       "    <\/tr>\n",
       "    <tr>\n",
       "      <th>Opera\/9.99.(X11; Linux x86_64; en-US) Presto\/2.9.172 Version\/12.00<\/th>\n",
       "      <th>Dramatherapist<\/th>\n",
       "      <td>1<\/td>\n",
       "      <td>1<\/td>\n",
       "      <td>1<\/td>\n",
       "      <td>1<\/td>\n",
       "      <td>1<\/td>\n",
       "      <td>1<\/td>\n",
       "      <td>1<\/td>\n",
       "      <td>1<\/td>\n",
       "      <td>1<\/td>\n",
       "      <td>1<\/td>\n",
       "      <td>1<\/td>\n",
       "      <td>1<\/td>\n",
       "      <td>1<\/td>\n",
       "    <\/tr>\n",
       "    <tr>\n",
       "      <th>Opera\/9.99.(X11; Linux x86_64; en-US) Presto\/2.9.176 Version\/10.00<\/th>\n",
       "      <th>Private music teacher<\/th>\n",
       "      <td>1<\/td>\n",
       "      <td>1<\/td>\n",
       "      <td>1<\/td>\n",
       "      <td>1<\/td>\n",
       "      <td>1<\/td>\n",
       "      <td>1<\/td>\n",
       "      <td>1<\/td>\n",
       "      <td>1<\/td>\n",
       "      <td>1<\/td>\n",
       "      <td>1<\/td>\n",
       "      <td>1<\/td>\n",
       "      <td>1<\/td>\n",
       "      <td>1<\/td>\n",
       "    <\/tr>\n",
       "    <tr>\n",
       "      <th>Opera\/9.99.(X11; Linux x86_64; it-IT) Presto\/2.9.164 Version\/10.00<\/th>\n",
       "      <th>Hotel manager<\/th>\n",
       "      <td>1<\/td>\n",
       "      <td>1<\/td>\n",
       "      <td>1<\/td>\n",
       "      <td>1<\/td>\n",
       "      <td>1<\/td>\n",
       "      <td>1<\/td>\n",
       "      <td>1<\/td>\n",
       "      <td>1<\/td>\n",
       "      <td>1<\/td>\n",
       "      <td>1<\/td>\n",
       "      <td>1<\/td>\n",
       "      <td>1<\/td>\n",
       "      <td>1<\/td>\n",
       "    <\/tr>\n",
       "    <tr>\n",
       "      <th>Opera\/9.99.(X11; Linux x86_64; it-IT) Presto\/2.9.190 Version\/11.00<\/th>\n",
       "      <th>Scientist, forensic<\/th>\n",
       "      <td>1<\/td>\n",
       "      <td>1<\/td>\n",
       "      <td>1<\/td>\n",
       "      <td>1<\/td>\n",
       "      <td>1<\/td>\n",
       "      <td>1<\/td>\n",
       "      <td>1<\/td>\n",
       "      <td>1<\/td>\n",
       "      <td>1<\/td>\n",
       "      <td>1<\/td>\n",
       "      <td>1<\/td>\n",
       "      <td>1<\/td>\n",
       "      <td>1<\/td>\n",
       "    <\/tr>\n",
       "  <\/tbody>\n",
       "<\/table>\n",
       "<p>9989 rows × 13 columns<\/p>\n",
       "<\/div>"
      ]
     },
     "metadata":{
      
     },
     "output_type":"display_data"
    }
   ],
   "metadata":{
    "datalore":{
     "node_id":"r1g5ar4FTs1HMQTDyYlUzW",
     "type":"CODE",
     "hide_input_from_viewers":true,
     "hide_output_from_viewers":true
    }
   }
  },
  {
   "cell_type":"markdown",
   "source":[
    "Створіть нову колонку \"Actual price\", яка утворюється із \"Purchase Price\" та націнки за принципом:\n",
    "- якщо \"Purchase Price\" > 50, націнка 20%\n",
    "- якщо \"Purchase Price\" > 100, націнка 10%\n",
    "- в інших випадках націнка 30%\n",
    "   "
   ],
   "attachments":{
    
   },
   "metadata":{
    "datalore":{
     "node_id":"fu9IcInwT0WRVg9wyHGYqp",
     "type":"MD",
     "hide_input_from_viewers":false,
     "hide_output_from_viewers":false,
     "report_properties":{
      "rowId":"vfFxEdcCBUkfNASH2DtsXA"
     }
    }
   }
  },
  {
   "cell_type":"code",
   "source":[
    "# Створюємонову колонку \"Actual price\" та аписуємо умови методом apply()\n",
    "\n",
    "df['Actual price'] = df['Purchase Price'].apply(lambda x: x * 1.2 if x> 50 else (x * 1.1 if x > 100 else x * 1.3))\n",
    "df['Actual price']"
   ],
   "execution_count":97,
   "outputs":[
    {
     "data":{
      "text\/html":[
       "<pre>0       117.768\n",
       "1        84.876\n",
       "2         1.235\n",
       "3        93.648\n",
       "4        93.384\n",
       "         ...   \n",
       "9995     98.652\n",
       "9996     33.319\n",
       "9997    100.776\n",
       "9998     50.492\n",
       "9999     81.108\n",
       "Name: Actual price, Length: 10000, dtype: float64<\/pre>"
      ]
     },
     "metadata":{
      
     },
     "output_type":"display_data"
    }
   ],
   "metadata":{
    "datalore":{
     "node_id":"Xm3w5ipoOdbGcsdbA8T5yL",
     "type":"CODE",
     "hide_input_from_viewers":true,
     "hide_output_from_viewers":true
    }
   }
  },
  {
   "cell_type":"code",
   "source":[
    "df['Actual price'] = df['Actual price'].round(2) #округлюємо до двох знаків після коми через метод round()\n",
    "df[['Purchase Price','Actual price']]"
   ],
   "execution_count":99,
   "outputs":[
    {
     "data":{
      "text\/html":[
       "<div>\n",
       "<style scoped>\n",
       "    .dataframe tbody tr th:only-of-type {\n",
       "        vertical-align: middle;\n",
       "    }\n",
       "\n",
       "    .dataframe tbody tr th {\n",
       "        vertical-align: top;\n",
       "    }\n",
       "\n",
       "    .dataframe thead th {\n",
       "        text-align: right;\n",
       "    }\n",
       "<\/style>\n",
       "<table border=\"1\" class=\"dataframe\">\n",
       "  <thead>\n",
       "    <tr style=\"text-align: right;\">\n",
       "      <th><\/th>\n",
       "      <th>Purchase Price<\/th>\n",
       "      <th>Actual price<\/th>\n",
       "    <\/tr>\n",
       "  <\/thead>\n",
       "  <tbody>\n",
       "    <tr>\n",
       "      <th>0<\/th>\n",
       "      <td>98.14<\/td>\n",
       "      <td>117.77<\/td>\n",
       "    <\/tr>\n",
       "    <tr>\n",
       "      <th>1<\/th>\n",
       "      <td>70.73<\/td>\n",
       "      <td>84.88<\/td>\n",
       "    <\/tr>\n",
       "    <tr>\n",
       "      <th>2<\/th>\n",
       "      <td>0.95<\/td>\n",
       "      <td>1.23<\/td>\n",
       "    <\/tr>\n",
       "    <tr>\n",
       "      <th>3<\/th>\n",
       "      <td>78.04<\/td>\n",
       "      <td>93.65<\/td>\n",
       "    <\/tr>\n",
       "    <tr>\n",
       "      <th>4<\/th>\n",
       "      <td>77.82<\/td>\n",
       "      <td>93.38<\/td>\n",
       "    <\/tr>\n",
       "    <tr>\n",
       "      <th>...<\/th>\n",
       "      <td>...<\/td>\n",
       "      <td>...<\/td>\n",
       "    <\/tr>\n",
       "    <tr>\n",
       "      <th>9995<\/th>\n",
       "      <td>82.21<\/td>\n",
       "      <td>98.65<\/td>\n",
       "    <\/tr>\n",
       "    <tr>\n",
       "      <th>9996<\/th>\n",
       "      <td>25.63<\/td>\n",
       "      <td>33.32<\/td>\n",
       "    <\/tr>\n",
       "    <tr>\n",
       "      <th>9997<\/th>\n",
       "      <td>83.98<\/td>\n",
       "      <td>100.78<\/td>\n",
       "    <\/tr>\n",
       "    <tr>\n",
       "      <th>9998<\/th>\n",
       "      <td>38.84<\/td>\n",
       "      <td>50.49<\/td>\n",
       "    <\/tr>\n",
       "    <tr>\n",
       "      <th>9999<\/th>\n",
       "      <td>67.59<\/td>\n",
       "      <td>81.11<\/td>\n",
       "    <\/tr>\n",
       "  <\/tbody>\n",
       "<\/table>\n",
       "<p>10000 rows × 2 columns<\/p>\n",
       "<\/div>"
      ]
     },
     "metadata":{
      
     },
     "output_type":"display_data"
    }
   ],
   "metadata":{
    "datalore":{
     "node_id":"SWzEe6POZM3iVItjCnxoA7",
     "type":"CODE",
     "hide_input_from_viewers":true,
     "hide_output_from_viewers":true
    }
   }
  },
  {
   "cell_type":"markdown",
   "source":[
    "Зробіть рангування набору даних по \"Language\" та \"Actual price\" в порядку спадання ціни.\n",
    "\n",
    "https:\/\/pandas.pydata.org\/pandas-docs\/stable\/reference\/api\/pandas.DataFrame.rank.html"
   ],
   "attachments":{
    
   },
   "metadata":{
    "datalore":{
     "node_id":"L5YWeNooKpGqX5hHAW4SXc",
     "type":"MD",
     "hide_input_from_viewers":false,
     "hide_output_from_viewers":false,
     "report_properties":{
      "rowId":"cLdZqvrEf4vRuCU7VePWDr"
     }
    }
   }
  },
  {
   "cell_type":"code",
   "source":[
    "df['Rank'] = df.groupby('Language')['Actual price'].rank(method='min', ascending=False)\n",
    "\n",
    "#method= dense - ранг завжди збільшується на 1 \n",
    "# ascending=False - порядок спадання\n",
    "\n",
    "df[['Language', 'Actual price', 'Rank']]"
   ],
   "execution_count":100,
   "outputs":[
    {
     "data":{
      "text\/html":[
       "<div>\n",
       "<style scoped>\n",
       "    .dataframe tbody tr th:only-of-type {\n",
       "        vertical-align: middle;\n",
       "    }\n",
       "\n",
       "    .dataframe tbody tr th {\n",
       "        vertical-align: top;\n",
       "    }\n",
       "\n",
       "    .dataframe thead th {\n",
       "        text-align: right;\n",
       "    }\n",
       "<\/style>\n",
       "<table border=\"1\" class=\"dataframe\">\n",
       "  <thead>\n",
       "    <tr style=\"text-align: right;\">\n",
       "      <th><\/th>\n",
       "      <th>Language<\/th>\n",
       "      <th>Actual price<\/th>\n",
       "      <th>Rank<\/th>\n",
       "    <\/tr>\n",
       "  <\/thead>\n",
       "  <tbody>\n",
       "    <tr>\n",
       "      <th>0<\/th>\n",
       "      <td>el<\/td>\n",
       "      <td>117.77<\/td>\n",
       "      <td>27.0<\/td>\n",
       "    <\/tr>\n",
       "    <tr>\n",
       "      <th>1<\/th>\n",
       "      <td>fr<\/td>\n",
       "      <td>84.88<\/td>\n",
       "      <td>327.0<\/td>\n",
       "    <\/tr>\n",
       "    <tr>\n",
       "      <th>2<\/th>\n",
       "      <td>de<\/td>\n",
       "      <td>1.23<\/td>\n",
       "      <td>1143.0<\/td>\n",
       "    <\/tr>\n",
       "    <tr>\n",
       "      <th>3<\/th>\n",
       "      <td>es<\/td>\n",
       "      <td>93.65<\/td>\n",
       "      <td>239.0<\/td>\n",
       "    <\/tr>\n",
       "    <tr>\n",
       "      <th>4<\/th>\n",
       "      <td>es<\/td>\n",
       "      <td>93.38<\/td>\n",
       "      <td>244.0<\/td>\n",
       "    <\/tr>\n",
       "    <tr>\n",
       "      <th>...<\/th>\n",
       "      <td>...<\/td>\n",
       "      <td>...<\/td>\n",
       "      <td>...<\/td>\n",
       "    <\/tr>\n",
       "    <tr>\n",
       "      <th>9995<\/th>\n",
       "      <td>it<\/td>\n",
       "      <td>98.65<\/td>\n",
       "      <td>202.0<\/td>\n",
       "    <\/tr>\n",
       "    <tr>\n",
       "      <th>9996<\/th>\n",
       "      <td>pt<\/td>\n",
       "      <td>33.32<\/td>\n",
       "      <td>858.0<\/td>\n",
       "    <\/tr>\n",
       "    <tr>\n",
       "      <th>9997<\/th>\n",
       "      <td>el<\/td>\n",
       "      <td>100.78<\/td>\n",
       "      <td>193.0<\/td>\n",
       "    <\/tr>\n",
       "    <tr>\n",
       "      <th>9998<\/th>\n",
       "      <td>es<\/td>\n",
       "      <td>50.49<\/td>\n",
       "      <td>640.0<\/td>\n",
       "    <\/tr>\n",
       "    <tr>\n",
       "      <th>9999<\/th>\n",
       "      <td>el<\/td>\n",
       "      <td>81.11<\/td>\n",
       "      <td>385.0<\/td>\n",
       "    <\/tr>\n",
       "  <\/tbody>\n",
       "<\/table>\n",
       "<p>10000 rows × 3 columns<\/p>\n",
       "<\/div>"
      ]
     },
     "metadata":{
      
     },
     "output_type":"display_data"
    }
   ],
   "metadata":{
    "datalore":{
     "node_id":"eWJR3R0fdCOhruiTpaUbXs",
     "type":"CODE",
     "hide_input_from_viewers":false,
     "hide_output_from_viewers":false,
     "report_properties":{
      "rowId":"JCrJL6EGIkMQwoPeXwJ5Fs"
     }
    }
   }
  },
  {
   "cell_type":"markdown",
   "source":[
    "Колонку \"Language\" (категоріальна змінна) \"закодуйте\", тобто утворити індикаторні колоник. В наборі не повинна залишитися колонка \"Language\".\n",
    "\n",
    "https:\/\/pandas.pydata.org\/pandas-docs\/stable\/reference\/api\/pandas.DataFrame.rank.html"
   ],
   "attachments":{
    
   },
   "metadata":{
    "datalore":{
     "node_id":"bmGV2b9G7d1TOSEkFRc07L",
     "type":"MD",
     "hide_input_from_viewers":false,
     "hide_output_from_viewers":false,
     "report_properties":{
      "rowId":"8YlxQPL2jx99KcOWpJTINo"
     }
    }
   }
  },
  {
   "cell_type":"code",
   "source":[
    "# Cтворює індикаторну колонку на основі стовпця 'Language\n",
    "ind = pd.get_dummies(df['Language'], prefix='Language')\n",
    "\n",
    "#Об'єднюємо закодовану таблицю ind з початковою через метод .concat\n",
    "df = pd.concat([df, ind], axis=1)\n",
    "\n",
    "# Видаляємо колонку \"Language\"\n",
    "df = df.drop('Language', axis=1)\n"
   ],
   "execution_count":101,
   "outputs":[
    
   ],
   "metadata":{
    "datalore":{
     "node_id":"EbaYgQvHmxBcqBrLiPEDjO",
     "type":"CODE",
     "hide_input_from_viewers":false,
     "hide_output_from_viewers":false,
     "report_properties":{
      "rowId":"yWavCGzHMTFTzsNPAOvalq"
     }
    }
   }
  },
  {
   "cell_type":"markdown",
   "source":[
    "Кінцевий набір даних збережіть у файл з розширенням csv."
   ],
   "attachments":{
    
   },
   "metadata":{
    "datalore":{
     "node_id":"otsrrKis9q0quBCA22seo8",
     "type":"MD",
     "hide_input_from_viewers":false,
     "hide_output_from_viewers":false,
     "report_properties":{
      "rowId":"7rQeNPYsWzmYcOfyf2AKd4"
     }
    }
   }
  },
  {
   "cell_type":"code",
   "source":[
    "df.to_csv('LabWork_5.2.csv', index=False)"
   ],
   "execution_count":104,
   "outputs":[
    
   ],
   "metadata":{
    "datalore":{
     "node_id":"qU58xW1wGZSAODBgsup2Lk",
     "type":"CODE",
     "hide_input_from_viewers":false,
     "hide_output_from_viewers":false,
     "report_properties":{
      "rowId":"42Evpc9c5HQyLXIpLcshkB"
     }
    }
   }
  }
 ],
 "metadata":{
  "kernelspec":{
   "display_name":"Python",
   "language":"python",
   "name":"python"
  },
  "datalore":{
   "computation_mode":"JUPYTER",
   "package_manager":"pip",
   "base_environment":"default",
   "packages":[
    
   ],
   "report_row_ids":[
    "WNYRYF3imX509rYkU89Ftl",
    "hcdfJ6msC8Ceq9wdpVRakK",
    "D3BbGMRQDvj3hfzoW1kUaF",
    "a7KjesV3Nw3QWumb40uGin",
    "OyX196GUxyhYe8eR7T45jN",
    "D3qyLg0QUiqgTWKzz4swtL",
    "NxiPVwCJ4rVd2wXPEjZxQ8",
    "L6VDpjlo1NlBniBpVd8DCP",
    "uUcMp7hbij6HMHXHtUQp91",
    "oTQ3K9xIc31BL6Bqm1bmEW",
    "MKDM7y7T67VmVFN4IXeGYz",
    "50IrsRipDgaiykAYvHV0X0",
    "tEi2AIKiBcMBzGNirRFvW6",
    "jeOkrcadD0JA8rtiPb3npl",
    "tX84Lwgjl3zROkS47ccxLn",
    "Rayx5VOE3C0THBUxzJnYaJ",
    "y8b01xqkCs6ao8w5QI4ZTP",
    "kR8ISsEsAc4Z93yLC1dKcd",
    "CFzFEQz5iwZibDTuKrL7PS",
    "JWtnO6622BO7Um2FSdYKuM",
    "2EnW7Q2GLrYdAHZi8uAZAi",
    "RKKcCZiiOCSAMyeIJPCThH",
    "ungRihGpLkdnz2wE4f7sw3",
    "UjYJgRspIFuWdeOWNgsvpk",
    "9yc7CljY6Snau3qYc37LR9",
    "BE3Z1lhdtnKL0qz4s1nTmu",
    "OcjLBxv4n91RV4RkDCOrID",
    "AU7l7Fdha0DXA5BD67Wnzj",
    "kVm1nD0yn7DpSLHMFnFL7D",
    "kxvO08ho8ABO20wV4zZz90",
    "uUkJHIHpZcaeMZcjKpWnX4",
    "Az34Zy4lUtw4XdusGqQEWL",
    "qb6tCRz5wbPRZJF13rjEYo",
    "wBR9KAbbhaeQtsWOVeEe98",
    "vfFxEdcCBUkfNASH2DtsXA",
    "O1EQeHWhzeX1gb3VH96PHm",
    "cLdZqvrEf4vRuCU7VePWDr",
    "JCrJL6EGIkMQwoPeXwJ5Fs",
    "8YlxQPL2jx99KcOWpJTINo",
    "yWavCGzHMTFTzsNPAOvalq",
    "7rQeNPYsWzmYcOfyf2AKd4",
    "42Evpc9c5HQyLXIpLcshkB"
   ],
   "version":2
  }
 },
 "nbformat":4,
 "nbformat_minor":4
}