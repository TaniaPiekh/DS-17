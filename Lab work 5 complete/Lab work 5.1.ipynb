{
 "cells":[
  {
   "cell_type":"markdown",
   "source":[
    "___\n",
    "\n",
    "<a href='https:\/\/mainacademy.ua\/'> <img src='https:\/\/mainacademy.ua\/wp-content\/uploads\/2019\/03\/logo-main.png' alt = 'Хмм, щось з інтернетом'\/><\/a>\n",
    "___\n",
    "\n",
    "# Module 5: Data analysis with NumPy and Pandas"
   ],
   "attachments":{
    
   },
   "metadata":{
    "datalore":{
     "node_id":"VsfkYGyyWyxeDhtYlngPSx",
     "type":"MD",
     "hide_input_from_viewers":false,
     "hide_output_from_viewers":false,
     "report_properties":{
      "rowId":"3sE83k6YeNLHQ2vi1yg5Bm"
     }
    }
   }
  },
  {
   "cell_type":"markdown",
   "source":[
    "## Lab work 5.1\n"
   ],
   "attachments":{
    
   },
   "metadata":{
    "datalore":{
     "node_id":"RP1GuPa1G2vGo2bcgaIiF8",
     "type":"MD",
     "hide_input_from_viewers":false,
     "hide_output_from_viewers":false,
     "report_properties":{
      "rowId":"MDT6yZQWW6ocRxkruMQQnJ"
     }
    }
   }
  },
  {
   "cell_type":"markdown",
   "source":[
    "#### Мета: \n",
    "\n",
    "* навчитися працювати із бібліотекою NumPy в Python"
   ],
   "attachments":{
    
   },
   "metadata":{
    "datalore":{
     "node_id":"yFJgp7gvqnphWSSJemqthD",
     "type":"MD",
     "hide_input_from_viewers":false,
     "hide_output_from_viewers":false,
     "report_properties":{
      "rowId":"t3A68R7oZ7XRAUnHa8y1Yh"
     }
    }
   }
  },
  {
   "cell_type":"markdown",
   "source":[
    "### Завдання:"
   ],
   "attachments":{
    
   },
   "metadata":{
    "datalore":{
     "node_id":"jI04BpcfiTn1fj3i9vkClK",
     "type":"MD",
     "hide_input_from_viewers":false,
     "hide_output_from_viewers":false,
     "report_properties":{
      "rowId":"2VED6eAEinEPO6U53t9GUs"
     }
    }
   }
  },
  {
   "cell_type":"code",
   "source":[
    "import numpy as np"
   ],
   "execution_count":1,
   "outputs":[
    
   ],
   "metadata":{
    "datalore":{
     "node_id":"hLF0udM1eUahWv4cChjwBV",
     "type":"CODE",
     "hide_input_from_viewers":false,
     "hide_output_from_viewers":false,
     "report_properties":{
      "rowId":"Y3b3HHLjl1DvFTQgAAsvsV"
     }
    }
   }
  },
  {
   "cell_type":"markdown",
   "source":[
    "* Вивести версію та конфігурацію бібліотеки:"
   ],
   "attachments":{
    
   },
   "metadata":{
    "datalore":{
     "node_id":"GDckYNER5TiHwnStMxmVdu",
     "type":"MD",
     "hide_input_from_viewers":false,
     "hide_output_from_viewers":false,
     "report_properties":{
      "rowId":"qcsJOyxMWQ8dstWOovoRNr"
     }
    }
   }
  },
  {
   "cell_type":"code",
   "source":[
    "#Виводимо версію бібліотеки\n",
    "np.__version__"
   ],
   "execution_count":2,
   "outputs":[
    {
     "data":{
      "text\/plain":[
       "'1.23.5'"
      ]
     },
     "metadata":{
      
     },
     "output_type":"display_data"
    }
   ],
   "metadata":{
    "datalore":{
     "node_id":"lCNOixjOvhYzANT6zMPKKn",
     "type":"CODE",
     "hide_input_from_viewers":false,
     "hide_output_from_viewers":false,
     "report_properties":{
      "rowId":"C7lbhO0FRMMfpcHR0gO2Dv"
     }
    }
   }
  },
  {
   "cell_type":"code",
   "source":[
    "#Виводимо конфігурацію бібліотеки\n",
    "np.show_config()"
   ],
   "execution_count":3,
   "outputs":[
    {
     "name":"stdout",
     "text":[
      "openblas64__info:\n",
      "    libraries = ['openblas64_', 'openblas64_']\n",
      "    library_dirs = ['\/usr\/local\/lib']\n",
      "    language = c\n",
      "    define_macros = [('HAVE_CBLAS', None), ('BLAS_SYMBOL_SUFFIX', '64_'), ('HAVE_BLAS_ILP64', None)]\n",
      "    runtime_library_dirs = ['\/usr\/local\/lib']\n",
      "blas_ilp64_opt_info:\n",
      "    libraries = ['openblas64_', 'openblas64_']\n",
      "    library_dirs = ['\/usr\/local\/lib']\n",
      "    language = c\n",
      "    define_macros = [('HAVE_CBLAS', None), ('BLAS_SYMBOL_SUFFIX', '64_'), ('HAVE_BLAS_ILP64', None)]\n",
      "    runtime_library_dirs = ['\/usr\/local\/lib']\n",
      "openblas64__lapack_info:\n",
      "    libraries = ['openblas64_', 'openblas64_']\n",
      "    library_dirs = ['\/usr\/local\/lib']\n",
      "    language = c\n",
      "    define_macros = [('HAVE_CBLAS', None), ('BLAS_SYMBOL_SUFFIX', '64_'), ('HAVE_BLAS_ILP64', None), ('HAVE_LAPACKE', None)]\n",
      "    runtime_library_dirs = ['\/usr\/local\/lib']\n",
      "lapack_ilp64_opt_info:\n",
      "    libraries = ['openblas64_', 'openblas64_']\n",
      "    library_dirs = ['\/usr\/local\/lib']\n",
      "    language = c\n",
      "    define_macros = [('HAVE_CBLAS', None), ('BLAS_SYMBOL_SUFFIX', '64_'), ('HAVE_BLAS_ILP64', None), ('HAVE_LAPACKE', None)]\n",
      "    runtime_library_dirs = ['\/usr\/local\/lib']\n",
      "Supported SIMD extensions in this NumPy install:\n",
      "    baseline = SSE,SSE2,SSE3\n",
      "    found = SSSE3,SSE41,POPCNT,SSE42,AVX,F16C,FMA3,AVX2\n",
      "    not found = AVX512F,AVX512CD,AVX512_KNL,AVX512_KNM,AVX512_SKX,AVX512_CLX,AVX512_CNL,AVX512_ICL\n"
     ],
     "output_type":"stream"
    }
   ],
   "metadata":{
    "datalore":{
     "node_id":"Hk2m0LQUyqfiPAtx0xn0xK",
     "type":"CODE",
     "hide_input_from_viewers":true,
     "hide_output_from_viewers":true
    }
   }
  },
  {
   "cell_type":"markdown",
   "source":[
    "Створити вектор з 10 елементів, заповнений одиницями:"
   ],
   "attachments":{
    
   },
   "metadata":{
    "datalore":{
     "node_id":"SIDrO13SuG137uuQJNIr2I",
     "type":"MD",
     "hide_input_from_viewers":false,
     "hide_output_from_viewers":false,
     "report_properties":{
      "rowId":"b6pG0xF6BL1FPycvGzv90B"
     }
    }
   }
  },
  {
   "cell_type":"code",
   "source":[
    "np.ones(10)"
   ],
   "execution_count":4,
   "outputs":[
    {
     "data":{
      "text\/html":[
       "<pre>array([1., 1., 1., 1., 1., 1., 1., 1., 1., 1.])<\/pre>"
      ]
     },
     "metadata":{
      
     },
     "output_type":"display_data"
    }
   ],
   "metadata":{
    "datalore":{
     "node_id":"WTGJ81W8ALUPZGMG9iB4sV",
     "type":"CODE",
     "hide_input_from_viewers":false,
     "hide_output_from_viewers":false,
     "report_properties":{
      "rowId":"00GDAoqIvLqld411A15heu"
     }
    }
   }
  },
  {
   "cell_type":"markdown",
   "source":[
    "Створити вектор із значеннями від 0 до 10:"
   ],
   "attachments":{
    
   },
   "metadata":{
    "datalore":{
     "node_id":"YCsAt6asEoHQkzWssZSt6E",
     "type":"MD",
     "hide_input_from_viewers":false,
     "hide_output_from_viewers":false,
     "report_properties":{
      "rowId":"gIYGxDQTqlvTm3T4VB1Xlr"
     }
    }
   }
  },
  {
   "cell_type":"code",
   "source":[
    "np.arange(0, 11)"
   ],
   "execution_count":5,
   "outputs":[
    {
     "data":{
      "text\/html":[
       "<pre>array([ 0,  1,  2,  3,  4,  5,  6,  7,  8,  9, 10])<\/pre>"
      ]
     },
     "metadata":{
      
     },
     "output_type":"display_data"
    }
   ],
   "metadata":{
    "datalore":{
     "node_id":"6R49AejU590nCqESEvKCSe",
     "type":"CODE",
     "hide_input_from_viewers":false,
     "hide_output_from_viewers":false,
     "report_properties":{
      "rowId":"yiPZ2g0tWG6Ve4eMDlkNBH"
     }
    }
   }
  },
  {
   "cell_type":"markdown",
   "source":[
    "Створити матрицю 5 на 5, заповнену нулями:"
   ],
   "attachments":{
    
   },
   "metadata":{
    "datalore":{
     "node_id":"exfOUbSaI1QlOJPh5u1MQv",
     "type":"MD",
     "hide_input_from_viewers":false,
     "hide_output_from_viewers":false,
     "report_properties":{
      "rowId":"gr8JrWNfcuOkbVAFSj5iKD"
     }
    }
   }
  },
  {
   "cell_type":"code",
   "source":[
    "np.zeros((5, 5))"
   ],
   "execution_count":6,
   "outputs":[
    {
     "data":{
      "text\/html":[
       "<pre>array([[0., 0., 0., 0., 0.],\n",
       "       [0., 0., 0., 0., 0.],\n",
       "       [0., 0., 0., 0., 0.],\n",
       "       [0., 0., 0., 0., 0.],\n",
       "       [0., 0., 0., 0., 0.]])<\/pre>"
      ]
     },
     "metadata":{
      
     },
     "output_type":"display_data"
    }
   ],
   "metadata":{
    "datalore":{
     "node_id":"o7PGMZxneoVFfhHtSDXtPD",
     "type":"CODE",
     "hide_input_from_viewers":false,
     "hide_output_from_viewers":false,
     "report_properties":{
      "rowId":"nj6b8wIn3gLAZfUATpjzrD"
     }
    }
   }
  },
  {
   "cell_type":"markdown",
   "source":[
    "Заповнити вектор з 20 елементів випадковими цілими числами. Знайти індекси ненульових елементів:"
   ],
   "attachments":{
    
   },
   "metadata":{
    "datalore":{
     "node_id":"5M99ElC4Hzkjr4SBZvXxCN",
     "type":"MD",
     "hide_input_from_viewers":false,
     "hide_output_from_viewers":false,
     "report_properties":{
      "rowId":"HM2qjA9u5EQoqhSpb6WA84"
     }
    }
   }
  },
  {
   "cell_type":"code",
   "source":[
    "# Створюємо вектор з 20 елементів з випадковими цілими числами\n",
    "Z = np.random.randint(-100, 100, size=20)\n",
    "Z"
   ],
   "execution_count":7,
   "outputs":[
    {
     "data":{
      "text\/html":[
       "<pre>array([ 99,  76,  23,  58, -38, -90, -79, -22,  79, -73, -71,  93,  34,\n",
       "       -60, -91, -25,  10, -85,   2,  88])<\/pre>"
      ]
     },
     "metadata":{
      
     },
     "output_type":"display_data"
    }
   ],
   "metadata":{
    "datalore":{
     "node_id":"sfNKC0Jby24c9mAwRueVkU",
     "type":"CODE",
     "hide_input_from_viewers":false,
     "hide_output_from_viewers":false,
     "report_properties":{
      "rowId":"Y9JY1bgi3j6ZjKXhngK5N1"
     }
    }
   }
  },
  {
   "cell_type":"code",
   "source":[
    "# Знаходимо індекси ненульових елементів у даному векторі\n",
    "np.nonzero(Z)"
   ],
   "execution_count":8,
   "outputs":[
    {
     "data":{
      "text\/plain":[
       "(array([ 0,  1,  2,  3,  4,  5,  6,  7,  8,  9, 10, 11, 12, 13, 14, 15, 16,\n",
       "        17, 18, 19]),)"
      ]
     },
     "metadata":{
      
     },
     "output_type":"display_data"
    }
   ],
   "metadata":{
    "datalore":{
     "node_id":"lLQKJIR5dTHnrAf1aASbVQ",
     "type":"CODE",
     "hide_input_from_viewers":true,
     "hide_output_from_viewers":true
    }
   }
  },
  {
   "cell_type":"markdown",
   "source":[
    "Для вектора із попередньої задачі знайти середнє значення, медіану, стандартне відхилення:"
   ],
   "attachments":{
    
   },
   "metadata":{
    "datalore":{
     "node_id":"lLRUEiIolmNDNZRxgJhNu2",
     "type":"MD",
     "hide_input_from_viewers":false,
     "hide_output_from_viewers":false,
     "report_properties":{
      "rowId":"sEynyomhJOQ9H1AMsDzbvw"
     }
    }
   }
  },
  {
   "cell_type":"code",
   "source":[
    "# Знайти середнє значення (mean)\n",
    "Z.mean()\n",
    "\n",
    "# Знайти медіану вектора\n",
    "np.median(Z)\n",
    "\n",
    "# Знайти стандартне відхилення вектора (std)\n",
    "np.std(Z)\n",
    "\n",
    "print(f'Cереднє значення: {Z.mean()}')\n",
    "print(f'Медіана: {np.median(Z)}')\n",
    "print(f'Стандартне відхилення: {np.std(Z)}')"
   ],
   "execution_count":9,
   "outputs":[
    {
     "name":"stdout",
     "text":[
      "Cереднє значення: -3.6\n",
      "Медіана: -10.0\n",
      "Стандартне відхилення: 66.8860224561156\n"
     ],
     "output_type":"stream"
    }
   ],
   "metadata":{
    "datalore":{
     "node_id":"UwSCdIozsiNkJVgQO94fCd",
     "type":"CODE",
     "hide_input_from_viewers":false,
     "hide_output_from_viewers":false,
     "report_properties":{
      "rowId":"AjdlXtLwaC4qEAl5gPyW1G"
     }
    }
   }
  },
  {
   "cell_type":"markdown",
   "source":[
    "Створити дві матриці випадкових чисел розміром 4х2 та 2х2. Перемножити їх:"
   ],
   "attachments":{
    
   },
   "metadata":{
    "datalore":{
     "node_id":"Jjys8qugVnc8b4muvqaxoO",
     "type":"MD",
     "hide_input_from_viewers":false,
     "hide_output_from_viewers":false,
     "report_properties":{
      "rowId":"Dkfk3qhs1e9A5gkE3tvgYp"
     }
    }
   }
  },
  {
   "cell_type":"code",
   "source":[
    "# Матриця з випадковими числами розміром 4х2\n",
    "X = np.random.random((4,2))\n",
    "\n",
    "# Матриця з випадковими числами розміром 2х2\n",
    "Y = np.random.random((2,2))\n",
    "\n",
    "#Перемножуємо матриці X та Y\n",
    "\n",
    "Z = np.matmul(X, Y)\n",
    "Z"
   ],
   "execution_count":38,
   "outputs":[
    {
     "data":{
      "text\/html":[
       "<pre>array([[0.10223421, 0.14977903],\n",
       "       [0.29422778, 0.40526266],\n",
       "       [0.38104356, 0.55102558],\n",
       "       [0.44703632, 0.64484854]])<\/pre>"
      ]
     },
     "metadata":{
      
     },
     "output_type":"display_data"
    }
   ],
   "metadata":{
    "datalore":{
     "node_id":"q9PuzO6QxfabzrUr423Z5y",
     "type":"CODE",
     "hide_input_from_viewers":false,
     "hide_output_from_viewers":false,
     "report_properties":{
      "rowId":"aImfDnHUZmpm9G0yKlaFrq"
     }
    }
   }
  },
  {
   "cell_type":"markdown",
   "source":[
    "Результуючу матрицю із попередньої задачі перетворити у вектор. Знайти мінімальне та максимальне значення. \n",
    "\n",
    "Максимальне значення замінити на 0:"
   ],
   "attachments":{
    
   },
   "metadata":{
    "datalore":{
     "node_id":"9iLsuraFfWcMETL0bKllTb",
     "type":"MD",
     "hide_input_from_viewers":false,
     "hide_output_from_viewers":false,
     "report_properties":{
      "rowId":"Jmgpyu6xgjP0u4q9TX1Iox"
     }
    }
   }
  },
  {
   "cell_type":"code",
   "source":[
    "# Вектором вважають матрицю яка містить один рядок чи один стовбець. Перетворюємо матрицю Z у вектор:\n",
    "\n",
    "Z1 = Z.reshape((1, Z.size))\n",
    "print(Z1)\n",
    "\n",
    "#Знайти мінімальне та максимальне значення\n",
    "\n",
    "min_value = np.min(Z1)\n",
    "max_value = np.max(Z1)\n",
    "\n",
    "print(f'Мінімальне значення: {min_value}')\n",
    "print(f'Максимальне значення: {max_value}')"
   ],
   "execution_count":39,
   "outputs":[
    {
     "name":"stdout",
     "text":[
      "[[0.10223421 0.14977903 0.29422778 0.40526266 0.38104356 0.55102558\n",
      "  0.44703632 0.64484854]]\n",
      "Мінімальне значення: 0.10223420885883737\n",
      "Максимальне значення: 0.6448485443357376\n"
     ],
     "output_type":"stream"
    }
   ],
   "metadata":{
    "datalore":{
     "node_id":"8syFUDleM4Ta65WD9eUxNa",
     "type":"CODE",
     "hide_input_from_viewers":false,
     "hide_output_from_viewers":false,
     "report_properties":{
      "rowId":"WwFzeRCP9I1R024QktimBT"
     }
    }
   }
  },
  {
   "cell_type":"code",
   "source":[
    "# Максимальне значення замінити на 0:\n",
    "\n",
    "inx_max = np.argmax(Z1) # знаходимо індекс максимального числа\n",
    "\n",
    "Z1[0, inx_max] = 0 # Присвоюємо значення 0 максимальному числу за індексом\n",
    "\n",
    "# Виводимо результат:\n",
    "Z1"
   ],
   "execution_count":40,
   "outputs":[
    {
     "data":{
      "text\/html":[
       "<pre>array([[0.10223421, 0.14977903, 0.29422778, 0.40526266, 0.38104356,\n",
       "        0.55102558, 0.44703632, 0.        ]])<\/pre>"
      ]
     },
     "metadata":{
      
     },
     "output_type":"display_data"
    }
   ],
   "metadata":{
    "datalore":{
     "node_id":"YBBbTgXH7eLeSGcswQEA6E",
     "type":"CODE",
     "hide_input_from_viewers":true,
     "hide_output_from_viewers":true
    }
   }
  },
  {
   "cell_type":"markdown",
   "source":[
    "Знайдіть кореляцію першого рядка матриці із попереднього завдання із іншими рядками:"
   ],
   "attachments":{
    
   },
   "metadata":{
    "datalore":{
     "node_id":"m3cgYlseL1B4j3AgCvIetF",
     "type":"MD",
     "hide_input_from_viewers":false,
     "hide_output_from_viewers":false,
     "report_properties":{
      "rowId":"tMinMuYHJIGuuxzjMSk1PS"
     }
    }
   }
  },
  {
   "cell_type":"code",
   "source":[
    "c1 = np.correlate(Z[0], Z[1]) # кореляцію першого рядка матриці Z[0] з другим рядком Z[1]\n",
    "c2 = np.correlate(Z[0], Z[2]) # кореляцію першого рядка матриці Z[0] з третім рядком Z[2]\n",
    "c3 = np.correlate(Z[0], Z[3]) # кореляцію першого рядка матриці Z[0] з четвертм рядком Z[3]\n",
    "\n",
    "print(c1 , c2, c3)"
   ],
   "execution_count":13,
   "outputs":[
    {
     "name":"stdout",
     "text":[
      "[0.64385956] [0.22387528] [0.15198033]\n"
     ],
     "output_type":"stream"
    }
   ],
   "metadata":{
    "datalore":{
     "node_id":"O9kyKDET22rIsVIPD8AZwF",
     "type":"CODE",
     "hide_input_from_viewers":false,
     "hide_output_from_viewers":false,
     "report_properties":{
      "rowId":"wk3AH3J88RqG1bFAMhABE2"
     }
    }
   }
  },
  {
   "cell_type":"markdown",
   "source":[
    "Дано матрицю. Знайти ранг матриці:"
   ],
   "attachments":{
    
   },
   "metadata":{
    "datalore":{
     "node_id":"ZrKQwB9aRr6xo1QH7H7I3E",
     "type":"MD",
     "hide_input_from_viewers":false,
     "hide_output_from_viewers":false,
     "report_properties":{
      "rowId":"tPZumwnRGbZ2RIAapaY8Mh"
     }
    }
   }
  },
  {
   "cell_type":"code",
   "source":[
    "a = np.array([[ 1,  4, 5],\n",
    "              [7, 3, 2],\n",
    "              [9, 16, 1]])\n",
    "\n",
    "# Знайти ранг матриці:\n",
    "rank = np.linalg.matrix_rank(a)\n",
    "rank"
   ],
   "execution_count":14,
   "outputs":[
    {
     "data":{
      "text\/plain":[
       "3"
      ]
     },
     "metadata":{
      
     },
     "output_type":"display_data"
    }
   ],
   "metadata":{
    "datalore":{
     "node_id":"6ENLqqO2ZksA1gP8N35Z7m",
     "type":"CODE",
     "hide_input_from_viewers":false,
     "hide_output_from_viewers":false,
     "report_properties":{
      "rowId":"M7gcVrvm4rcO26GlBH5u9v"
     }
    }
   }
  },
  {
   "cell_type":"markdown",
   "source":[
    "Знайти визначник матриці:"
   ],
   "attachments":{
    
   },
   "metadata":{
    "datalore":{
     "node_id":"TYWGfAp6Rh2HZNh4IB4u8I",
     "type":"MD",
     "hide_input_from_viewers":false,
     "hide_output_from_viewers":false,
     "report_properties":{
      "rowId":"vE0WZNWhVZSlbNuT7yCIeV"
     }
    }
   }
  },
  {
   "cell_type":"code",
   "source":[
    "#Визначником n –го порядку матриці A називається алгебраїчна сума всіх можливих добутків її елементів\n",
    "\n",
    "np.linalg.det(a)"
   ],
   "execution_count":15,
   "outputs":[
    {
     "data":{
      "text\/plain":[
       "440.0000000000002"
      ]
     },
     "metadata":{
      
     },
     "output_type":"display_data"
    }
   ],
   "metadata":{
    "datalore":{
     "node_id":"tHy9jSbSJYkXognRNQDSdU",
     "type":"CODE",
     "hide_input_from_viewers":false,
     "hide_output_from_viewers":false,
     "report_properties":{
      "rowId":"EJbe0ZYzykTuOYbnp1nLG5"
     }
    }
   }
  },
  {
   "cell_type":"markdown",
   "source":[
    "Знайти власні значення та власні вектори матриці: "
   ],
   "attachments":{
    
   },
   "metadata":{
    "datalore":{
     "node_id":"9UghF86rfybr3IOWXnlgxh",
     "type":"MD",
     "hide_input_from_viewers":false,
     "hide_output_from_viewers":false,
     "report_properties":{
      "rowId":"09PNfKwbJ5fZfKQNQ3Arg6"
     }
    }
   }
  },
  {
   "cell_type":"code",
   "source":[
    "#Знаходимо за допомогою функції numpy.linalg.eig()\n",
    "\n",
    "w, v = np.linalg.eig(a) # функція виводить спочатку масив власних значеннь w і масив власних векторів v\n",
    "\n",
    "print(f'Власні значення: {w}')\n",
    "print(f'Власні вектори: {v}')"
   ],
   "execution_count":16,
   "outputs":[
    {
     "name":"stdout",
     "text":[
      "Власні значення: [14.13520334+0.j         -4.56760167+3.20389947j -4.56760167-3.20389947j]\n",
      "Власні вектори: [[ 0.43131913+0.j         -0.31386258-0.47450898j -0.31386258+0.47450898j]\n",
      " [ 0.41502436+0.j         -0.07049527+0.4090732j  -0.07049527-0.4090732j ]\n",
      " [ 0.8010734 +0.j          0.7099444 +0.j          0.7099444 -0.j        ]]\n"
     ],
     "output_type":"stream"
    }
   ],
   "metadata":{
    "datalore":{
     "node_id":"UbfUDgLRz53pcs2cvkeGH5",
     "type":"CODE",
     "hide_input_from_viewers":false,
     "hide_output_from_viewers":false,
     "report_properties":{
      "rowId":"SqOhuo33i7RqSG0Xpq5hZx"
     }
    }
   }
  },
  {
   "cell_type":"markdown",
   "source":[
    "Знайдіть число, що найчастіше зустрічається в масиві:"
   ],
   "attachments":{
    
   },
   "metadata":{
    "datalore":{
     "node_id":"5zRkMfTtjv4VaaIwceuDCw",
     "type":"MD",
     "hide_input_from_viewers":false,
     "hide_output_from_viewers":false,
     "report_properties":{
      "rowId":"yPW6Weq4cjk23HD03mabkr"
     }
    }
   }
  },
  {
   "cell_type":"code",
   "source":[
    "a = np.random.randint(0,10,50)\n",
    "\n",
    "# Функія bincount() повертає кількість входжень значень в масив \n",
    "\n",
    "np.bincount(a) # - виводить масив з кількістю входження кожного елемента\n",
    "\n",
    "# Фунція .argmax виводить індекс максимального елемента з масиву\n",
    "\n",
    "np.argmax(np.bincount(a)) \n",
    "#оскільки на всіх функція argmax приймає масив зі наченнями частот повторення чисел, тому ми отримуємо індекс числа яке повторюється в масиві а найбільшу кількість раз\n",
    "\n",
    "#Результат\n",
    "\n",
    "a[np.argmax(np.bincount(a))]"
   ],
   "execution_count":32,
   "outputs":[
    {
     "data":{
      "text\/plain":[
       "6"
      ]
     },
     "metadata":{
      
     },
     "output_type":"display_data"
    }
   ],
   "metadata":{
    "datalore":{
     "node_id":"FnJPF5L4QjCJV5i6GrRq7R",
     "type":"CODE",
     "hide_input_from_viewers":false,
     "hide_output_from_viewers":false,
     "report_properties":{
      "rowId":"1DgEPxEqEQnbUHNZGWOU8Y"
     }
    }
   }
  },
  {
   "cell_type":"markdown",
   "source":[
    "Виведіть лише парні числа, що діляться на 5:"
   ],
   "attachments":{
    
   },
   "metadata":{
    "datalore":{
     "node_id":"wukiWSpiarGwt5xEMMpuzE",
     "type":"MD",
     "hide_input_from_viewers":false,
     "hide_output_from_viewers":false,
     "report_properties":{
      "rowId":"fQ0iGhWXbTMG6hWDKXdBYq"
     }
    }
   }
  },
  {
   "cell_type":"code",
   "source":[
    "a = np.random.randint(0,10,50)\n",
    "a[np.where((a%2 == 0) & (a%5==0) & (a!=0))] "
   ],
   "execution_count":33,
   "outputs":[
    {
     "data":{
      "text\/html":[
       "<pre>array([], dtype=int64)<\/pre>"
      ]
     },
     "metadata":{
      
     },
     "output_type":"display_data"
    }
   ],
   "metadata":{
    "datalore":{
     "node_id":"sqPimYfgzYdJPHJIAtcogY",
     "type":"CODE",
     "hide_input_from_viewers":false,
     "hide_output_from_viewers":false,
     "report_properties":{
      "rowId":"EmFtb3a6XoE53r9cFrkcKy"
     }
    }
   }
  },
  {
   "cell_type":"code",
   "source":[
    "# Знаходимо індекси значень, що задовільняють умову\n",
    "index = np.where(((a % 2 == 0) & (a % 5==0) & (a !=0) ))\n",
    "\n",
    "#Перевіряємо і виводимо значень, що задовільняють умову, якщо вони існують\n",
    "\n",
    "if index[0].size > 0:\n",
    "    print(a[index])\n",
    "else:\n",
    "    print('Значеня, які б задовілняли умову, не існує в масиві')"
   ],
   "execution_count":34,
   "outputs":[
    {
     "name":"stdout",
     "text":[
      "Значеня, які б задовілняли умову, не існує в масиві\n"
     ],
     "output_type":"stream"
    }
   ],
   "metadata":{
    "datalore":{
     "node_id":"DJEy3ihcFTuMGCXzR1nZPL",
     "type":"CODE",
     "hide_input_from_viewers":true,
     "hide_output_from_viewers":true
    }
   }
  },
  {
   "cell_type":"markdown",
   "source":[
    "Розв'яжіть систему рівнянь:\n",
    "$$2x + 5y = 1 $$\n",
    "\n",
    "$$x - 10y = 3  $$\n",
    "   "
   ],
   "attachments":{
    
   },
   "metadata":{
    "datalore":{
     "node_id":"pjP8QxBw2wefWUYiw7gfE4",
     "type":"MD",
     "hide_input_from_viewers":false,
     "hide_output_from_viewers":false,
     "report_properties":{
      "rowId":"eA8UEhAMPte35RnCh2pXGS"
     }
    }
   }
  },
  {
   "cell_type":"code",
   "source":[
    "# Функція linalg.solve() вирішує лінійні рівння або систему лінійних рівнняь\n",
    "\n",
    "# Задаємо матрицю a - матриця коефіцієнтів\n",
    "a = np.array([[2, 5],\n",
    "    [1, -10]])\n",
    "\n",
    "# Задаємо матрицю b - матриця вільних членів рівняння \n",
    "b = np.array([1, 3])\n",
    "\n",
    "# Знаходимо розвязок системи рівнянь\n",
    "res = np.linalg.solve(a, b) \n",
    "x = res[0]\n",
    "y = res[1]\n",
    "print(f'x = {x}, y = {y}')"
   ],
   "execution_count":20,
   "outputs":[
    {
     "name":"stdout",
     "text":[
      "x = 1.0, y = -0.2\n"
     ],
     "output_type":"stream"
    }
   ],
   "metadata":{
    "datalore":{
     "node_id":"kFJI9jOUlVOy0bKoRInSuF",
     "type":"CODE",
     "hide_input_from_viewers":false,
     "hide_output_from_viewers":false,
     "report_properties":{
      "rowId":"UJY1ZhfTw6p13DOFcVQ6kH"
     }
    }
   }
  },
  {
   "cell_type":"code",
   "source":[
    "# Перевірка результату: перемножумо матрицю коефіцієнтів на стовпець з реультатами\n",
    "\n",
    "checking = np.dot(a, res)\n",
    "\n",
    "# Даний добуток повиннен матриці вільних членів b\n",
    "\n",
    "if checking.all() == b.all():\n",
    "    print(\"Рішення вірне\")"
   ],
   "execution_count":21,
   "outputs":[
    {
     "name":"stdout",
     "text":[
      "Рішення вірне\n"
     ],
     "output_type":"stream"
    }
   ],
   "metadata":{
    "datalore":{
     "node_id":"Uq6xVwkEX7OY6QCVY9aYpG",
     "type":"CODE",
     "hide_input_from_viewers":true,
     "hide_output_from_viewers":true
    }
   }
  }
 ],
 "metadata":{
  "kernelspec":{
   "display_name":"Python",
   "language":"python",
   "name":"python"
  },
  "datalore":{
   "computation_mode":"JUPYTER",
   "package_manager":"pip",
   "base_environment":"default",
   "packages":[
    
   ],
   "report_row_ids":[
    "3sE83k6YeNLHQ2vi1yg5Bm",
    "MDT6yZQWW6ocRxkruMQQnJ",
    "t3A68R7oZ7XRAUnHa8y1Yh",
    "2VED6eAEinEPO6U53t9GUs",
    "Y3b3HHLjl1DvFTQgAAsvsV",
    "qcsJOyxMWQ8dstWOovoRNr",
    "C7lbhO0FRMMfpcHR0gO2Dv",
    "b6pG0xF6BL1FPycvGzv90B",
    "00GDAoqIvLqld411A15heu",
    "gIYGxDQTqlvTm3T4VB1Xlr",
    "yiPZ2g0tWG6Ve4eMDlkNBH",
    "gr8JrWNfcuOkbVAFSj5iKD",
    "nj6b8wIn3gLAZfUATpjzrD",
    "HM2qjA9u5EQoqhSpb6WA84",
    "Y9JY1bgi3j6ZjKXhngK5N1",
    "sEynyomhJOQ9H1AMsDzbvw",
    "AjdlXtLwaC4qEAl5gPyW1G",
    "Dkfk3qhs1e9A5gkE3tvgYp",
    "aImfDnHUZmpm9G0yKlaFrq",
    "Jmgpyu6xgjP0u4q9TX1Iox",
    "WwFzeRCP9I1R024QktimBT",
    "tMinMuYHJIGuuxzjMSk1PS",
    "wk3AH3J88RqG1bFAMhABE2",
    "tPZumwnRGbZ2RIAapaY8Mh",
    "M7gcVrvm4rcO26GlBH5u9v",
    "vE0WZNWhVZSlbNuT7yCIeV",
    "EJbe0ZYzykTuOYbnp1nLG5",
    "09PNfKwbJ5fZfKQNQ3Arg6",
    "SqOhuo33i7RqSG0Xpq5hZx",
    "yPW6Weq4cjk23HD03mabkr",
    "1DgEPxEqEQnbUHNZGWOU8Y",
    "fQ0iGhWXbTMG6hWDKXdBYq",
    "EmFtb3a6XoE53r9cFrkcKy",
    "eA8UEhAMPte35RnCh2pXGS",
    "UJY1ZhfTw6p13DOFcVQ6kH"
   ],
   "version":2
  }
 },
 "nbformat":4,
 "nbformat_minor":4
}