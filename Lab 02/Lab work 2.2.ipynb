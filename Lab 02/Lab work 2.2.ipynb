{
 "cells":[
  {
   "cell_type":"markdown",
   "source":[
    "___\n",
    "\n",
    "<a href='https:\/\/mainacademy.ua\/'> <img src='https:\/\/mainacademy.ua\/wp-content\/uploads\/2019\/03\/logo-main.png' alt = 'Хмм, щось з інтернетом'\/><\/a>\n",
    "___\n",
    "\n",
    "# Module 2: Basic Python"
   ],
   "attachments":{
    
   },
   "metadata":{
    "datalore":{
     "node_id":"Z5zL8xEqCPIpm7G49GBIgz",
     "type":"MD",
     "hide_input_from_viewers":false,
     "hide_output_from_viewers":false,
     "report_properties":{
      
     }
    }
   }
  },
  {
   "cell_type":"markdown",
   "source":[
    "## Lab work 2.2\n"
   ],
   "attachments":{
    
   },
   "metadata":{
    "datalore":{
     "node_id":"R1sIiuviwqjOfbgoS6nh8K",
     "type":"MD",
     "hide_input_from_viewers":false,
     "hide_output_from_viewers":false,
     "report_properties":{
      
     }
    }
   }
  },
  {
   "cell_type":"markdown",
   "source":[
    "#### Мета: \n",
    "\n",
    "* навчитися працювати із основними інструкціями Python;\n",
    "* ознайомитися із базовими алгоритмами;"
   ],
   "attachments":{
    
   },
   "metadata":{
    "datalore":{
     "node_id":"Wp2KkXktSmrgoJqii44CKa",
     "type":"MD",
     "hide_input_from_viewers":false,
     "hide_output_from_viewers":false,
     "report_properties":{
      
     }
    }
   }
  },
  {
   "cell_type":"markdown",
   "source":[
    "### Завдання 1"
   ],
   "attachments":{
    
   },
   "metadata":{
    "datalore":{
     "node_id":"woeHrGdQODtpl1cJSvJ2uN",
     "type":"MD",
     "hide_input_from_viewers":false,
     "hide_output_from_viewers":false,
     "report_properties":{
      
     }
    }
   }
  },
  {
   "cell_type":"markdown",
   "source":[
    "Для трьох введених натуральних чисел (користувач вводить числа через пробіл) знайдіть мінімальне та максимальне"
   ],
   "attachments":{
    
   },
   "metadata":{
    "datalore":{
     "node_id":"AmYpSFMpYp2yTgigWJP66L",
     "type":"MD",
     "hide_input_from_viewers":false,
     "hide_output_from_viewers":false,
     "report_properties":{
      
     }
    }
   }
  },
  {
   "cell_type":"code",
   "source":[
    "numbers = input()\n",
    "a = numbers.split()\n",
    "max_number = max(a)\n",
    "min_number = min(a)\n",
    "\n",
    "print(f'Максимальне значення: {max_number}')\n",
    "print(f'Мінімальне значення: {min_number}')\n"
   ],
   "execution_count":169,
   "outputs":[
    {
     "name":"stdout",
     "text":[
      " 4 7 2\n",
      "Максимальне значення: 7\n",
      "Мінімальне значення: 2\n"
     ],
     "output_type":"stream"
    }
   ],
   "metadata":{
    "datalore":{
     "node_id":"fHRQSD1BQAs0Jmcr3pzEw4",
     "type":"CODE",
     "hide_input_from_viewers":false,
     "hide_output_from_viewers":false,
     "report_properties":{
      
     }
    }
   }
  },
  {
   "cell_type":"markdown",
   "source":[
    "### Завдання 2"
   ],
   "attachments":{
    
   },
   "metadata":{
    "datalore":{
     "node_id":"mNo4MBEnh0PErU2KivUgwg",
     "type":"MD",
     "hide_input_from_viewers":false,
     "hide_output_from_viewers":false,
     "report_properties":{
      
     }
    }
   }
  },
  {
   "cell_type":"markdown",
   "source":[
    "Програма приймає на вхід два параметри: стать спортсмена(`sex = (f, m)`) та вік спортсмена(`age = [0,100]`).  Спортсмен-дівчина може брати участь у змаганні, якщо її вік більший 18, спортсмен-хлопець - якщо вік більший 16\n",
    "\n",
    "Якщо введеніть не коректні дані, виведіть повідомлення про помилку"
   ],
   "attachments":{
    
   },
   "metadata":{
    "datalore":{
     "node_id":"zXymEj77FAJaInssbprGPD",
     "type":"MD",
     "hide_input_from_viewers":false,
     "hide_output_from_viewers":false,
     "report_properties":{
      
     }
    }
   }
  },
  {
   "cell_type":"code",
   "source":[
    "sex = input()\n",
    "age = float(input())\n",
    "\n",
    "try:\n",
    "    if sex not in ('f', 'm') or age not in range(0, 100):\n",
    "            raise ValueError('Некоректні данні')\n",
    "\n",
    "    if sex == 'f' and age > 18 or sex == 'm' and age > 16:\n",
    "        print('Спортсмен може брати участь у змаганні')\n",
    "    else:\n",
    "        print('Спортсмен НЕ може брати участь у змаганні')\n",
    "\n",
    "except ValueError as ve:\n",
    "    print(ve)"
   ],
   "execution_count":168,
   "outputs":[
    {
     "name":"stdout",
     "text":[
      " f\n",
      " 18\n",
      "Спортсмен НЕ може брати участь у змаганні\n"
     ],
     "output_type":"stream"
    }
   ],
   "metadata":{
    "datalore":{
     "node_id":"HniVUPLuctB20gYDD27geE",
     "type":"CODE",
     "hide_input_from_viewers":false,
     "hide_output_from_viewers":false,
     "report_properties":{
      
     }
    }
   }
  },
  {
   "cell_type":"markdown",
   "source":[
    "### Завдання 3"
   ],
   "attachments":{
    
   },
   "metadata":{
    "datalore":{
     "node_id":"lcutJuronvVa12WunhySSk",
     "type":"MD",
     "hide_input_from_viewers":false,
     "hide_output_from_viewers":false,
     "report_properties":{
      
     }
    }
   }
  },
  {
   "cell_type":"markdown",
   "source":[
    "Для введеного натурального числа побудуйте драбинку. \n",
    "\n",
    "Наприклад, якщо N = 5, драбинка буде мати вигляд:\n",
    "    \n",
    "&\n",
    "\n",
    "&&\n",
    "\n",
    "&&&\n",
    "\n",
    "&&&&\n",
    "\n",
    "&&&&&"
   ],
   "attachments":{
    
   },
   "metadata":{
    "datalore":{
     "node_id":"l4BH2vCeFP6IK4yoZi6FML",
     "type":"MD",
     "hide_input_from_viewers":false,
     "hide_output_from_viewers":false,
     "report_properties":{
      
     }
    }
   }
  },
  {
   "cell_type":"code",
   "source":[
    "N = int(input())\n",
    "\n",
    "for N in range(0,N+1):\n",
    "    print('&' * N)"
   ],
   "execution_count":5,
   "outputs":[
    {
     "name":"stdout",
     "text":[
      " 5\n",
      "\n",
      "&\n",
      "&&\n",
      "&&&\n",
      "&&&&\n",
      "&&&&&\n"
     ],
     "output_type":"stream"
    }
   ],
   "metadata":{
    "datalore":{
     "node_id":"8t69bJpGwGS8v6Az7Ez69Q",
     "type":"CODE",
     "hide_input_from_viewers":false,
     "hide_output_from_viewers":false,
     "report_properties":{
      
     }
    }
   }
  },
  {
   "cell_type":"markdown",
   "source":[
    "### Завдання 4"
   ],
   "attachments":{
    
   },
   "metadata":{
    "datalore":{
     "node_id":"D2FUDIKuuO2zlLWk4YH9L6",
     "type":"MD",
     "hide_input_from_viewers":false,
     "hide_output_from_viewers":false,
     "report_properties":{
      
     }
    }
   }
  },
  {
   "cell_type":"markdown",
   "source":[
    "Із заданого речення виведіть кожне слово і його довжину"
   ],
   "attachments":{
    
   },
   "metadata":{
    "datalore":{
     "node_id":"l9BGYnaF33rxeHYjLUbTRt",
     "type":"MD",
     "hide_input_from_viewers":false,
     "hide_output_from_viewers":false,
     "report_properties":{
      
     }
    }
   }
  },
  {
   "cell_type":"code",
   "source":[
    "sentence = 'My favourite tutor in academy is Ihor'\n",
    "words = sentence.split()\n",
    "\n",
    "for i in words:\n",
    "    print(i, len(i))"
   ],
   "execution_count":8,
   "outputs":[
    {
     "name":"stdout",
     "text":[
      "My 2\n",
      "favourite 9\n",
      "tutor 5\n",
      "in 2\n",
      "academy 7\n",
      "is 2\n",
      "Ihor 4\n"
     ],
     "output_type":"stream"
    }
   ],
   "metadata":{
    "datalore":{
     "node_id":"ROjoMBYkKL7kbJpcAkMdMF",
     "type":"CODE",
     "hide_input_from_viewers":false,
     "hide_output_from_viewers":false,
     "report_properties":{
      
     }
    }
   }
  },
  {
   "cell_type":"markdown",
   "source":[
    "### Завдання 5"
   ],
   "attachments":{
    
   },
   "metadata":{
    "datalore":{
     "node_id":"xkbs6tP2PqZVSf6WacNqBI",
     "type":"MD",
     "hide_input_from_viewers":false,
     "hide_output_from_viewers":false,
     "report_properties":{
      
     }
    }
   }
  },
  {
   "cell_type":"markdown",
   "source":[
    "Для заданого тексту реалізуйте:\n",
    "* Знайдіть кількість слів\n",
    "* Знайдіть кількість унікальних слів\n",
    "* Своірть словник, де ключем буде слово із тексту, значенням - частота зустрічання в тексті\n",
    "* Виведіть топ-3 слів, що найчастіше зустрічаються\n",
    "\n",
    "Вважаємо, що слово це стрічка з трьох і більше букв, очищена від знаків пунктуації"
   ],
   "attachments":{
    
   },
   "metadata":{
    "datalore":{
     "node_id":"HgwtzJ2wfQbpiwIfP6eU7l",
     "type":"MD",
     "hide_input_from_viewers":false,
     "hide_output_from_viewers":false,
     "report_properties":{
      
     }
    }
   }
  },
  {
   "cell_type":"code",
   "source":[
    "text = \"\"\"До чого ж гарно і весело було в нашому горóді! Ото як вийти з сіней та подивись навколо — геть-чисто все зелене та буйне. А сад було як зацвіте весною! А що робилось на початку літа — огірки цвітуть, гарбузи цвітуть, картопля цвіте. Цвіте малина, смородина, тютюн, квасоля. А соняшника, а маку, буряків, лободи, укропу, моркви! Чого тільки не насадить наша невгамовна мати.\n",
    "\n",
    "— Нічого в світі так я не люблю, як саджати що-небудь у землю, щоб проізростало. Коли вилізає з землі всяка рослиночка, ото мені радість,— любила проказувати вона.\n",
    "\n",
    "Город до того переповнявсь рослинами, що десь серед літа вони вже не вміщалися в ньому. Вони лізли одна на одну, переплітались, душились, дерлися на хлів, на стріху, повзли на тин, а гарбузи звисали з тину прямо на вулицю.\n",
    "\n",
    "А малини — красної, білої! А вишень, а груш солодких, було. як наїсися,— цілий день живіт як бубон.\n",
    "\n",
    "І росло ще, пригадую, багато тютюну, в якому ми, маленькі, ходили, мов у лісі, в якому пізнали перші мозолі на дитячих руках.\n",
    "\n",
    "А вздовж тину, за старою повіткою, росли великі кущі смородини, бузини і ще якихось невідомих рослин. Там неслися кури нишком од матері і різне дрібне птаство. Туди ми рідко лазили. Там було темно навіть удень, і ми боялись гадюки. Хто з нас у дитинстві не боявся гадюки, так за все життя й не побачивши її ніде?\n",
    "\n",
    "Коло хати, що стояла в саду, цвіли квіти, а за хатою, проти сінешніх дверей, коло вишень,— поросла полином стара погребня з одкритою лядою, звідки завжди пахло цвіллю. Там, у льоху, в присмерку плигали жаби. Напевно, там водилися й гадюки.\n",
    "\n",
    "На погребні любив спати дід.\n",
    "\n",
    "У нас був дід дуже схожий на бога. Коли я молився богу, я завжди бачив на покуті портрет діда в старих срібнофольгових шатах, а сам дід лежав на печі і тихо кашляв, слухаючи своїх молитов.\n",
    "\n",
    "У неділю перед богами горіла маленька синенька лампадка, в яку завжди набиралось повно мух. Образ святого Миколая також був схожий на діда, особливо коли дід часом підстригав собі бороду і випивав перед обідом чарку горілки з перцем, і мати не лаялась. Святий Федосій більш скидався на батька. Федосію я не молився, в нього була ще темна борода, а в руці гирлига, одягнена чомусь у білу хустку. А от бог, схожий на діда, той тримав в одній руці круглу сільничку, а трьома пýчками другої неначе збирався взяти зубок часнику\n",
    "Звали нашого діда, як я вже потім довідавсь, Семеном. Він був високий і худий, і чоло в нього високе, хвилясте довге волосся сиве, а борода біла. І була в нього велика грижа ще з молодих чумацьких літ. Пахнув дід теплою землею і трохи млином. Він був письменний по-церковному і в неділю любив урочисто читати псалтир. Ні дід, ні ми не розуміли прочитаного, і це завжди хвилювало нас, як дивна таємниця, що надавала прочитаному особливого, небуденного смислу.\n",
    "\n",
    "Мати ненавиділа діда і вважала його за чорнокнижника. Ми не вірили матері і захищали діда од її нападів, бо псалтир всередині був не чорний, а білий, а товста шкіряна палітурка — коричнева, як гречаний мед чи стара халява. Зрештою, мати крадькома таки знищила псалтир. Вона спалила його в печі по одному листочку, боячись палити зразу весь, щоб він часом не вибухнув і не розніс печі.\n",
    "\n",
    "Любив дід гарну бесіду й добре слово. Часом по дорозі на луг, коли хто питав у нього дорогу на Борзну чи на Батурин, він довго стояв посеред шляху і, махаючи пужалном, гукав услід подорожньому:\n",
    "\n",
    "— Прямо, та й прямо, та й прямо, та й нікуди ж не звертайте!.. Добра людина поїхала, дай їй бог здоров'я,— зітхав він лагідно, коли подорожній нарешті зникав у кущах.\n",
    "\n",
    "— А хто вона, діду, людина ота? Звідки вона?\n",
    "\n",
    "— А бог її знає, хіба я знаю... Ну, чого стоїш як укопаний? — звертався дід до коня, сідаючи на воза.— Но, трогай-бо, ну...\n",
    "\n",
    "Він був наш добрий дух лугу і риби. Гриби й ягоди збирав він у лісі краще за нас усіх і розмовляв з кіньми, з телятами, з травами, з старою грушею і дубом — з усім живим, що росло і рухалось навколо.\n",
    "Більш за все на світі любив дід сонце. Він прожив під сонцем коло ста літ, ніколи не ховаючись у холодок. Так під сонцем на погребні, коло яблуні, він і помер, коли прийшов його час.\n",
    "\n",
    "Дід любив кашляти. Кашляв він часом так довго й гучно, що скільки ми не старалися, ніхто не міг його як слід передражнити. Його кашель чув увесь куток. Старі люди по дідовому кашлю вгадували навіть погоду.\n",
    "\"\"\"\n",
    "\n",
    "#Kількість слів\n",
    "import string\n",
    "\n",
    "text = text.lower()\n",
    "\n",
    "table = text.maketrans(\"\", \"\", string.punctuation + \"—\" + \"\")\n",
    "text1 = text.translate(table)\n",
    "words_text = text1.split()\n",
    "\n",
    "new_words_text = []\n",
    "\n",
    "for word in words_text:\n",
    "    if len(word) >= 3:\n",
    "        new_words_text.append(word)\n",
    "\n",
    "print(f'Kількість слів: {len(new_words_text)}.')\n",
    "           \n",
    "#Словник, де ключем буде слово із тексту, значенням - частота зустрічання в тексті\n",
    "frequency_words = {}\n",
    "for w in new_words_text:\n",
    "    if w in frequency_words:\n",
    "        frequency_words[w] += 1\n",
    "    else:\n",
    "        frequency_words[w] = 1\n",
    "\n",
    "#Кількість унікальних слів (зустрічаться не більше одного разу)\n",
    "unique_words = 0\n",
    "for value in frequency_words.values():\n",
    "    if value == 1:\n",
    "        unique_words += 1\n",
    "print(f'Кількість унікальних слів: {unique_words}.')\n",
    "\n",
    "#Tоп-3 слів, що найчастіше зустрічаються\n",
    "sorted_pair = sorted(frequency_words.items(), key=lambda v: v[1], reverse=True)\n",
    "top_3 = sorted_pair[:3]\n",
    "top_3_list = [w[0] for w in top_3[:3]]\n",
    "\n",
    "print(f'Топ-3 слів, що найчастіше зустрічаються: \"{top_3_list[0]}\", \"{top_3_list[1]}\" і \"{top_3_list[2]}\".')\n"
   ],
   "execution_count":27,
   "outputs":[
    {
     "name":"stdout",
     "text":[
      "Kількість слів: 537.\n",
      "Кількість унікальних слів: 353.\n",
      "Топ-3 слів, що найчастіше зустрічаються: \"дід\", \"він\" і \"коли\".\n"
     ],
     "output_type":"stream"
    }
   ],
   "metadata":{
    "datalore":{
     "node_id":"K5hZGPrtaKy8ZxnG4kutpx",
     "type":"CODE",
     "hide_input_from_viewers":false,
     "hide_output_from_viewers":false,
     "report_properties":{
      
     }
    }
   }
  },
  {
   "cell_type":"markdown",
   "source":[
    "### Завдання 6 "
   ],
   "attachments":{
    
   },
   "metadata":{
    "datalore":{
     "node_id":"fx7yKyGvlAU0aTpVr9ojHC",
     "type":"MD",
     "hide_input_from_viewers":false,
     "hide_output_from_viewers":false,
     "report_properties":{
      
     }
    }
   }
  },
  {
   "cell_type":"markdown",
   "source":[
    "Напишіть функції, що:\n",
    "* рохраховує мінімальне та максимальне значення\n",
    "* середнє значення послідовності\n",
    "* медіану послідовності\n",
    "* частоту кожної цифри в послідовності\n",
    "* середнє квадратичне відхилення\n",
    "\n",
    "Послідовність чисел ганеруємо рандомно"
   ],
   "attachments":{
    
   },
   "metadata":{
    "datalore":{
     "node_id":"7lfscoY0SmuY9NOUTYceTo",
     "type":"MD",
     "hide_input_from_viewers":false,
     "hide_output_from_viewers":false,
     "report_properties":{
      
     }
    }
   }
  },
  {
   "cell_type":"code",
   "source":[
    "import random\n",
    "import math\n",
    "\n",
    "#Генеруємо тисячу чисел в діапазоні від 0 до 100\n",
    "list_with_random_numbers = [random.randint(0,100) for i in range(1000)]\n",
    "sorted_list = sorted(list_with_random_numbers)\n",
    "\n",
    "#Розраховуємо максимальне і мінімальне значення \n",
    "def min_and_max(x):\n",
    "    min_value = min(x)\n",
    "    max_value = max(x)\n",
    "    return min_value, max_value\n",
    "\n",
    "#Розраховуємо середнє значення послідовності\n",
    "def average(x):\n",
    "    average_number = sum(x)\/len(x)\n",
    "    return average_number\n",
    "\n",
    "#Розраховуємо медіану\n",
    "\n",
    "def median(y):                               #y - Відсортована посліовність\n",
    "    k = len(y)\n",
    "    if len(y) % 2 == 0:                      #Кількість елементів парна, тоді медіаною буде середнє значення двох центральних чисел\n",
    "        median_value = (y[k\/\/2-1]+y[k\/\/2])\/2\n",
    "    else:\n",
    "        median_value = y[k\/\/2]               #Якщо кількість елементів непарна, тоді медіаною буде число, що лежить по середині\n",
    "    return median_value\n",
    "\n",
    "#Розраховуємо частоту кожної цифри в послідовності\n",
    "\n",
    "def frequency(x):\n",
    "    frequency_of_list = {}\n",
    "    for i in x:\n",
    "        if i in frequency_of_list:\n",
    "            frequency_of_list[i] += 1\n",
    "        else:\n",
    "            frequency_of_list[i] = 1\n",
    "    return frequency_of_list\n",
    "\n",
    "#Розраховуємо середнє квадратичне відхилення\n",
    "def deviation(x):\n",
    "    deviation_value = math.sqrt(sum([(n - average(x)) ** 2 for n in x]) \/ len(x))\n",
    "    return deviation_value\n",
    "\n",
    "print(f'Мінімальне та максимальне значення: {min_and_max(list_with_random_numbers)}')\n",
    "print(f'Середнє значення: {average(list_with_random_numbers)}')\n",
    "print(f'Медіана послідовності: {median(sorted_list)}')\n",
    "print (f'Частота кожної цифри в послідовності:{frequency(sorted_list)}')\n",
    "print(f'Cереднє квадратичне відхилення: {deviation(list_with_random_numbers)}')"
   ],
   "execution_count":164,
   "outputs":[
    {
     "name":"stdout",
     "text":[
      "Мінімальне та максимальне значення: (0, 100)\n",
      "Середнє значення: 50.363\n",
      "Медіана послідовності: 50.0\n",
      "Частота кожної цифри в послідовності:{0: 7, 1: 7, 2: 9, 3: 8, 4: 9, 5: 9, 6: 9, 7: 10, 8: 7, 9: 11, 10: 11, 11: 8, 12: 8, 13: 6, 14: 10, 15: 6, 16: 13, 17: 12, 18: 11, 19: 11, 20: 10, 21: 8, 22: 9, 23: 10, 24: 8, 25: 12, 26: 16, 27: 11, 28: 8, 29: 7, 30: 8, 31: 11, 32: 9, 33: 10, 34: 11, 35: 10, 36: 11, 37: 12, 38: 7, 39: 7, 40: 15, 41: 13, 42: 13, 43: 14, 44: 10, 45: 10, 46: 20, 47: 9, 48: 3, 49: 11, 50: 7, 51: 5, 52: 13, 53: 9, 54: 12, 55: 12, 56: 13, 57: 14, 58: 9, 59: 6, 60: 5, 61: 16, 62: 5, 63: 10, 64: 13, 65: 13, 66: 9, 67: 5, 68: 10, 69: 9, 70: 12, 71: 9, 72: 12, 73: 11, 74: 19, 75: 10, 76: 15, 77: 10, 78: 11, 79: 5, 80: 8, 81: 9, 82: 8, 83: 14, 84: 14, 85: 10, 86: 8, 87: 8, 88: 12, 89: 8, 90: 8, 91: 11, 92: 7, 93: 16, 94: 6, 95: 14, 96: 5, 97: 5, 98: 10, 99: 7, 100: 8}\n",
      "Cереднє квадратичне відхилення: 28.195624323642836\n"
     ],
     "output_type":"stream"
    }
   ],
   "metadata":{
    "datalore":{
     "node_id":"eHEUGOAFqcIYcJxrjKekan",
     "type":"CODE",
     "hide_input_from_viewers":false,
     "hide_output_from_viewers":false,
     "report_properties":{
      
     }
    }
   }
  }
 ],
 "metadata":{
  "kernelspec":{
   "display_name":"Python",
   "language":"python",
   "name":"python"
  },
  "datalore":{
   "version":1,
   "computation_mode":"JUPYTER",
   "package_manager":"pip",
   "base_environment":"default",
   "packages":[
    
   ]
  }
 },
 "nbformat":4,
 "nbformat_minor":4
}