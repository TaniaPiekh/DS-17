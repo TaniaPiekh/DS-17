{
 "cells":[
  {
   "cell_type":"markdown",
   "source":[
    "___\n",
    "\n",
    "<a href='https:\/\/mainacademy.ua\/'> <img src='https:\/\/mainacademy.ua\/wp-content\/uploads\/2019\/03\/logo-main.png' alt = 'Хмм, щось з інтернетом'\/><\/a>\n",
    "___\n",
    "\n",
    "# Module 7: Supervised learning"
   ],
   "attachments":{
    
   },
   "metadata":{
    "datalore":{
     "node_id":"tEsGeN37cUQExpUDAKrX5T",
     "type":"MD",
     "hide_input_from_viewers":false,
     "hide_output_from_viewers":false,
     "report_properties":{
      "rowId":"0bAfvYf450Qve3U0Q4xmFi"
     }
    }
   }
  },
  {
   "cell_type":"markdown",
   "source":[
    "## Lab work 7\n"
   ],
   "attachments":{
    
   },
   "metadata":{
    "datalore":{
     "node_id":"GIcTPWes9PZFYV5FsHauA5",
     "type":"MD",
     "hide_input_from_viewers":false,
     "hide_output_from_viewers":false,
     "report_properties":{
      "rowId":"17ybqgtutiefDB9wnXWz1r"
     }
    }
   }
  },
  {
   "cell_type":"markdown",
   "source":[
    "#### Мета: \n",
    "\n",
    "* навчитися використовувати моделі з учителем"
   ],
   "attachments":{
    
   },
   "metadata":{
    "datalore":{
     "node_id":"tBBg6sUdSNiPmB5DbCALN1",
     "type":"MD",
     "hide_input_from_viewers":false,
     "hide_output_from_viewers":false,
     "report_properties":{
      "rowId":"hZkytzrH05iHYOjVEzCscW"
     }
    }
   }
  },
  {
   "cell_type":"markdown",
   "source":[
    "### Завдання 1:"
   ],
   "attachments":{
    
   },
   "metadata":{
    "datalore":{
     "node_id":"4fD0UcskorkO3vAJAdzcuZ",
     "type":"MD",
     "hide_input_from_viewers":false,
     "hide_output_from_viewers":false,
     "report_properties":{
      "rowId":"JeNQIJU4bFEBmm1t6OTnvG"
     }
    }
   }
  },
  {
   "cell_type":"markdown",
   "source":[
    "Для цього завдання ми будемо вивчати загальнодоступні дані з [LendingClub.com](attachment:.\/www.lendingclub.com). \n",
    "\n",
    "Кредитний клуб пов'язує людей, яким потрібні гроші (позичальники), та людей, які мають гроші (інвесторів). Сподіваємось, як інвестор ви хотіли б інвестувати в людей, які продемонстрували, що вони мають високу ймовірність повернути вам гроші. Ми спробуємо створити модель, яка допоможе це передбачити."
   ],
   "attachments":{
    
   },
   "metadata":{
    "datalore":{
     "node_id":"mH1B4PkmIA8qGpBqNz8q7R",
     "type":"MD",
     "hide_input_from_viewers":false,
     "hide_output_from_viewers":false,
     "report_properties":{
      "rowId":"Vw6MxV3UKdmmFAg2SMt8uR"
     }
    }
   }
  },
  {
   "cell_type":"markdown",
   "source":[
    "Кредитний клуб мав [дуже цікавий 2016 рік](https:\/\/en.wikipedia.org\/wiki\/Lending_Club#2016), тож давайте перевіримо деякі їх дані.\n",
    "\n",
    "Ми використовуватимемо дані про позики за 2007-2010 роки та намагатимемося класифікувати та прогнозувати, чи повертав позичальник їх повністю."
   ],
   "attachments":{
    
   },
   "metadata":{
    "datalore":{
     "node_id":"33wnoEW7ewp22uEzoJokSi",
     "type":"MD",
     "hide_input_from_viewers":false,
     "hide_output_from_viewers":false,
     "report_properties":{
      "rowId":"z07GfVSZbQg3uC5lHOvCDA"
     }
    }
   }
  },
  {
   "cell_type":"markdown",
   "source":[
    "Ось що представляють стовпці:\n",
    "* `credit.policy`: 1, якщо клієнт відповідає критеріям андеррайтингу кредитів LendingClub.com, і 0 в іншому випадку.\n",
    "\n",
    "* `purpose`: мета позики (приймає значення \"кредитна_карта\", \"консолідація боргу\", \"освітня\", \"основна_покупка\", \"малий бізнес\" та \"всі_інші\").\n",
    "\n",
    "* `int.rate`: процентна ставка позики, пропорційно (ставка 11% зберігатиметься як 0,11). Позичальникам, які LendingClub.com вважає більш ризикованими, призначаються вищі процентні ставки.\n",
    "\n",
    "* `installment`: щомісячні виплати позичальника, якщо позика фінансується.\n",
    "\n",
    "* `log.annual.inc`: журнал річного доходу позичальника, який самостійно звітується.\n",
    "\n",
    "* `dti`: відношення боргу до доходу позичальника (сума боргу, поділена на річний дохід).\n",
    "\n",
    "* `fico`: кредитний рейтинг позичальника FICO.\n",
    "\n",
    "* `days.with.cr.line`: кількість днів, коли позичальник мав кредитну лінію.\n",
    "\n",
    "* `revol.bal`: кредитний залишок позичальника (сума не виплачена в кінці циклу виставлення рахунків за кредитною карткою).\n",
    "\n",
    "* `revol.util`: коефіцієнт використання кридитної лінії позичальника (сума використаної кредитної лінії відносно загальної кількості доступних кредитів).\n",
    "\n",
    "* `inq.last.6mths`: кількість запитів позичальників з боку кредиторів за останні 6 місяців.\n",
    "\n",
    "* `delinq.2yrs`: кількість разів, протягом яких позичальник прострочував платежі протягом останніх 2 років понад 30 днів.\n",
    "\n",
    "* `pub.rec`: кількість публічних записів (заяви про банкрутство, податкова застава або рішення)."
   ],
   "attachments":{
    
   },
   "metadata":{
    "datalore":{
     "node_id":"YxEJZLaUHCYaF03XC8YQcP",
     "type":"MD",
     "hide_input_from_viewers":false,
     "hide_output_from_viewers":false,
     "report_properties":{
      "rowId":"bTmt2oztgq7qZkCTuxft96"
     }
    }
   }
  },
  {
   "cell_type":"markdown",
   "source":[
    "Алгоритм виконання та проміжні завдання:\n",
    "1. Відкрийте файл та виведіть описову статистику\n",
    "\n",
    "2. Створіть дві гістограми по полю fico (перша для значень not.fully.paid=0, друга = 1). Гістограми накладіть одна на одну.\n",
    "\n",
    "3. Відобразіть тенденцію між оцінкою fico та int.rate. Використайте jointplot\n",
    "\n",
    "4. Побудуйте графік lmplot на основі int.rate та fico. Коліром розідліть по полю credit.policy. Розбийте по значеннях цільової функції\n",
    "\n",
    "5. purpose є категорієї, тому варто перетворити за допомогою pd.get_dummies\n",
    "\n",
    "6. Розбийте датасет на тестві та трейнові дані\n",
    "\n",
    "7. Використайте для задачі класифікації такі моделі: дерево рішень, логістична регресія, random forest, XGBoost\n",
    "\n",
    "8. Для кожної з моделей виведіть матрицю, основні метрики\n",
    "\n",
    "8. *Використейте бібіотеку dtreeviz для візуалізації (там, де актуально)\n",
    "\n",
    "9. Використайте ансамбель voting для всіх моделей\n",
    "\n",
    "10. Порівняйте результати моделей та зробіть висновки"
   ],
   "attachments":{
    
   },
   "metadata":{
    "datalore":{
     "node_id":"yHAXga0riDj5IiSl6wjG1N",
     "type":"MD",
     "hide_input_from_viewers":false,
     "hide_output_from_viewers":false,
     "report_properties":{
      "rowId":"4XEdCwlisH6VjjvU2XJGyB"
     }
    }
   }
  },
  {
   "cell_type":"code",
   "source":[
    "!pip install dtreeviz"
   ],
   "execution_count":120,
   "outputs":[
    {
     "name":"stdout",
     "text":[
      "Requirement already satisfied: dtreeviz in \/opt\/python\/envs\/default\/lib\/python3.8\/site-packages (2.2.1)\r\n",
      "Requirement already satisfied: colour in \/opt\/python\/envs\/default\/lib\/python3.8\/site-packages (from dtreeviz) (0.1.5)\r\n",
      "Requirement already satisfied: scikit-learn in \/opt\/python\/envs\/default\/lib\/python3.8\/site-packages (from dtreeviz) (1.0.1)\r\n",
      "Requirement already satisfied: numpy in \/opt\/python\/envs\/default\/lib\/python3.8\/site-packages (from dtreeviz) (1.23.5)\r\n",
      "Requirement already satisfied: pytest in \/opt\/python\/envs\/default\/lib\/python3.8\/site-packages (from dtreeviz) (7.3.1)\r\n",
      "Requirement already satisfied: graphviz>=0.9 in \/opt\/python\/envs\/default\/lib\/python3.8\/site-packages (from dtreeviz) (0.20.1)\r\n",
      "Requirement already satisfied: pandas in \/opt\/python\/envs\/default\/lib\/python3.8\/site-packages (from dtreeviz) (1.3.5)\r\n",
      "Requirement already satisfied: matplotlib in \/opt\/python\/envs\/default\/lib\/python3.8\/site-packages (from dtreeviz) (3.5.1)\r\n",
      "Requirement already satisfied: pillow>=6.2.0 in \/opt\/python\/envs\/default\/lib\/python3.8\/site-packages (from matplotlib->dtreeviz) (9.5.0)\r\n",
      "Requirement already satisfied: kiwisolver>=1.0.1 in \/opt\/python\/envs\/default\/lib\/python3.8\/site-packages (from matplotlib->dtreeviz) (1.4.4)\r\n",
      "Requirement already satisfied: cycler>=0.10 in \/opt\/python\/envs\/default\/lib\/python3.8\/site-packages (from matplotlib->dtreeviz) (0.11.0)\r\n",
      "Requirement already satisfied: python-dateutil>=2.7 in \/opt\/python\/envs\/default\/lib\/python3.8\/site-packages (from matplotlib->dtreeviz) (2.8.2)\r\n",
      "Requirement already satisfied: pyparsing>=2.2.1 in \/opt\/python\/envs\/default\/lib\/python3.8\/site-packages (from matplotlib->dtreeviz) (3.0.9)\r\n",
      "Requirement already satisfied: fonttools>=4.22.0 in \/opt\/python\/envs\/default\/lib\/python3.8\/site-packages (from matplotlib->dtreeviz) (4.39.3)\r\n",
      "Requirement already satisfied: packaging>=20.0 in \/opt\/python\/envs\/default\/lib\/python3.8\/site-packages (from matplotlib->dtreeviz) (23.1)\r\n",
      "Requirement already satisfied: pytz>=2017.3 in \/opt\/python\/envs\/default\/lib\/python3.8\/site-packages (from pandas->dtreeviz) (2023.3)\r\n",
      "Requirement already satisfied: pluggy<2.0,>=0.12 in \/opt\/python\/envs\/default\/lib\/python3.8\/site-packages (from pytest->dtreeviz) (1.0.0)\r\n",
      "Requirement already satisfied: iniconfig in \/opt\/python\/envs\/default\/lib\/python3.8\/site-packages (from pytest->dtreeviz) (2.0.0)\r\n",
      "Requirement already satisfied: exceptiongroup>=1.0.0rc8 in \/opt\/python\/envs\/default\/lib\/python3.8\/site-packages (from pytest->dtreeviz) (1.1.1)\r\n",
      "Requirement already satisfied: tomli>=1.0.0 in \/opt\/python\/envs\/default\/lib\/python3.8\/site-packages (from pytest->dtreeviz) (2.0.1)\r\n",
      "Requirement already satisfied: scipy>=1.1.0 in \/opt\/python\/envs\/default\/lib\/python3.8\/site-packages (from scikit-learn->dtreeviz) (1.10.1)\r\n",
      "Requirement already satisfied: joblib>=0.11 in \/opt\/python\/envs\/default\/lib\/python3.8\/site-packages (from scikit-learn->dtreeviz) (1.2.0)\r\n",
      "Requirement already satisfied: threadpoolctl>=2.0.0 in \/opt\/python\/envs\/default\/lib\/python3.8\/site-packages (from scikit-learn->dtreeviz) (3.1.0)\r\n",
      "Requirement already satisfied: six>=1.5 in \/opt\/python\/envs\/default\/lib\/python3.8\/site-packages (from python-dateutil>=2.7->matplotlib->dtreeviz) (1.16.0)\r\n",
      "\r\n",
      "\u001b[1m[\u001b[0m\u001b[34;49mnotice\u001b[0m\u001b[1;39;49m]\u001b[0m\u001b[39;49m A new release of pip is available: \u001b[0m\u001b[31;49m23.0.1\u001b[0m\u001b[39;49m -> \u001b[0m\u001b[32;49m23.1.2\u001b[0m\r\n",
      "\u001b[1m[\u001b[0m\u001b[34;49mnotice\u001b[0m\u001b[1;39;49m]\u001b[0m\u001b[39;49m To update, run: \u001b[0m\u001b[32;49mpip install --upgrade pip\u001b[0m\r\n"
     ],
     "output_type":"stream"
    }
   ],
   "metadata":{
    "datalore":{
     "node_id":"mmT1xVKNe85FgdaMkVJqLi",
     "type":"CODE",
     "hide_input_from_viewers":true,
     "hide_output_from_viewers":true
    }
   }
  },
  {
   "cell_type":"code",
   "source":[
    "#Відкрийте файл та виведіть описову статистику\n",
    "\n",
    "import pandas as pd\n",
    "\n",
    "df = pd.read_csv('loan_data.csv')\n",
    "df.describe() #виводимо описову статистику"
   ],
   "execution_count":50,
   "outputs":[
    {
     "data":{
      "text\/html":[
       "<div>\n",
       "<style scoped>\n",
       "    .dataframe tbody tr th:only-of-type {\n",
       "        vertical-align: middle;\n",
       "    }\n",
       "\n",
       "    .dataframe tbody tr th {\n",
       "        vertical-align: top;\n",
       "    }\n",
       "\n",
       "    .dataframe thead th {\n",
       "        text-align: right;\n",
       "    }\n",
       "<\/style>\n",
       "<table border=\"1\" class=\"dataframe\">\n",
       "  <thead>\n",
       "    <tr style=\"text-align: right;\">\n",
       "      <th><\/th>\n",
       "      <th>credit.policy<\/th>\n",
       "      <th>int.rate<\/th>\n",
       "      <th>installment<\/th>\n",
       "      <th>log.annual.inc<\/th>\n",
       "      <th>dti<\/th>\n",
       "      <th>fico<\/th>\n",
       "      <th>days.with.cr.line<\/th>\n",
       "      <th>revol.bal<\/th>\n",
       "      <th>revol.util<\/th>\n",
       "      <th>inq.last.6mths<\/th>\n",
       "      <th>delinq.2yrs<\/th>\n",
       "      <th>pub.rec<\/th>\n",
       "      <th>not.fully.paid<\/th>\n",
       "    <\/tr>\n",
       "  <\/thead>\n",
       "  <tbody>\n",
       "    <tr>\n",
       "      <th>count<\/th>\n",
       "      <td>9578.000000<\/td>\n",
       "      <td>9578.000000<\/td>\n",
       "      <td>9578.000000<\/td>\n",
       "      <td>9578.000000<\/td>\n",
       "      <td>9578.000000<\/td>\n",
       "      <td>9578.000000<\/td>\n",
       "      <td>9578.000000<\/td>\n",
       "      <td>9.578000e+03<\/td>\n",
       "      <td>9578.000000<\/td>\n",
       "      <td>9578.000000<\/td>\n",
       "      <td>9578.000000<\/td>\n",
       "      <td>9578.000000<\/td>\n",
       "      <td>9578.000000<\/td>\n",
       "    <\/tr>\n",
       "    <tr>\n",
       "      <th>mean<\/th>\n",
       "      <td>0.804970<\/td>\n",
       "      <td>0.122640<\/td>\n",
       "      <td>319.089413<\/td>\n",
       "      <td>10.932117<\/td>\n",
       "      <td>12.606679<\/td>\n",
       "      <td>710.846314<\/td>\n",
       "      <td>4560.767197<\/td>\n",
       "      <td>1.691396e+04<\/td>\n",
       "      <td>46.799236<\/td>\n",
       "      <td>1.577469<\/td>\n",
       "      <td>0.163708<\/td>\n",
       "      <td>0.062122<\/td>\n",
       "      <td>0.160054<\/td>\n",
       "    <\/tr>\n",
       "    <tr>\n",
       "      <th>std<\/th>\n",
       "      <td>0.396245<\/td>\n",
       "      <td>0.026847<\/td>\n",
       "      <td>207.071301<\/td>\n",
       "      <td>0.614813<\/td>\n",
       "      <td>6.883970<\/td>\n",
       "      <td>37.970537<\/td>\n",
       "      <td>2496.930377<\/td>\n",
       "      <td>3.375619e+04<\/td>\n",
       "      <td>29.014417<\/td>\n",
       "      <td>2.200245<\/td>\n",
       "      <td>0.546215<\/td>\n",
       "      <td>0.262126<\/td>\n",
       "      <td>0.366676<\/td>\n",
       "    <\/tr>\n",
       "    <tr>\n",
       "      <th>min<\/th>\n",
       "      <td>0.000000<\/td>\n",
       "      <td>0.060000<\/td>\n",
       "      <td>15.670000<\/td>\n",
       "      <td>7.547502<\/td>\n",
       "      <td>0.000000<\/td>\n",
       "      <td>612.000000<\/td>\n",
       "      <td>178.958333<\/td>\n",
       "      <td>0.000000e+00<\/td>\n",
       "      <td>0.000000<\/td>\n",
       "      <td>0.000000<\/td>\n",
       "      <td>0.000000<\/td>\n",
       "      <td>0.000000<\/td>\n",
       "      <td>0.000000<\/td>\n",
       "    <\/tr>\n",
       "    <tr>\n",
       "      <th>25%<\/th>\n",
       "      <td>1.000000<\/td>\n",
       "      <td>0.103900<\/td>\n",
       "      <td>163.770000<\/td>\n",
       "      <td>10.558414<\/td>\n",
       "      <td>7.212500<\/td>\n",
       "      <td>682.000000<\/td>\n",
       "      <td>2820.000000<\/td>\n",
       "      <td>3.187000e+03<\/td>\n",
       "      <td>22.600000<\/td>\n",
       "      <td>0.000000<\/td>\n",
       "      <td>0.000000<\/td>\n",
       "      <td>0.000000<\/td>\n",
       "      <td>0.000000<\/td>\n",
       "    <\/tr>\n",
       "    <tr>\n",
       "      <th>50%<\/th>\n",
       "      <td>1.000000<\/td>\n",
       "      <td>0.122100<\/td>\n",
       "      <td>268.950000<\/td>\n",
       "      <td>10.928884<\/td>\n",
       "      <td>12.665000<\/td>\n",
       "      <td>707.000000<\/td>\n",
       "      <td>4139.958333<\/td>\n",
       "      <td>8.596000e+03<\/td>\n",
       "      <td>46.300000<\/td>\n",
       "      <td>1.000000<\/td>\n",
       "      <td>0.000000<\/td>\n",
       "      <td>0.000000<\/td>\n",
       "      <td>0.000000<\/td>\n",
       "    <\/tr>\n",
       "    <tr>\n",
       "      <th>75%<\/th>\n",
       "      <td>1.000000<\/td>\n",
       "      <td>0.140700<\/td>\n",
       "      <td>432.762500<\/td>\n",
       "      <td>11.291293<\/td>\n",
       "      <td>17.950000<\/td>\n",
       "      <td>737.000000<\/td>\n",
       "      <td>5730.000000<\/td>\n",
       "      <td>1.824950e+04<\/td>\n",
       "      <td>70.900000<\/td>\n",
       "      <td>2.000000<\/td>\n",
       "      <td>0.000000<\/td>\n",
       "      <td>0.000000<\/td>\n",
       "      <td>0.000000<\/td>\n",
       "    <\/tr>\n",
       "    <tr>\n",
       "      <th>max<\/th>\n",
       "      <td>1.000000<\/td>\n",
       "      <td>0.216400<\/td>\n",
       "      <td>940.140000<\/td>\n",
       "      <td>14.528354<\/td>\n",
       "      <td>29.960000<\/td>\n",
       "      <td>827.000000<\/td>\n",
       "      <td>17639.958330<\/td>\n",
       "      <td>1.207359e+06<\/td>\n",
       "      <td>119.000000<\/td>\n",
       "      <td>33.000000<\/td>\n",
       "      <td>13.000000<\/td>\n",
       "      <td>5.000000<\/td>\n",
       "      <td>1.000000<\/td>\n",
       "    <\/tr>\n",
       "  <\/tbody>\n",
       "<\/table>\n",
       "<\/div>"
      ]
     },
     "metadata":{
      
     },
     "output_type":"display_data"
    }
   ],
   "metadata":{
    "datalore":{
     "node_id":"vRSLNXDrdojvj4HgwckJT7",
     "type":"CODE",
     "hide_input_from_viewers":false,
     "hide_output_from_viewers":false,
     "report_properties":{
      "rowId":"DsgfBfDXDUpvTeZz2UeIoA"
     }
    }
   }
  },
  {
   "cell_type":"code",
   "source":[
    "#Створіть дві гістограми по полю fico (перша для значень not.fully.paid=0, друга = 1)\n",
    "\n",
    "import matplotlib.pyplot as plt\n",
    "\n",
    "fig = plt.figure(figsize=(8, 6))\n",
    "plt.hist(df[df['not.fully.paid'] == 0]['fico'], bins=10, alpha=0.5, label=' Повертали позику')\n",
    "\n",
    "plt.hist(df[df['not.fully.paid'] == 1]['fico'], bins=10, alpha=0.5, label='Не повністю повертали позику')\n",
    "\n",
    "plt.legend(loc='upper right')\n",
    "plt.title('Кредитний рейтинг позичальників FICO відповідно до ймовірності повернення коштів')\n",
    "plt.show()\n",
    "\n",
    "# З гістограми наглядно бачимо що чим вищий кредитний рейтинг позичальника тим більша ймовірність, що він поверне позику"
   ],
   "execution_count":20,
   "outputs":[
    {
     "data":{
      "image\/png":"[encoded data removed]"
     },
     "metadata":{
      "image\/png":{
       
      }
     },
     "output_type":"display_data"
    }
   ],
   "metadata":{
    "datalore":{
     "node_id":"BccZzAbYaryVQi9mb9tVxZ",
     "type":"CODE",
     "hide_input_from_viewers":true,
     "hide_output_from_viewers":true
    }
   }
  },
  {
   "cell_type":"code",
   "source":[
    "#3. Відобразіть тенденцію між оцінкою fico та int.rate. Використайте jointplot\n",
    "\n",
    "import seaborn as sns\n",
    "\n",
    "sns.jointplot(x='int.rate', y='fico', data=df[['int.rate', 'fico']], kind='reg', height=8, ratio=6)\n",
    "plt.show()\n",
    "\n",
    "# На графіку ми бачимо негативну тенденцію.\n",
    "# Оскільки позичальники з нищим рейтингом з більшою ймовірністю не повернуть позику = більший ризик > більша ставка int rate\n",
    "# Але (!) є певні позичальники з хорошим рейтингами FICO але їм були призначена висока процентна ставка позики "
   ],
   "execution_count":39,
   "outputs":[
    {
     "data":{
      "image\/png":"[encoded data removed]"
     },
     "metadata":{
      "image\/png":{
       
      }
     },
     "output_type":"display_data"
    }
   ],
   "metadata":{
    "datalore":{
     "node_id":"o7yVpSg6g3N7NAydAWVCt7",
     "type":"CODE",
     "hide_input_from_viewers":true,
     "hide_output_from_viewers":true
    }
   }
  },
  {
   "cell_type":"code",
   "source":[
    "#4. Побудуйте графік lmplot на основі int.rate та fico. Коліром розідліть по полю credit.policy.\n",
    "# Розбийте по значеннях цільової функції \n",
    "sns.lmplot(x='int.rate', y='fico', data=df, hue='credit.policy', row= 'not.fully.paid', height=8)\n",
    "\n",
    "plt.show()"
   ],
   "execution_count":63,
   "outputs":[
    {
     "data":{
      "image\/png":"[encoded data removed]"
     },
     "metadata":{
      "image\/png":{
       
      }
     },
     "output_type":"display_data"
    }
   ],
   "metadata":{
    "datalore":{
     "node_id":"Lq8uiQAH2ay0rkhR0Fjvk4",
     "type":"CODE",
     "hide_input_from_viewers":true,
     "hide_output_from_viewers":true
    }
   }
  },
  {
   "cell_type":"code",
   "source":[
    "#5. purpose є категорієї, тперетворюємо за допомогою pd.get_dummies\n",
    "df = pd.get_dummies(df, columns=['purpose'])"
   ],
   "execution_count":51,
   "outputs":[
    
   ],
   "metadata":{
    "datalore":{
     "node_id":"J3YllRekI4C54ByZl6fo6C",
     "type":"CODE",
     "hide_input_from_viewers":true,
     "hide_output_from_viewers":true
    }
   }
  },
  {
   "cell_type":"code",
   "source":[
    "df.head(3)"
   ],
   "execution_count":54,
   "outputs":[
    {
     "data":{
      "text\/html":[
       "<div>\n",
       "<style scoped>\n",
       "    .dataframe tbody tr th:only-of-type {\n",
       "        vertical-align: middle;\n",
       "    }\n",
       "\n",
       "    .dataframe tbody tr th {\n",
       "        vertical-align: top;\n",
       "    }\n",
       "\n",
       "    .dataframe thead th {\n",
       "        text-align: right;\n",
       "    }\n",
       "<\/style>\n",
       "<table border=\"1\" class=\"dataframe\">\n",
       "  <thead>\n",
       "    <tr style=\"text-align: right;\">\n",
       "      <th><\/th>\n",
       "      <th>credit.policy<\/th>\n",
       "      <th>int.rate<\/th>\n",
       "      <th>installment<\/th>\n",
       "      <th>log.annual.inc<\/th>\n",
       "      <th>dti<\/th>\n",
       "      <th>fico<\/th>\n",
       "      <th>days.with.cr.line<\/th>\n",
       "      <th>revol.bal<\/th>\n",
       "      <th>revol.util<\/th>\n",
       "      <th>inq.last.6mths<\/th>\n",
       "      <th>delinq.2yrs<\/th>\n",
       "      <th>pub.rec<\/th>\n",
       "      <th>not.fully.paid<\/th>\n",
       "      <th>purpose_all_other<\/th>\n",
       "      <th>purpose_credit_card<\/th>\n",
       "      <th>purpose_debt_consolidation<\/th>\n",
       "      <th>purpose_educational<\/th>\n",
       "      <th>purpose_home_improvement<\/th>\n",
       "      <th>purpose_major_purchase<\/th>\n",
       "      <th>purpose_small_business<\/th>\n",
       "    <\/tr>\n",
       "  <\/thead>\n",
       "  <tbody>\n",
       "    <tr>\n",
       "      <th>0<\/th>\n",
       "      <td>1<\/td>\n",
       "      <td>0.1189<\/td>\n",
       "      <td>829.10<\/td>\n",
       "      <td>11.350407<\/td>\n",
       "      <td>19.48<\/td>\n",
       "      <td>737<\/td>\n",
       "      <td>5639.958333<\/td>\n",
       "      <td>28854<\/td>\n",
       "      <td>52.1<\/td>\n",
       "      <td>0<\/td>\n",
       "      <td>0<\/td>\n",
       "      <td>0<\/td>\n",
       "      <td>0<\/td>\n",
       "      <td>0<\/td>\n",
       "      <td>0<\/td>\n",
       "      <td>1<\/td>\n",
       "      <td>0<\/td>\n",
       "      <td>0<\/td>\n",
       "      <td>0<\/td>\n",
       "      <td>0<\/td>\n",
       "    <\/tr>\n",
       "    <tr>\n",
       "      <th>1<\/th>\n",
       "      <td>1<\/td>\n",
       "      <td>0.1071<\/td>\n",
       "      <td>228.22<\/td>\n",
       "      <td>11.082143<\/td>\n",
       "      <td>14.29<\/td>\n",
       "      <td>707<\/td>\n",
       "      <td>2760.000000<\/td>\n",
       "      <td>33623<\/td>\n",
       "      <td>76.7<\/td>\n",
       "      <td>0<\/td>\n",
       "      <td>0<\/td>\n",
       "      <td>0<\/td>\n",
       "      <td>0<\/td>\n",
       "      <td>0<\/td>\n",
       "      <td>1<\/td>\n",
       "      <td>0<\/td>\n",
       "      <td>0<\/td>\n",
       "      <td>0<\/td>\n",
       "      <td>0<\/td>\n",
       "      <td>0<\/td>\n",
       "    <\/tr>\n",
       "    <tr>\n",
       "      <th>2<\/th>\n",
       "      <td>1<\/td>\n",
       "      <td>0.1357<\/td>\n",
       "      <td>366.86<\/td>\n",
       "      <td>10.373491<\/td>\n",
       "      <td>11.63<\/td>\n",
       "      <td>682<\/td>\n",
       "      <td>4710.000000<\/td>\n",
       "      <td>3511<\/td>\n",
       "      <td>25.6<\/td>\n",
       "      <td>1<\/td>\n",
       "      <td>0<\/td>\n",
       "      <td>0<\/td>\n",
       "      <td>0<\/td>\n",
       "      <td>0<\/td>\n",
       "      <td>0<\/td>\n",
       "      <td>1<\/td>\n",
       "      <td>0<\/td>\n",
       "      <td>0<\/td>\n",
       "      <td>0<\/td>\n",
       "      <td>0<\/td>\n",
       "    <\/tr>\n",
       "  <\/tbody>\n",
       "<\/table>\n",
       "<\/div>"
      ]
     },
     "metadata":{
      
     },
     "output_type":"display_data"
    }
   ],
   "metadata":{
    "datalore":{
     "node_id":"PGtfo1Avg3BUrb8Qt2kiH1",
     "type":"CODE",
     "hide_input_from_viewers":true,
     "hide_output_from_viewers":true
    }
   }
  },
  {
   "cell_type":"code",
   "source":[
    "#6. Розбийте датасет на тестві та трейнові дані\n",
    "from sklearn.model_selection import train_test_split\n",
    "\n",
    "X = df[['credit.policy', 'int.rate', 'installment', 'log.annual.inc', 'dti',\n",
    "       'fico', 'days.with.cr.line', 'revol.bal', 'revol.util',\n",
    "       'inq.last.6mths', 'delinq.2yrs', 'pub.rec',\n",
    "        'purpose_all_other', 'purpose_credit_card',\n",
    "       'purpose_debt_consolidation', 'purpose_educational',\n",
    "       'purpose_home_improvement', 'purpose_major_purchase',\n",
    "       'purpose_small_business']]\n",
    "y = df['not.fully.paid']\n",
    "    \n",
    "X_train, X_test, y_train, y_test = train_test_split(X, y, test_size=0.2, random_state=0)"
   ],
   "execution_count":67,
   "outputs":[
    
   ],
   "metadata":{
    "datalore":{
     "node_id":"uA1VeEjIX5i6uSgXR6BLhH",
     "type":"CODE",
     "hide_input_from_viewers":true,
     "hide_output_from_viewers":true
    }
   }
  },
  {
   "cell_type":"code",
   "source":[
    "#7.1 Модель дерево рішень\n",
    "\n",
    "from sklearn.tree import DecisionTreeClassifier\n",
    "\n",
    "model1 = DecisionTreeClassifier(random_state=42)\n",
    "\n",
    "model1.fit(X_train, y_train)\n",
    "y_pred = model1.predict(X_test)"
   ],
   "execution_count":127,
   "outputs":[
    
   ],
   "metadata":{
    "datalore":{
     "node_id":"FczBLSOfIwQ5n6rlGg7d1x",
     "type":"CODE",
     "hide_input_from_viewers":true,
     "hide_output_from_viewers":true
    }
   }
  },
  {
   "cell_type":"code",
   "source":[
    "# 8.1 Матриця та основні метрики для моделі Дерево рішень\n",
    "from sklearn.metrics import confusion_matrix\n",
    "from sklearn.metrics import classification_report\n",
    "\n",
    "conf_matrix_forDT = confusion_matrix(y_test, y_pred)  #Матриця помилок\n",
    "print(conf_matrix_forDT)"
   ],
   "execution_count":117,
   "outputs":[
    {
     "name":"stdout",
     "text":[
      "[[1338  277]\n",
      " [ 227   74]]\n"
     ],
     "output_type":"stream"
    }
   ],
   "metadata":{
    "datalore":{
     "node_id":"ct6SEEXziae2tJBKvaphJF",
     "type":"CODE",
     "hide_input_from_viewers":true,
     "hide_output_from_viewers":true
    }
   }
  },
  {
   "cell_type":"code",
   "source":[
    "report_forDT = classification_report(y_test, y_pred) #Основні метрики класифікації\n",
    "print(report_forDT)"
   ],
   "execution_count":118,
   "outputs":[
    {
     "name":"stdout",
     "text":[
      "              precision    recall  f1-score   support\n",
      "\n",
      "           0       0.85      0.83      0.84      1615\n",
      "           1       0.21      0.25      0.23       301\n",
      "\n",
      "    accuracy                           0.74      1916\n",
      "   macro avg       0.53      0.54      0.53      1916\n",
      "weighted avg       0.75      0.74      0.74      1916\n",
      "\n"
     ],
     "output_type":"stream"
    }
   ],
   "metadata":{
    "datalore":{
     "node_id":"Jz8XNb8P1MpZNFJ3HLvRWs",
     "type":"CODE",
     "hide_input_from_viewers":true,
     "hide_output_from_viewers":true
    }
   }
  },
  {
   "cell_type":"code",
   "source":[
    "# Візуалізація дерева\n",
    "viz = dtreeviz(model1, X_train, y_train, target_name='class')\n",
    "viz.view()"
   ],
   "execution_count":128,
   "outputs":[
    {
     "ename":"TypeError",
     "evalue":"TypeError: 'module' object is not callable",
     "traceback":[
      "\u001b[0;31m---------------------------------------------------------------------------",
      "Traceback (most recent call last)",
      "    at line 2 in <module>",
      "TypeError: 'module' object is not callable"
     ],
     "output_type":"error"
    }
   ],
   "metadata":{
    "datalore":{
     "node_id":"ZRrXGwYo7C8PiqLgghO1FY",
     "type":"CODE",
     "hide_input_from_viewers":true,
     "hide_output_from_viewers":true
    }
   }
  },
  {
   "cell_type":"code",
   "source":[
    "#7.2 Логістична регресія\n",
    "from sklearn.linear_model import LogisticRegression\n",
    "\n",
    "model2 = LogisticRegression(max_iter=1000).fit(X_train, y_train)\n",
    "y_pred = model2.predict(X_test)"
   ],
   "execution_count":95,
   "outputs":[
    
   ],
   "metadata":{
    "datalore":{
     "node_id":"A4PROpobCpwpdCK6UkdKYP",
     "type":"CODE",
     "hide_input_from_viewers":true,
     "hide_output_from_viewers":true
    }
   }
  },
  {
   "cell_type":"code",
   "source":[
    "#8.2 Матриця та основні метрики для моделі лінійної регресії\n",
    "\n",
    "conf_matrix_forLR = confusion_matrix(y_test, y_pred)\n",
    "print(conf_matrix_forLR)"
   ],
   "execution_count":96,
   "outputs":[
    {
     "name":"stdout",
     "text":[
      "[[1608    7]\n",
      " [ 298    3]]\n"
     ],
     "output_type":"stream"
    }
   ],
   "metadata":{
    "datalore":{
     "node_id":"uL2CYiucjbYCXrGppW2dRH",
     "type":"CODE",
     "hide_input_from_viewers":true,
     "hide_output_from_viewers":true
    }
   }
  },
  {
   "cell_type":"code",
   "source":[
    "report_forLR = classification_report(y_test, y_pred)\n",
    "print(report_forLR)"
   ],
   "execution_count":97,
   "outputs":[
    {
     "name":"stdout",
     "text":[
      "              precision    recall  f1-score   support\n",
      "\n",
      "           0       0.84      1.00      0.91      1615\n",
      "           1       0.30      0.01      0.02       301\n",
      "\n",
      "    accuracy                           0.84      1916\n",
      "   macro avg       0.57      0.50      0.47      1916\n",
      "weighted avg       0.76      0.84      0.77      1916\n",
      "\n"
     ],
     "output_type":"stream"
    }
   ],
   "metadata":{
    "datalore":{
     "node_id":"sLPOaeLEWSvLkrjT2c0h9s",
     "type":"CODE",
     "hide_input_from_viewers":true,
     "hide_output_from_viewers":true
    }
   }
  },
  {
   "cell_type":"code",
   "source":[
    "#7.3 Random forest\n",
    "from sklearn.ensemble import RandomForestClassifier\n",
    "\n",
    "# визначаємо модель Random Forest з 100 деревами і обмеженням глибини дерева до max_depthрівнів\n",
    "model3 = RandomForestClassifier(n_estimators=100, max_depth=5, random_state=0)\n",
    "\n",
    "# навчаємо модель на тренувальній вибірці\n",
    "model3.fit(X_train, y_train)\n",
    "\n",
    "# здійснюємо передбачення на тестовій вибірці\n",
    "y_pred = model3.predict(X_test)\n"
   ],
   "execution_count":99,
   "outputs":[
    
   ],
   "metadata":{
    "datalore":{
     "node_id":"d3WaztS45TyvupBNBvrHoe",
     "type":"CODE",
     "hide_input_from_viewers":true,
     "hide_output_from_viewers":true
    }
   }
  },
  {
   "cell_type":"code",
   "source":[
    "#8.3 Матриця та основні метрики для моделі Random forest\n",
    "\n",
    "conf_matrix_forRF = confusion_matrix(y_test, y_pred) \n",
    "print(conf_matrix_forRF)"
   ],
   "execution_count":100,
   "outputs":[
    {
     "name":"stdout",
     "text":[
      "[[1615    0]\n",
      " [ 301    0]]\n"
     ],
     "output_type":"stream"
    }
   ],
   "metadata":{
    "datalore":{
     "node_id":"c9M6vY3QvRjSjWPLqKvlju",
     "type":"CODE",
     "hide_input_from_viewers":true,
     "hide_output_from_viewers":true
    }
   }
  },
  {
   "cell_type":"code",
   "source":[
    "report_forRF = classification_report(y_test, y_pred)\n",
    "print(report_forRF)"
   ],
   "execution_count":101,
   "outputs":[
    {
     "name":"stdout",
     "text":[
      "              precision    recall  f1-score   support\n",
      "\n",
      "           0       0.84      1.00      0.91      1615\n",
      "           1       0.00      0.00      0.00       301\n",
      "\n",
      "    accuracy                           0.84      1916\n",
      "   macro avg       0.42      0.50      0.46      1916\n",
      "weighted avg       0.71      0.84      0.77      1916\n",
      "\n"
     ],
     "output_type":"stream"
    },
    {
     "name":"stderr",
     "text":[
      "\/opt\/python\/envs\/default\/lib\/python3.8\/site-packages\/sklearn\/metrics\/_classification.py:1308: UndefinedMetricWarning: Precision and F-score are ill-defined and being set to 0.0 in labels with no predicted samples. Use `zero_division` parameter to control this behavior.\n",
      "  _warn_prf(average, modifier, msg_start, len(result))\n",
      "\/opt\/python\/envs\/default\/lib\/python3.8\/site-packages\/sklearn\/metrics\/_classification.py:1308: UndefinedMetricWarning: Precision and F-score are ill-defined and being set to 0.0 in labels with no predicted samples. Use `zero_division` parameter to control this behavior.\n",
      "  _warn_prf(average, modifier, msg_start, len(result))\n",
      "\/opt\/python\/envs\/default\/lib\/python3.8\/site-packages\/sklearn\/metrics\/_classification.py:1308: UndefinedMetricWarning: Precision and F-score are ill-defined and being set to 0.0 in labels with no predicted samples. Use `zero_division` parameter to control this behavior.\n",
      "  _warn_prf(average, modifier, msg_start, len(result))\n"
     ],
     "output_type":"stream"
    }
   ],
   "metadata":{
    "datalore":{
     "node_id":"GQCOZgfaGhTdIPU6OEdZ9c",
     "type":"CODE",
     "hide_input_from_viewers":true,
     "hide_output_from_viewers":true
    }
   }
  },
  {
   "cell_type":"code",
   "source":[
    "#7.4 XGBoost\n",
    "from sklearn.metrics import accuracy_score\n",
    "from xgboost import XGBClassifier\n",
    "\n",
    "model4 = XGBClassifier()\n",
    "model4.fit(X_train, y_train)\n",
    "\n",
    "# Здійснюємо класифікацію на тестових даних та виводимо accuracy\n",
    "y_pred = model4.predict(X_test)\n",
    "accuracy = accuracy_score(y_test, y_pred)"
   ],
   "execution_count":105,
   "outputs":[
    {
     "name":"stdout",
     "text":[
      "[20:16:09] WARNING: ..\/src\/learner.cc:1115: Starting in XGBoost 1.3.0, the default evaluation metric used with the objective 'binary:logistic' was changed from 'error' to 'logloss'. Explicitly set eval_metric if you'd like to restore the old behavior.\n"
     ],
     "output_type":"stream"
    }
   ],
   "metadata":{
    "datalore":{
     "node_id":"WF0sEvFfhQqPNTpggtMaE2",
     "type":"CODE",
     "hide_input_from_viewers":true,
     "hide_output_from_viewers":true
    }
   }
  },
  {
   "cell_type":"code",
   "source":[
    "#8.4  Матриця та основні метрики для моделі XGBoost\n",
    "\n",
    "conf_matrix_forXGB = confusion_matrix(y_test, y_pred) \n",
    "print(conf_matrix_forRF)"
   ],
   "execution_count":107,
   "outputs":[
    {
     "name":"stdout",
     "text":[
      "[[1615    0]\n",
      " [ 301    0]]\n"
     ],
     "output_type":"stream"
    }
   ],
   "metadata":{
    "datalore":{
     "node_id":"wfdm0fRlulx8Cg5dwO6mTW",
     "type":"CODE",
     "hide_input_from_viewers":true,
     "hide_output_from_viewers":true
    }
   }
  },
  {
   "cell_type":"code",
   "source":[
    "report_forXGB= classification_report(y_test, y_pred) #Основні метрики класифікації\n",
    "print(report_forXGB)"
   ],
   "execution_count":108,
   "outputs":[
    {
     "name":"stdout",
     "text":[
      "              precision    recall  f1-score   support\n",
      "\n",
      "           0       0.85      0.97      0.91      1615\n",
      "           1       0.37      0.09      0.14       301\n",
      "\n",
      "    accuracy                           0.83      1916\n",
      "   macro avg       0.61      0.53      0.53      1916\n",
      "weighted avg       0.78      0.83      0.79      1916\n",
      "\n"
     ],
     "output_type":"stream"
    }
   ],
   "metadata":{
    "datalore":{
     "node_id":"5Psn3JXq82BImxj4ZMsMCz",
     "type":"CODE",
     "hide_input_from_viewers":true,
     "hide_output_from_viewers":true
    }
   }
  },
  {
   "cell_type":"code",
   "source":[
    "# 9. Використайте ансамбель voting для всіх моделей"
   ],
   "execution_count":null,
   "outputs":[
    
   ],
   "metadata":{
    "datalore":{
     "node_id":"VPm5DfYNOiOMU9HpFLFkqS",
     "type":"CODE",
     "hide_input_from_viewers":true,
     "hide_output_from_viewers":true
    }
   }
  },
  {
   "cell_type":"code",
   "source":[
    
   ],
   "execution_count":null,
   "outputs":[
    
   ],
   "metadata":{
    "datalore":{
     "node_id":"fV9ATAOtEzApNDCPg8nsi4",
     "type":"CODE",
     "hide_input_from_viewers":true,
     "hide_output_from_viewers":true
    }
   }
  },
  {
   "cell_type":"code",
   "source":[
    "# 10. Порівняйте результати моделей та зробіть висновки"
   ],
   "execution_count":null,
   "outputs":[
    
   ],
   "metadata":{
    "datalore":{
     "node_id":"cOb4sxh1sBjTnLbdMhooup",
     "type":"CODE",
     "hide_input_from_viewers":true,
     "hide_output_from_viewers":true
    }
   }
  },
  {
   "cell_type":"code",
   "source":[
    
   ],
   "execution_count":null,
   "outputs":[
    
   ],
   "metadata":{
    "datalore":{
     "node_id":"3RPns9isWVqlyQyFoepxaG",
     "type":"CODE",
     "hide_input_from_viewers":true,
     "hide_output_from_viewers":true
    }
   }
  },
  {
   "cell_type":"markdown",
   "source":[
    "### Завдання 2:"
   ],
   "attachments":{
    
   },
   "metadata":{
    "datalore":{
     "node_id":"9A9WItowhiH1JH8RRxPj24",
     "type":"MD",
     "hide_input_from_viewers":false,
     "hide_output_from_viewers":false,
     "report_properties":{
      "rowId":"NTRVzPmzC7H2wvwZKUceRj"
     }
    }
   }
  },
  {
   "cell_type":"markdown",
   "source":[
    "Просте завдання на обробку часових рядів."
   ],
   "attachments":{
    
   },
   "metadata":{
    "datalore":{
     "node_id":"ticOW2FCW9ADqt8hhu0Mj8",
     "type":"MD",
     "hide_input_from_viewers":false,
     "hide_output_from_viewers":false,
     "report_properties":{
      "rowId":"uYAZiK5QyYNhhKmDTqBLgZ"
     }
    }
   }
  },
  {
   "cell_type":"markdown",
   "source":[
    "Потрібно вивести наступну інформацію: \n",
    "1. Виведіть список унікальних міст з датасету\n",
    "2. Виведіть дату початку та кінця ведення даних\n",
    "3. Яка середня конценрація $NO_2$ для кожного дня тижня і міста (виведіть таблицю)?\n",
    "4. Яке середнє значення для кожної години (виведіть стовбчикову діаграму)?"
   ],
   "attachments":{
    
   },
   "metadata":{
    "datalore":{
     "node_id":"vruCtbSMWlSUDD5MYZcC6G",
     "type":"MD",
     "hide_input_from_viewers":false,
     "hide_output_from_viewers":false,
     "report_properties":{
      "rowId":"605WxSBCDp7dHq15nqzv26"
     }
    }
   }
  },
  {
   "cell_type":"code",
   "source":[
    "url = \"https:\/\/raw.githubusercontent.com\/dm-fedorov\/pandas_basic\/master\/%D0%B1%D1%8B%D1%81%D1%82%D1%80%D0%BE%D0%B5%20%D0%B2%D0%B2%D0%B5%D0%B4%D0%B5%D0%BD%D0%B8%D0%B5%20%D0%B2%20pandas\/data\/air_quality_no2_long.csv\""
   ],
   "execution_count":2,
   "outputs":[
    
   ],
   "metadata":{
    "datalore":{
     "node_id":"E4c7fQ6GLzWDDbEVpiY9tg",
     "type":"CODE",
     "hide_input_from_viewers":false,
     "hide_output_from_viewers":false,
     "report_properties":{
      "rowId":"Poi1FeRijTOrTrJ48oSiVb"
     }
    }
   }
  },
  {
   "cell_type":"code",
   "source":[
    "import pandas as pd\n",
    "df = pd.read_csv(url, delimiter=',') "
   ],
   "execution_count":7,
   "outputs":[
    
   ],
   "metadata":{
    "datalore":{
     "node_id":"hmYUVzqiWPE2cAumhyY6e6",
     "type":"CODE",
     "hide_input_from_viewers":true,
     "hide_output_from_viewers":true
    }
   }
  },
  {
   "cell_type":"code",
   "source":[
    "# 1. Cписок унікальних міст з датасету\n",
    "df['city'].unique()"
   ],
   "execution_count":10,
   "outputs":[
    {
     "data":{
      "text\/html":[
       "<pre>array(['Paris', 'Antwerpen', 'London'], dtype=object)<\/pre>"
      ]
     },
     "metadata":{
      
     },
     "output_type":"display_data"
    }
   ],
   "metadata":{
    "datalore":{
     "node_id":"hUvuLPppnkxaYYZrsJS7EI",
     "type":"CODE",
     "hide_input_from_viewers":true,
     "hide_output_from_viewers":true
    }
   }
  },
  {
   "cell_type":"code",
   "source":[
    "# 2. Виведіть дату початку та кінця ведення даних\n",
    "\n",
    "df['date.utc'] = pd.to_datetime(df['date.utc'])\n",
    "start_date = df['date.utc'].dt.date.min()\n",
    "finish_date = df['date.utc'].dt.date.max()\n",
    "\n",
    "print(f'Дату початку ведення даних: {start_date}. \\nДата кінця ведення данних: {finish_date}.')"
   ],
   "execution_count":24,
   "outputs":[
    {
     "name":"stdout",
     "text":[
      "Дату початку ведення даних: 2019-05-07. \n",
      "Дата кінця ведення данних: 2019-06-21.\n"
     ],
     "output_type":"stream"
    }
   ],
   "metadata":{
    "datalore":{
     "node_id":"oUfWs2D8WbNSIpenQ5X9sy",
     "type":"CODE",
     "hide_input_from_viewers":true,
     "hide_output_from_viewers":true
    }
   }
  },
  {
   "cell_type":"code",
   "source":[
    "# 3. Средня конценрація NO2 для кожного дня тижня і міста\n",
    "\n",
    "df['day'] = df['date.utc'].dt.day_name() # створюємо окремий стовпець з днем тижня\n",
    "\n",
    "mean_by_day = df.pivot_table(values='value', index='city', columns='day', aggfunc='mean') # створюємо таблицю з середнім\n",
    "mean_by_day"
   ],
   "execution_count":40,
   "outputs":[
    
   ],
   "metadata":{
    "datalore":{
     "node_id":"peR4LXiNFdihmiajjIIJJX",
     "type":"CODE",
     "hide_input_from_viewers":true,
     "hide_output_from_viewers":true
    }
   }
  },
  {
   "cell_type":"code",
   "source":[
    "days = ['Monday', 'Tuesday', 'Wednesday', 'Thursday', 'Friday', 'Saturday', 'Sunday']\n",
    "mean_by_day = mean_by_day.reindex(columns=days) # сортуємо стовпці за вірним порядком днів тижня\n",
    "mean_by_day"
   ],
   "execution_count":51,
   "outputs":[
    {
     "data":{
      "text\/html":[
       "<div>\n",
       "<style scoped>\n",
       "    .dataframe tbody tr th:only-of-type {\n",
       "        vertical-align: middle;\n",
       "    }\n",
       "\n",
       "    .dataframe tbody tr th {\n",
       "        vertical-align: top;\n",
       "    }\n",
       "\n",
       "    .dataframe thead th {\n",
       "        text-align: right;\n",
       "    }\n",
       "<\/style>\n",
       "<table border=\"1\" class=\"dataframe\">\n",
       "  <thead>\n",
       "    <tr style=\"text-align: right;\">\n",
       "      <th>day<\/th>\n",
       "      <th>Monday<\/th>\n",
       "      <th>Tuesday<\/th>\n",
       "      <th>Wednesday<\/th>\n",
       "      <th>Thursday<\/th>\n",
       "      <th>Friday<\/th>\n",
       "      <th>Saturday<\/th>\n",
       "      <th>Sunday<\/th>\n",
       "    <\/tr>\n",
       "    <tr>\n",
       "      <th>city<\/th>\n",
       "      <th><\/th>\n",
       "      <th><\/th>\n",
       "      <th><\/th>\n",
       "      <th><\/th>\n",
       "      <th><\/th>\n",
       "      <th><\/th>\n",
       "      <th><\/th>\n",
       "    <\/tr>\n",
       "  <\/thead>\n",
       "  <tbody>\n",
       "    <tr>\n",
       "      <th>Antwerpen<\/th>\n",
       "      <td>27.875000<\/td>\n",
       "      <td>22.214286<\/td>\n",
       "      <td>21.125000<\/td>\n",
       "      <td>27.500000<\/td>\n",
       "      <td>28.400000<\/td>\n",
       "      <td>33.500000<\/td>\n",
       "      <td>21.896552<\/td>\n",
       "    <\/tr>\n",
       "    <tr>\n",
       "      <th>London<\/th>\n",
       "      <td>23.969697<\/td>\n",
       "      <td>24.885714<\/td>\n",
       "      <td>23.460432<\/td>\n",
       "      <td>24.780142<\/td>\n",
       "      <td>26.446809<\/td>\n",
       "      <td>24.977612<\/td>\n",
       "      <td>24.859155<\/td>\n",
       "    <\/tr>\n",
       "    <tr>\n",
       "      <th>Paris<\/th>\n",
       "      <td>24.856250<\/td>\n",
       "      <td>30.999359<\/td>\n",
       "      <td>29.165753<\/td>\n",
       "      <td>28.600690<\/td>\n",
       "      <td>31.617986<\/td>\n",
       "      <td>25.266154<\/td>\n",
       "      <td>23.274306<\/td>\n",
       "    <\/tr>\n",
       "  <\/tbody>\n",
       "<\/table>\n",
       "<\/div>"
      ]
     },
     "metadata":{
      
     },
     "output_type":"display_data"
    }
   ],
   "metadata":{
    "datalore":{
     "node_id":"mUoVxUy8gLYQJF2JEaouVW",
     "type":"CODE",
     "hide_input_from_viewers":true,
     "hide_output_from_viewers":true
    }
   }
  },
  {
   "cell_type":"code",
   "source":[
    "# 4. Знаходимо середнє значення для кожної години\n",
    "\n",
    "df['hour'] = df['date.utc'].dt.hour # створюємо окремий стовпець з годинами вимірювання\n",
    "mean_by_hour = df.pivot_table(values='value', index='city', columns='hour', aggfunc='mean')\n",
    "mean_by_hour"
   ],
   "execution_count":49,
   "outputs":[
    {
     "data":{
      "text\/html":[
       "<div>\n",
       "<style scoped>\n",
       "    .dataframe tbody tr th:only-of-type {\n",
       "        vertical-align: middle;\n",
       "    }\n",
       "\n",
       "    .dataframe tbody tr th {\n",
       "        vertical-align: top;\n",
       "    }\n",
       "\n",
       "    .dataframe thead th {\n",
       "        text-align: right;\n",
       "    }\n",
       "<\/style>\n",
       "<table border=\"1\" class=\"dataframe\">\n",
       "  <thead>\n",
       "    <tr style=\"text-align: right;\">\n",
       "      <th>hour<\/th>\n",
       "      <th>0<\/th>\n",
       "      <th>1<\/th>\n",
       "      <th>2<\/th>\n",
       "      <th>3<\/th>\n",
       "      <th>4<\/th>\n",
       "      <th>5<\/th>\n",
       "      <th>6<\/th>\n",
       "      <th>7<\/th>\n",
       "      <th>8<\/th>\n",
       "      <th>9<\/th>\n",
       "      <th>...<\/th>\n",
       "      <th>14<\/th>\n",
       "      <th>15<\/th>\n",
       "      <th>16<\/th>\n",
       "      <th>17<\/th>\n",
       "      <th>18<\/th>\n",
       "      <th>19<\/th>\n",
       "      <th>20<\/th>\n",
       "      <th>21<\/th>\n",
       "      <th>22<\/th>\n",
       "      <th>23<\/th>\n",
       "    <\/tr>\n",
       "    <tr>\n",
       "      <th>city<\/th>\n",
       "      <th><\/th>\n",
       "      <th><\/th>\n",
       "      <th><\/th>\n",
       "      <th><\/th>\n",
       "      <th><\/th>\n",
       "      <th><\/th>\n",
       "      <th><\/th>\n",
       "      <th><\/th>\n",
       "      <th><\/th>\n",
       "      <th><\/th>\n",
       "      <th><\/th>\n",
       "      <th><\/th>\n",
       "      <th><\/th>\n",
       "      <th><\/th>\n",
       "      <th><\/th>\n",
       "      <th><\/th>\n",
       "      <th><\/th>\n",
       "      <th><\/th>\n",
       "      <th><\/th>\n",
       "      <th><\/th>\n",
       "      <th><\/th>\n",
       "    <\/tr>\n",
       "  <\/thead>\n",
       "  <tbody>\n",
       "    <tr>\n",
       "      <th>Antwerpen<\/th>\n",
       "      <td>24.750000<\/td>\n",
       "      <td>25.838235<\/td>\n",
       "      <td>21.000000<\/td>\n",
       "      <td>21.333333<\/td>\n",
       "      <td>24.833333<\/td>\n",
       "      <td>29.500000<\/td>\n",
       "      <td>33.333333<\/td>\n",
       "      <td>37.666667<\/td>\n",
       "      <td>34.833333<\/td>\n",
       "      <td>27.666667<\/td>\n",
       "      <td>...<\/td>\n",
       "      <td>23.750000<\/td>\n",
       "      <td>29.250000<\/td>\n",
       "      <td>17.500000<\/td>\n",
       "      <td>18.500000<\/td>\n",
       "      <td>25.500000<\/td>\n",
       "      <td>30.750000<\/td>\n",
       "      <td>27.500000<\/td>\n",
       "      <td>25.750000<\/td>\n",
       "      <td>26.500000<\/td>\n",
       "      <td>23.000000<\/td>\n",
       "    <\/tr>\n",
       "    <tr>\n",
       "      <th>London<\/th>\n",
       "      <td>24.292683<\/td>\n",
       "      <td>24.757576<\/td>\n",
       "      <td>21.800000<\/td>\n",
       "      <td>21.536585<\/td>\n",
       "      <td>18.976190<\/td>\n",
       "      <td>19.048780<\/td>\n",
       "      <td>20.976190<\/td>\n",
       "      <td>21.452381<\/td>\n",
       "      <td>21.238095<\/td>\n",
       "      <td>21.857143<\/td>\n",
       "      <td>...<\/td>\n",
       "      <td>25.900000<\/td>\n",
       "      <td>28.682927<\/td>\n",
       "      <td>28.951220<\/td>\n",
       "      <td>30.073171<\/td>\n",
       "      <td>30.121951<\/td>\n",
       "      <td>29.560976<\/td>\n",
       "      <td>29.121951<\/td>\n",
       "      <td>28.853659<\/td>\n",
       "      <td>28.969697<\/td>\n",
       "      <td>28.414634<\/td>\n",
       "    <\/tr>\n",
       "    <tr>\n",
       "      <th>Paris<\/th>\n",
       "      <td>31.683333<\/td>\n",
       "      <td>27.433333<\/td>\n",
       "      <td>25.964286<\/td>\n",
       "      <td>25.234211<\/td>\n",
       "      <td>27.257895<\/td>\n",
       "      <td>35.534211<\/td>\n",
       "      <td>40.102381<\/td>\n",
       "      <td>40.569767<\/td>\n",
       "      <td>36.458140<\/td>\n",
       "      <td>30.076744<\/td>\n",
       "      <td>...<\/td>\n",
       "      <td>17.772093<\/td>\n",
       "      <td>18.854762<\/td>\n",
       "      <td>21.266667<\/td>\n",
       "      <td>23.585714<\/td>\n",
       "      <td>24.204762<\/td>\n",
       "      <td>26.635714<\/td>\n",
       "      <td>29.707143<\/td>\n",
       "      <td>33.237209<\/td>\n",
       "      <td>35.400000<\/td>\n",
       "      <td>34.288095<\/td>\n",
       "    <\/tr>\n",
       "  <\/tbody>\n",
       "<\/table>\n",
       "<p>3 rows × 24 columns<\/p>\n",
       "<\/div>"
      ]
     },
     "metadata":{
      
     },
     "output_type":"display_data"
    }
   ],
   "metadata":{
    "datalore":{
     "node_id":"g49VtoxcSAlZZ3jdoGPMPC",
     "type":"CODE",
     "hide_input_from_viewers":true,
     "hide_output_from_viewers":true
    }
   }
  },
  {
   "cell_type":"code",
   "source":[
    "# Виводимо стовпчикову діаграму\n",
    "\n",
    "import matplotlib.pyplot as plt\n",
    "\n",
    "fig, axs = plt.subplots(1, 3, figsize=(12, 6))\n",
    "fig.suptitle(' заголовок')\n",
    "\n",
    "axs[0].hist(mean_by_hour.loc['Antwerpen'])\n",
    "\n",
    "axs[1].hist(mean_by_hour.loc['London'])\n",
    "\n",
    "axs[2].hist(mean_by_hour.loc['Paris'])\n",
    "\n",
    "\n",
    "# показуємо діаграму\n",
    "plt.show()"
   ],
   "execution_count":60,
   "outputs":[
    {
     "data":{
      "image\/png":"[encoded data removed]"
     },
     "metadata":{
      "image\/png":{
       
      }
     },
     "output_type":"display_data"
    }
   ],
   "metadata":{
    "datalore":{
     "node_id":"pL2HLxfoaWh7HVZn4mXbzV",
     "type":"CODE",
     "hide_input_from_viewers":true,
     "hide_output_from_viewers":true
    }
   }
  }
 ],
 "metadata":{
  "kernelspec":{
   "display_name":"Python",
   "language":"python",
   "name":"python"
  },
  "datalore":{
   "computation_mode":"JUPYTER",
   "package_manager":"pip",
   "base_environment":"default",
   "packages":[
    
   ],
   "report_row_ids":[
    "0bAfvYf450Qve3U0Q4xmFi",
    "17ybqgtutiefDB9wnXWz1r",
    "hZkytzrH05iHYOjVEzCscW",
    "JeNQIJU4bFEBmm1t6OTnvG",
    "Vw6MxV3UKdmmFAg2SMt8uR",
    "z07GfVSZbQg3uC5lHOvCDA",
    "bTmt2oztgq7qZkCTuxft96",
    "4XEdCwlisH6VjjvU2XJGyB",
    "DsgfBfDXDUpvTeZz2UeIoA",
    "mRMp4hYbKQfLO3rtYzz8CV",
    "NTRVzPmzC7H2wvwZKUceRj",
    "uYAZiK5QyYNhhKmDTqBLgZ",
    "605WxSBCDp7dHq15nqzv26",
    "Poi1FeRijTOrTrJ48oSiVb",
    "Lo4iXJ0xTeAKG7AnjbgOv2"
   ],
   "version":3
  }
 },
 "nbformat":4,
 "nbformat_minor":4
}